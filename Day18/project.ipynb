{
 "cells": [
  {
   "cell_type": "markdown",
   "metadata": {},
   "source": [
    "# Точечная Живопись\n",
    "создать имитацию живописи Дэмиена Херста с помощью Python.\n",
    "\n",
    "10 х 10\n",
    "\n",
    "Размер точки: 20\n",
    "\n",
    "Расстояние: 50"
   ]
  },
  {
   "cell_type": "code",
   "execution_count": 1,
   "metadata": {},
   "outputs": [],
   "source": [
    "import turtle\n",
    "import random\n",
    "\n",
    "\n",
    "def random_color():\n",
    "    r = random.randint(0, 255)\n",
    "    g = random.randint(0, 255)\n",
    "    b = random.randint(0, 255)\n",
    "    color = (r, g, b)\n",
    "    return color\n",
    "\n",
    "\n",
    "tim = turtle.Turtle()\n",
    "turtle.colormode(255)\n",
    "tim.speed(0)\n",
    "tim.penup()\n",
    "tim.hideturtle()\n",
    "x = -250\n",
    "y = 250\n",
    "tim.goto(x, y)\n",
    "count = 0\n",
    "for _ in range(100):\n",
    "    tim.dot(20, random_color())\n",
    "    tim.forward(50)\n",
    "    count += 1\n",
    "    if count % 10 == 0:\n",
    "        y -= 50\n",
    "        tim.goto(x, y)\n",
    "\n",
    "screen = turtle.Screen()\n",
    "screen.exitonclick()"
   ]
  },
  {
   "cell_type": "code",
   "execution_count": null,
   "metadata": {},
   "outputs": [],
   "source": []
  }
 ],
 "metadata": {
  "kernelspec": {
   "display_name": "Python 3",
   "language": "python",
   "name": "python3"
  },
  "language_info": {
   "codemirror_mode": {
    "name": "ipython",
    "version": 3
   },
   "file_extension": ".py",
   "mimetype": "text/x-python",
   "name": "python",
   "nbconvert_exporter": "python",
   "pygments_lexer": "ipython3",
   "version": "3.8.5"
  }
 },
 "nbformat": 4,
 "nbformat_minor": 4
}
