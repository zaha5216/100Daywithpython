{
 "cells": [
  {
   "cell_type": "markdown",
   "metadata": {},
   "source": [
    "# Черепашьи испытания\n",
    "Вызов 1\n",
    "\n",
    "Нарисуйте квадрат с помощью Turtle \n",
    "\n",
    "Испытание 2\n",
    "\n",
    "Нарисуйте пунктирную линию\n",
    "\n",
    "Вызов 3\n",
    "Нарисуйте фигуры со следующим количеством сторон: 3, 4, 5, 6, 7, 8, 9, 10.\n",
    "Сделайте цвета случайными\n",
    "Вызов 4\n",
    "\n",
    "Используйте черепаху, чтобы нарисовать случайную прогулку\n",
    "Вызов 5\n",
    "\n",
    "Рисовать# "
   ]
  },
  {
   "cell_type": "code",
   "execution_count": 1,
   "metadata": {},
   "outputs": [],
   "source": [
    "from turtle import Turtle, Screen\n",
    "#Функция рисует прямоугольник 100*90\n",
    "tim = Turtle()\n",
    "\n",
    "for _ in range(4):\n",
    "    tim.pencolor()\n",
    "    tim.fd(100)\n",
    "    tim.left(90)\n",
    "\n",
    "screen = Screen()\n",
    "screen.exitonclick()"
   ]
  },
  {
   "cell_type": "code",
   "execution_count": 1,
   "metadata": {},
   "outputs": [],
   "source": [
    "from turtle import Turtle, Screen\n",
    "\n",
    "tim = Turtle()\n",
    "#Функция рисует разрывистую линию \n",
    "for _ in range(15):\n",
    "    tim.fd(10)\n",
    "    tim.up()\n",
    "    tim.fd(10)\n",
    "    tim.down()\n",
    "\n",
    "screen = Screen()\n",
    "screen.exitonclick()"
   ]
  },
  {
   "cell_type": "code",
   "execution_count": 1,
   "metadata": {},
   "outputs": [],
   "source": [
    "from turtle import Turtle, Screen\n",
    "from random import shuffle\n",
    "\n",
    "\n",
    "def calc_angle(sides):\n",
    "    return 360 / sides\n",
    "\n",
    "\n",
    "def draw_shape(turtle, length, sides, color):\n",
    "    turtle.color(color)\n",
    "    angle = calc_angle(sides)\n",
    "    for _ in range(sides):\n",
    "        turtle.fd(length)\n",
    "        turtle.right(angle)\n",
    "\n",
    "\n",
    "def set_start_position(turtle, x, y):\n",
    "    turtle.up()\n",
    "    turtle.goto(x, y)\n",
    "    turtle.down()\n",
    "\n",
    "# Функция рисует треугльник а затем прибовляет по одной грани пока не получится восьмиугольник\n",
    "def main():\n",
    "    tim = Turtle()\n",
    "    tim.pensize(3)\n",
    "    set_start_position(tim, -150, 150)\n",
    "\n",
    "    colors = ['blue', 'cyan', 'red', 'hot pink',\n",
    "              'gold', 'coral', 'indigo', 'lime']\n",
    "    shuffle(colors)\n",
    "\n",
    "    sides = 3\n",
    "    for color in colors:\n",
    "        draw_shape(tim, 100, sides, color)\n",
    "        sides += 1\n",
    "\n",
    "    screen = Screen()\n",
    "    screen.exitonclick()\n",
    "\n",
    "\n",
    "main()"
   ]
  },
  {
   "cell_type": "code",
   "execution_count": 1,
   "metadata": {},
   "outputs": [
    {
     "ename": "SystemExit",
     "evalue": "0",
     "output_type": "error",
     "traceback": [
      "An exception has occurred, use %tb to see the full traceback.\n",
      "\u001b[0;31mSystemExit\u001b[0m\u001b[0;31m:\u001b[0m 0\n"
     ]
    },
    {
     "name": "stderr",
     "output_type": "stream",
     "text": [
      "/Users/zaha/anaconda3/lib/python3.8/site-packages/IPython/core/interactiveshell.py:3426: UserWarning: To exit: use 'exit', 'quit', or Ctrl-D.\n",
      "  warn(\"To exit: use 'exit', 'quit', or Ctrl-D.\", stacklevel=1)\n"
     ]
    }
   ],
   "source": [
    "from turtle import Turtle, Screen\n",
    "from random import shuffle, choice\n",
    "\n",
    "tim = Turtle()\n",
    "tim.pensize(5)\n",
    "tim.speed(0)\n",
    "\n",
    "colors = ['blue', 'cyan', 'red', 'deep pink',\n",
    "          'gold', 'coral', 'indigo', 'lime']\n",
    "\n",
    "angles = [0, 90, 180, 270]\n",
    "\n",
    "for _ in range(25):\n",
    "    shuffle(colors)\n",
    "    for color in colors:\n",
    "        tim.color(color)\n",
    "        tim.forward(25)\n",
    "        tim.setheading(choice(angles))\n",
    "\n",
    "screen = Screen()\n",
    "screen.exitonclick()"
   ]
  },
  {
   "cell_type": "code",
   "execution_count": 1,
   "metadata": {},
   "outputs": [],
   "source": [
    "import turtle as t\n",
    "import random\n",
    "\n",
    "\n",
    "def random_color():\n",
    "    r = random.randint(0, 255)\n",
    "    g = random.randint(0, 255)\n",
    "    b = random.randint(0, 255)\n",
    "    color = (r, g, b)\n",
    "    return color\n",
    "\n",
    "\n",
    "def draw_spirograph(turtle, gap_size):\n",
    "    rounds = 360 // gap_size\n",
    "    for _ in range(rounds):\n",
    "        turtle.color(random_color())\n",
    "        turtle.circle(100)\n",
    "        turtle.setheading(tim.heading() + gap_size)\n",
    "\n",
    "\n",
    "tim = t.Turtle()\n",
    "t.colormode(255)\n",
    "tim.speed(0)\n",
    "\n",
    "draw_spirograph(tim, 5)\n",
    "\n",
    "\n",
    "\n",
    "screen = t.Screen()\n",
    "screen.exitonclick()"
   ]
  },
  {
   "cell_type": "code",
   "execution_count": null,
   "metadata": {},
   "outputs": [],
   "source": []
  }
 ],
 "metadata": {
  "kernelspec": {
   "display_name": "Python 3",
   "language": "python",
   "name": "python3"
  },
  "language_info": {
   "codemirror_mode": {
    "name": "ipython",
    "version": 3
   },
   "file_extension": ".py",
   "mimetype": "text/x-python",
   "name": "python",
   "nbconvert_exporter": "python",
   "pygments_lexer": "ipython3",
   "version": "3.8.5"
  }
 },
 "nbformat": 4,
 "nbformat_minor": 4
}
