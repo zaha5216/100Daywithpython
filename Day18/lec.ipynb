{
 "cells": [
  {
   "cell_type": "code",
   "execution_count": 1,
   "metadata": {},
   "outputs": [],
   "source": [
    "from turtle import Turtle, Screen\n",
    "\n",
    "timmy = Turtle()\n",
    "timmy.shape('turtle')\n",
    "timmy.color('red')\n",
    "timmy.forward(150)\n",
    "timmy.right(170)\n",
    "\n",
    "screen = Screen()\n",
    "screen.exitonclick()\n"
   ]
  },
  {
   "cell_type": "code",
   "execution_count": 3,
   "metadata": {},
   "outputs": [
    {
     "name": "stdout",
     "output_type": "stream",
     "text": [
      "Triceraton\n"
     ]
    }
   ],
   "source": [
    "# import turtle\n",
    "#\n",
    "# tim = turtle.Turtle()\n",
    "\n",
    "# from turtle import Turtle\n",
    "#\n",
    "# tim = Turtle()\n",
    "# tom = Turtle()\n",
    "# terry = Turtle()\n",
    "\n",
    "# from turtle import *\n",
    "# from random import *\n",
    "#\n",
    "# print(choice([1, 2, 3]))\n",
    "# forward(100)\n",
    "\n",
    "import turtle as t\n",
    "import heroes\n",
    "\n",
    "tim = t.Turtle()\n",
    "print(heroes.gen())"
   ]
  },
  {
   "cell_type": "code",
   "execution_count": 1,
   "metadata": {},
   "outputs": [
    {
     "name": "stdout",
     "output_type": "stream",
     "text": [
      "1\n",
      "3\n",
      "8\n",
      "[1, 3, 8]\n"
     ]
    }
   ],
   "source": [
    "my_tuple = (1, 3, 8)\n",
    "print(my_tuple[0])\n",
    "print(my_tuple[1])\n",
    "print(my_tuple[2])\n",
    "\n",
    "# my_tuple[2] = 12  # TypeError\n",
    "print(list(my_tuple))"
   ]
  },
  {
   "cell_type": "code",
   "execution_count": 2,
   "metadata": {},
   "outputs": [],
   "source": [
    "import turtle as t\n",
    "import random\n",
    "\n",
    "tim = t.Turtle()\n",
    "t.colormode(255)\n",
    "\n",
    "\n",
    "def random_color():\n",
    "    r = random.randint(0, 255)\n",
    "    g = random.randint(0, 255)\n",
    "    b = random.randint(0, 255)\n",
    "    color = (r, g, b)\n",
    "    return color\n",
    "\n",
    "\n",
    "directions = (0, 90, 180, 270)\n",
    "tim.pensize(15)\n",
    "tim.speed(0)\n",
    "\n",
    "for _ in range(200):\n",
    "    tim.color(random_color())\n",
    "    tim.forward(30)\n",
    "    tim.setheading(random.choice(directions))\n",
    "\n",
    "screen = t.Screen()\n",
    "screen.exitonclick()"
   ]
  },
  {
   "cell_type": "code",
   "execution_count": null,
   "metadata": {},
   "outputs": [],
   "source": []
  }
 ],
 "metadata": {
  "kernelspec": {
   "display_name": "Python 3",
   "language": "python",
   "name": "python3"
  },
  "language_info": {
   "codemirror_mode": {
    "name": "ipython",
    "version": 3
   },
   "file_extension": ".py",
   "mimetype": "text/x-python",
   "name": "python",
   "nbconvert_exporter": "python",
   "pygments_lexer": "ipython3",
   "version": "3.8.5"
  }
 },
 "nbformat": 4,
 "nbformat_minor": 4
}
