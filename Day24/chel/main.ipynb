{
 "cells": [
  {
   "cell_type": "markdown",
   "metadata": {},
   "source": [
    "# Сделайте так, чтобы игра змейка считывала рекорды из файла и сохраняла рекорды в файл.\n",
    "\n"
   ]
  },
  {
   "cell_type": "code",
   "execution_count": null,
   "metadata": {},
   "outputs": [],
   "source": [
    "from turtle import Screen\n",
    "from snake import Snake\n",
    "from food import Food\n",
    "from scoreboard import Scoreboard\n",
    "import time\n",
    "\n",
    "screen = Screen()\n",
    "screen.setup(width=600, height=600)\n",
    "screen.bgcolor(\"black\")\n",
    "screen.title(\"My Snake Game\")\n",
    "screen.tracer(0)\n",
    "\n",
    "snake = Snake()\n",
    "food = Food()\n",
    "scoreboard = Scoreboard()\n",
    "\n",
    "screen.listen()\n",
    "screen.onkey(snake.up, \"Up\")\n",
    "screen.onkey(snake.down, \"Down\")\n",
    "screen.onkey(snake.left, \"Left\")\n",
    "screen.onkey(snake.right, \"Right\")\n",
    "\n",
    "game_is_on = True\n",
    "while game_is_on:\n",
    "    screen.update()\n",
    "    time.sleep(0.1)\n",
    "    snake.move()\n",
    "\n",
    "    # Detect collision with food.\n",
    "    if snake.head.distance(food) < 15:\n",
    "        food.refresh()\n",
    "        snake.extend()\n",
    "        scoreboard.increase_score()\n",
    "\n",
    "    # Detect collision with wall.\n",
    "    if abs(snake.head.xcor()) > 280 or abs(snake.head.ycor()) > 280:\n",
    "        scoreboard.reset()\n",
    "        snake.reset()\n",
    "\n",
    "    # Detect collision with tail.\n",
    "    for segment in snake.segments:\n",
    "        if segment == snake.head:\n",
    "            pass\n",
    "        elif snake.head.distance(segment) < 10:\n",
    "            scoreboard.reset()\n",
    "\n",
    "\n",
    "screen.exitonclick()"
   ]
  },
  {
   "cell_type": "code",
   "execution_count": null,
   "metadata": {},
   "outputs": [],
   "source": []
  }
 ],
 "metadata": {
  "kernelspec": {
   "display_name": "Python 3",
   "language": "python",
   "name": "python3"
  },
  "language_info": {
   "codemirror_mode": {
    "name": "ipython",
    "version": 3
   },
   "file_extension": ".py",
   "mimetype": "text/x-python",
   "name": "python",
   "nbconvert_exporter": "python",
   "pygments_lexer": "ipython3",
   "version": "3.8.5"
  }
 },
 "nbformat": 4,
 "nbformat_minor": 4
}
