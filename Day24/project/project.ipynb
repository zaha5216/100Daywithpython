{
 "cells": [
  {
   "cell_type": "markdown",
   "metadata": {},
   "source": [
    "# Слияние писем\n",
    "\n",
    "Создайте букву, используя start_letter.docx для каждого имени в поле «Заменить заполнитель» на настоящее имя.\n",
    "\n",
    "Сохраните письма в папке .\"invited_names.txt\"name\"ReadyToSend\"\n",
    "\n",
    "Подсказка 1:\n",
    "Этот метод поможет вам: file.readlines\n",
    "\n",
    "Подсказка 2:\n",
    "Этот метод также поможет вам: string.replace\n",
    "\n",
    "Подсказка 3:\n",
    "Этот метод поможет вам: string.strip"
   ]
  },
  {
   "cell_type": "code",
   "execution_count": 6,
   "metadata": {},
   "outputs": [],
   "source": [
    "with open('./Input/Letters/starting_letter.docx') as file:\n",
    "    email = file.readlines()\n",
    "\n",
    "with open('./Input/Names/invited_names.txt') as file:\n",
    "    names = file.readlines()\n",
    "\n",
    "old_name = '[name]'\n",
    "for name in names:\n",
    "    name = name.strip()\n",
    "    email[0] = email[0].replace(f'{old_name}', name)\n",
    "    with open(f'./Output/ReadyToSend/letter_for_{name}.docx', mode='w') as file:\n",
    "        file.writelines(email)\n",
    "    old_name = name"
   ]
  },
  {
   "cell_type": "code",
   "execution_count": null,
   "metadata": {},
   "outputs": [],
   "source": []
  }
 ],
 "metadata": {
  "kernelspec": {
   "display_name": "Python 3",
   "language": "python",
   "name": "python3"
  },
  "language_info": {
   "codemirror_mode": {
    "name": "ipython",
    "version": 3
   },
   "file_extension": ".py",
   "mimetype": "text/x-python",
   "name": "python",
   "nbconvert_exporter": "python",
   "pygments_lexer": "ipython3",
   "version": "3.8.5"
  }
 },
 "nbformat": 4,
 "nbformat_minor": 4
}
