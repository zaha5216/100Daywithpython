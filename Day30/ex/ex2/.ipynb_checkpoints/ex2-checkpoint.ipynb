{
 "cells": [
  {
   "cell_type": "markdown",
   "metadata": {},
   "source": [
    "# Обработка ошибок фонетического алфавита НАТО\n",
    "Проблема:\n",
    "\n",
    "Когда пользователь вводит строку, содержащую символы не из английского алфавита, программа выдает ошибку.\n",
    "\n",
    "Инструкции:\n",
    "\n",
    "Устраните эту проблему, предложив пользователю ввести новое слово при возникновении этой ошибки."
   ]
  },
  {
   "cell_type": "code",
   "execution_count": 2,
   "metadata": {},
   "outputs": [
    {
     "name": "stdout",
     "output_type": "stream",
     "text": [
      "Enter an word: РВирома\n",
      "Sorry, only letter in the english alphabet, please.\n",
      "Enter an word: длвталват\n",
      "Sorry, only letter in the english alphabet, please.\n",
      "Enter an word: ьтдтвя\n",
      "Sorry, only letter in the english alphabet, please.\n",
      "Enter an word: relacx\n",
      "The NATO code for RELACX is:\n",
      "Romeo - Echo - Lima - Alfa - Charlie - X-ray\n"
     ]
    }
   ],
   "source": [
    "import pandas\n",
    "\n",
    "data_frame = pandas.read_csv('nato_phonetic_alphabet.csv')\n",
    "\n",
    "nato_dict = {row.letter: row.code for (index, row) in data_frame.iterrows()}\n",
    "\n",
    "while True:\n",
    "    word = input('Enter an word: ').upper()\n",
    "    try:\n",
    "        spelling_word = [nato_dict[letter] for letter in word]\n",
    "    except KeyError:\n",
    "        print(\"Sorry, only letter in the english alphabet, please.\")\n",
    "    else:\n",
    "        break\n",
    "\n",
    "print(f'The NATO code for {word} is:')\n",
    "print(' - '.join(spelling_word))"
   ]
  },
  {
   "cell_type": "code",
   "execution_count": null,
   "metadata": {},
   "outputs": [],
   "source": []
  }
 ],
 "metadata": {
  "kernelspec": {
   "display_name": "Python 3",
   "language": "python",
   "name": "python3"
  },
  "language_info": {
   "codemirror_mode": {
    "name": "ipython",
    "version": 3
   },
   "file_extension": ".py",
   "mimetype": "text/x-python",
   "name": "python",
   "nbconvert_exporter": "python",
   "pygments_lexer": "ipython3",
   "version": "3.8.5"
  }
 },
 "nbformat": 4,
 "nbformat_minor": 4
}
