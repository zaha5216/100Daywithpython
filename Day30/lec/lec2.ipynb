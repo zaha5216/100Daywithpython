{
 "cells": [
  {
   "cell_type": "code",
   "execution_count": 1,
   "metadata": {},
   "outputs": [
    {
     "name": "stdout",
     "output_type": "stream",
     "text": [
      "Name: Alex\n",
      "Favorite Color: black\n",
      "Favorite Number: 18\n",
      "<class 'dict'>\n",
      "{'Alex': {'favorite color': 'black', 'favorite number': 18}}\n"
     ]
    }
   ],
   "source": [
    "import json\n",
    "\n",
    "## Программа создёт файл который хранит списоск в формате json\n",
    "def write_json(name, fav_color, fav_number):\n",
    "    data = {\n",
    "        name: {\n",
    "            \"favorite color\": fav_color,\n",
    "            \"favorite number\": fav_number\n",
    "        }\n",
    "    }\n",
    "    with open(\"data.json\", \"w\") as file:\n",
    "        json.dump(data, file, indent=4)\n",
    "\n",
    "\n",
    "def read_json():\n",
    "    with open(\"data.json\") as file:\n",
    "        data = json.load(file)\n",
    "        print(type(data))\n",
    "    return data\n",
    "\n",
    "\n",
    "def main():\n",
    "    name = input(\"Name: \")\n",
    "    fav_color = input(\"Favorite Color: \")\n",
    "    fav_number = int(input(\"Favorite Number: \"))\n",
    "    write_json(name, fav_color, fav_number)\n",
    "    print(read_json())\n",
    "\n",
    "\n",
    "main()"
   ]
  },
  {
   "cell_type": "code",
   "execution_count": 4,
   "metadata": {},
   "outputs": [
    {
     "name": "stdout",
     "output_type": "stream",
     "text": [
      "Height: 1\n",
      "Weight: 2\n",
      "2.0\n"
     ]
    }
   ],
   "source": [
    "height = float(input(\"Height: \"))\n",
    "weight = int(input(\"Weight: \"))\n",
    "\n",
    "if height > 3:\n",
    "    raise ValueError(\"Human height should not be over 3 meters.\")\n",
    "\n",
    "bmi = weight / height ** 2\n",
    "print(bmi)"
   ]
  },
  {
   "cell_type": "code",
   "execution_count": null,
   "metadata": {},
   "outputs": [],
   "source": []
  }
 ],
 "metadata": {
  "kernelspec": {
   "display_name": "Python 3",
   "language": "python",
   "name": "python3"
  },
  "language_info": {
   "codemirror_mode": {
    "name": "ipython",
    "version": 3
   },
   "file_extension": ".py",
   "mimetype": "text/x-python",
   "name": "python",
   "nbconvert_exporter": "python",
   "pygments_lexer": "ipython3",
   "version": "3.8.5"
  }
 },
 "nbformat": 4,
 "nbformat_minor": 4
}
