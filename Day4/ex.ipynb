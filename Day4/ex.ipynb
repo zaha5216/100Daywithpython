{
 "cells": [
  {
   "cell_type": "markdown",
   "metadata": {},
   "source": [
    "#                               Орел или решка\n",
    "Написать программу для подбрасывания виртуальной монеты. Он случайным образом сообщит пользователю «Орел» или «Решка».\n",
    "\n",
    "Важно : первая буква должна быть написана с заглавной буквы и написана точно так же, как в примере, например, «Голова», а не «Голова».\n",
    "\n",
    "Есть много способов сделать это. Но чтобы попрактиковаться в том, что мы узнали в прошлом уроке, вы должны сгенерировать случайное число, 0 или 1. Затем используйте это число для распечатки орла или решки.\n",
    "\n",
    "например, 1 означает, что головы 0 означает решки"
   ]
  },
  {
   "cell_type": "code",
   "execution_count": 9,
   "metadata": {},
   "outputs": [
    {
     "name": "stdout",
     "output_type": "stream",
     "text": [
      "Tails\n"
     ]
    }
   ],
   "source": [
    "import random\n",
    "\n",
    "coin = random.randint(0, 1)\n",
    "\n",
    "if coin == 0:\n",
    "    print('Tails')\n",
    "else:\n",
    "    print('Heads')"
   ]
  },
  {
   "cell_type": "markdown",
   "metadata": {},
   "source": [
    "# Кто платит\n",
    "Написать программу, которая будет выбирать случайное имя из списка имен. Выбранный человек должен будет оплатить всеобщий счет за еду.\n",
    "\n",
    "Важно : вам не разрешено использовать эту choice()функцию.\n",
    "\n",
    "Строка 2 разбивает строку names_stringна отдельные имена и помещает их в список с именем names. Чтобы это сработало, вы должны ввести все имена как имена, разделенные пробелом. например, имя1 имя2 имя3"
   ]
  },
  {
   "cell_type": "code",
   "execution_count": 15,
   "metadata": {},
   "outputs": [
    {
     "name": "stdout",
     "output_type": "stream",
     "text": [
      "Give me everybody's names, separated by a space. Серега Захара Фот Даня\n",
      "Серега is going to buy the meal today!\n"
     ]
    }
   ],
   "source": [
    "import random\n",
    "\n",
    "names_string = input(\"Give me everybody's names, separated by a space. \")\n",
    "names = names_string.split()\n",
    "index = random.randint(0, len(names) - 1)\n",
    "print(f'{names[index]} is going to buy the meal today!')"
   ]
  },
  {
   "cell_type": "code",
   "execution_count": 34,
   "metadata": {},
   "outputs": [
    {
     "name": "stdout",
     "output_type": "stream",
     "text": [
      "['⬜️', '⬜️', '⬜️']\n",
      "['⬜️', '⬜️', '⬜️']\n",
      "['⬜️', '⬜️', '⬜️']\n",
      "Where do you want to put the treasure? 21\n",
      "['⬜️', 'X', '⬜️']\n",
      "['⬜️', '⬜️', '⬜️']\n",
      "['⬜️', '⬜️', '⬜️']\n"
     ]
    }
   ],
   "source": [
    "row1 = [\"⬜️\",\"⬜️\",\"⬜️\"]\n",
    "row2 = [\"⬜️\",\"⬜️\",\"⬜️\"]\n",
    "row3 = [\"⬜️\",\"⬜️\",\"⬜️\"]\n",
    "map_ = [row1, row2, row3]\n",
    "print(f\"{row1}\\n{row2}\\n{row3}\")\n",
    "position = input(\"Where do you want to put the treasure? \")\n",
    "\n",
    "# Write your code below this row\n",
    "y = int(position[0]) - 1\n",
    "x = int(position[1]) - 1\n",
    "map_[x][y] = 'X'\n",
    "\n",
    "# Don't change the code below\n",
    "print(f\"{row1}\\n{row2}\\n{row3}\")"
   ]
  },
  {
   "cell_type": "code",
   "execution_count": null,
   "metadata": {},
   "outputs": [],
   "source": []
  },
  {
   "cell_type": "code",
   "execution_count": null,
   "metadata": {},
   "outputs": [],
   "source": []
  }
 ],
 "metadata": {
  "kernelspec": {
   "display_name": "Python 3",
   "language": "python",
   "name": "python3"
  },
  "language_info": {
   "codemirror_mode": {
    "name": "ipython",
    "version": 3
   },
   "file_extension": ".py",
   "mimetype": "text/x-python",
   "name": "python",
   "nbconvert_exporter": "python",
   "pygments_lexer": "ipython3",
   "version": "3.8.5"
  }
 },
 "nbformat": 4,
 "nbformat_minor": 4
}
