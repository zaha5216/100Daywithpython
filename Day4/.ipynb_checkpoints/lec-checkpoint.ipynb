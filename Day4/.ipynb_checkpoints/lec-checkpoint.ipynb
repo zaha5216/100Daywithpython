{
 "cells": [
  {
   "cell_type": "code",
   "execution_count": 3,
   "metadata": {},
   "outputs": [],
   "source": [
    "import random\n",
    "import my_module"
   ]
  },
  {
   "cell_type": "code",
   "execution_count": 5,
   "metadata": {},
   "outputs": [
    {
     "name": "stdout",
     "output_type": "stream",
     "text": [
      "3\n",
      "\n"
     ]
    }
   ],
   "source": [
    "random_integer = random.randint(1, 10)\n",
    "print(random_integer)\n",
    "print()"
   ]
  },
  {
   "cell_type": "code",
   "execution_count": 6,
   "metadata": {},
   "outputs": [
    {
     "name": "stdout",
     "output_type": "stream",
     "text": [
      "3.141592653589793\n",
      "\n"
     ]
    }
   ],
   "source": [
    "print(my_module.pi)\n",
    "print()"
   ]
  },
  {
   "cell_type": "code",
   "execution_count": 7,
   "metadata": {},
   "outputs": [
    {
     "name": "stdout",
     "output_type": "stream",
     "text": [
      "0.23529704119097383\n",
      "1.1764852059548692\n",
      "\n"
     ]
    }
   ],
   "source": [
    "random_float = random.random()\n",
    "print(random_float)\n",
    "print(random_float * 5)\n",
    "print()"
   ]
  },
  {
   "cell_type": "code",
   "execution_count": 8,
   "metadata": {},
   "outputs": [
    {
     "name": "stdout",
     "output_type": "stream",
     "text": [
      "Your love score is 6\n"
     ]
    }
   ],
   "source": [
    "love_score = random.randint(1, 100)\n",
    "print(f\"Your love score is {love_score}\")"
   ]
  },
  {
   "cell_type": "code",
   "execution_count": 9,
   "metadata": {},
   "outputs": [],
   "source": [
    "states_of_america = [\"Delaware\", \"Pennsylvania\", \"New Jersey\", \"Georgia\",\n",
    "                     \"Connecticut\", \"Massachusetts\", \"Maryland\",\n",
    "                     \"South Carolina\", \"New Hampshire\", \"Virginia\", \"New York\",\n",
    "                     \"North Carolina\", \"Rhode Island\", \"Vermont\", \"Kentucky\",\n",
    "                     \"Tennessee\", \"Ohio\", \"Louisiana\", \"Indiana\",\n",
    "                     \"Mississippi\", \"Illinois\", \"Alabama\", \"Maine\", \"Missouri\",\n",
    "                     \"Arkansas\", \"Michigan\", \"Florida\", \"Texas\", \"Iowa\",\n",
    "                     \"Wisconsin\", \"California\", \"Minnesota\", \"Oregon\",\n",
    "                     \"Kansas\", \"West Virginia\", \"Nevada\", \"Nebraska\",\n",
    "                     \"Colorado\", \"North Dakota\", \"South Dakota\", \"Montana\",\n",
    "                     \"Washington\", \"Idaho\", \"Wyoming\", \"Utah\", \"Oklahoma\",\n",
    "                     \"New Mexico\", \"Arizona\", \"Alaska\", \"Hawaii\"]"
   ]
  },
  {
   "cell_type": "code",
   "execution_count": 11,
   "metadata": {},
   "outputs": [
    {
     "name": "stdout",
     "output_type": "stream",
     "text": [
      "Delaware\n",
      "Vermont\n",
      "New Jersey\n",
      "\n"
     ]
    }
   ],
   "source": [
    "print(states_of_america[0])\n",
    "print(states_of_america[13])\n",
    "print(states_of_america[2])\n",
    "print()"
   ]
  },
  {
   "cell_type": "code",
   "execution_count": 12,
   "metadata": {},
   "outputs": [
    {
     "name": "stdout",
     "output_type": "stream",
     "text": [
      "Hawaii\n",
      "Alaska\n",
      "Arizona\n",
      "\n"
     ]
    }
   ],
   "source": [
    "print(states_of_america[-1])\n",
    "print(states_of_america[-2])\n",
    "print(states_of_america[-3])\n",
    "print()"
   ]
  },
  {
   "cell_type": "code",
   "execution_count": 14,
   "metadata": {},
   "outputs": [
    {
     "name": "stdout",
     "output_type": "stream",
     "text": [
      "['Delaware', 'Pennsylvania', 'Pencilvania', 'Georgia', 'Connecticut', 'Massachusetts', 'Maryland', 'South Carolina', 'New Hampshire', 'Virginia', 'New York', 'North Carolina', 'Rhode Island', 'Vermont', 'Kentucky', 'Tennessee', 'Ohio', 'Louisiana', 'Indiana', 'Mississippi', 'Illinois', 'Alabama', 'Maine', 'Missouri', 'Arkansas', 'Michigan', 'Florida', 'Texas', 'Iowa', 'Wisconsin', 'California', 'Minnesota', 'Oregon', 'Kansas', 'West Virginia', 'Nevada', 'Nebraska', 'Colorado', 'North Dakota', 'South Dakota', 'Montana', 'Washington', 'Idaho', 'Wyoming', 'Utah', 'Oklahoma', 'New Mexico', 'Arizona', 'Alaska', 'Hawaii']\n",
      "\n"
     ]
    }
   ],
   "source": [
    "# Добавляет новый элемент в список с индексом 2\n",
    "states_of_america[2] = \"Pencilvania\"\n",
    "print(states_of_america)\n",
    "print()"
   ]
  },
  {
   "cell_type": "code",
   "execution_count": 16,
   "metadata": {},
   "outputs": [
    {
     "name": "stdout",
     "output_type": "stream",
     "text": [
      "['Delaware', 'Pennsylvania', 'Pencilvania', 'Georgia', 'Connecticut', 'Massachusetts', 'Maryland', 'South Carolina', 'New Hampshire', 'Virginia', 'New York', 'North Carolina', 'Rhode Island', 'Vermont', 'Kentucky', 'Tennessee', 'Ohio', 'Louisiana', 'Indiana', 'Mississippi', 'Illinois', 'Alabama', 'Maine', 'Missouri', 'Arkansas', 'Michigan', 'Florida', 'Texas', 'Iowa', 'Wisconsin', 'California', 'Minnesota', 'Oregon', 'Kansas', 'West Virginia', 'Nevada', 'Nebraska', 'Colorado', 'North Dakota', 'South Dakota', 'Montana', 'Washington', 'Idaho', 'Wyoming', 'Utah', 'Oklahoma', 'New Mexico', 'Arizona', 'Alaska', 'Hawaii', 'Angelaland', 'Angelaland']\n",
      "\n"
     ]
    }
   ],
   "source": [
    "# Добавляет новый элемент в конец списка\n",
    "states_of_america.append(\"Angelaland\")\n",
    "print(states_of_america)\n",
    "print()"
   ]
  },
  {
   "cell_type": "code",
   "execution_count": 18,
   "metadata": {},
   "outputs": [
    {
     "name": "stdout",
     "output_type": "stream",
     "text": [
      "['Delaware', 'Pennsylvania', 'Pencilvania', 'Georgia', 'Connecticut', 'Massachusetts', 'Maryland', 'South Carolina', 'New Hampshire', 'Virginia', 'New York', 'North Carolina', 'Rhode Island', 'Vermont', 'Kentucky', 'Tennessee', 'Ohio', 'Louisiana', 'Indiana', 'Mississippi', 'Illinois', 'Alabama', 'Maine', 'Missouri', 'Arkansas', 'Michigan', 'Florida', 'Texas', 'Iowa', 'Wisconsin', 'California', 'Minnesota', 'Oregon', 'Kansas', 'West Virginia', 'Nevada', 'Nebraska', 'Colorado', 'North Dakota', 'South Dakota', 'Montana', 'Washington', 'Idaho', 'Wyoming', 'Utah', 'Oklahoma', 'New Mexico', 'Arizona', 'Alaska', 'Hawaii', 'Angelaland', 'Angelaland', 'Paulaland', 'Jack Bauer Land', 'Paulaland', 'Zakhar Land']\n",
      "\n"
     ]
    }
   ],
   "source": [
    "states_of_america.extend([\"Paulaland\", \"Zakhar Land\"])\n",
    "print(states_of_america)\n",
    "print()"
   ]
  },
  {
   "cell_type": "code",
   "execution_count": 19,
   "metadata": {},
   "outputs": [],
   "source": [
    "states_of_america = [\"Delaware\", \"Pennsylvania\", \"New Jersey\", \"Georgia\",\n",
    "                     \"Connecticut\", \"Massachusetts\", \"Maryland\",\n",
    "                     \"South Carolina\", \"New Hampshire\", \"Virginia\", \"New York\",\n",
    "                     \"North Carolina\", \"Rhode Island\", \"Vermont\", \"Kentucky\",\n",
    "                     \"Tennessee\", \"Ohio\", \"Louisiana\", \"Indiana\",\n",
    "                     \"Mississippi\", \"Illinois\", \"Alabama\", \"Maine\", \"Missouri\",\n",
    "                     \"Arkansas\", \"Michigan\", \"Florida\", \"Texas\", \"Iowa\",\n",
    "                     \"Wisconsin\", \"California\", \"Minnesota\", \"Oregon\",\n",
    "                     \"Kansas\", \"West Virginia\", \"Nevada\", \"Nebraska\",\n",
    "                     \"Colorado\", \"North Dakota\", \"South Dakota\", \"Montana\",\n",
    "                     \"Washington\", \"Idaho\", \"Wyoming\", \"Utah\", \"Oklahoma\",\n",
    "                     \"New Mexico\", \"Arizona\", \"Alaska\", \"Hawaii\"]"
   ]
  },
  {
   "cell_type": "code",
   "execution_count": 21,
   "metadata": {},
   "outputs": [
    {
     "name": "stdout",
     "output_type": "stream",
     "text": [
      "50\n"
     ]
    }
   ],
   "source": [
    "#Фуннция len считает элементы списка\n",
    "print(len(states_of_america))"
   ]
  },
  {
   "cell_type": "code",
   "execution_count": 23,
   "metadata": {},
   "outputs": [
    {
     "name": "stdout",
     "output_type": "stream",
     "text": [
      "Hawaii\n",
      "\n"
     ]
    }
   ],
   "source": [
    "#Выводит. последний элемент списка т.к. индексакция начинается с 0\n",
    "print(states_of_america[49])\n",
    "print()"
   ]
  },
  {
   "cell_type": "code",
   "execution_count": 24,
   "metadata": {},
   "outputs": [],
   "source": [
    "dirty_dozen = [\"Strawberries\", \"Spinach\", \"Kale\", \"Nectarines\",\n",
    "               \"Apples\", \"Grapes\", \"Peaches\", \"Cherries\", \"Pears\",\n",
    "               \"Tomatoes\", \"Celery\", \"Potatoes\"]"
   ]
  },
  {
   "cell_type": "code",
   "execution_count": 25,
   "metadata": {},
   "outputs": [
    {
     "name": "stdout",
     "output_type": "stream",
     "text": [
      "['Strawberries', 'Spinach', 'Kale', 'Nectarines', 'Apples', 'Grapes', 'Peaches', 'Cherries', 'Pears', 'Tomatoes', 'Celery', 'Potatoes']\n",
      "\n"
     ]
    }
   ],
   "source": [
    "print(dirty_dozen)\n",
    "print()"
   ]
  },
  {
   "cell_type": "code",
   "execution_count": 26,
   "metadata": {},
   "outputs": [
    {
     "name": "stdout",
     "output_type": "stream",
     "text": [
      "[['Strawberries', 'Nectarines', 'Apples', 'Grapes', 'Peaches', 'Cherries', 'Pears'], ['Spinach', 'Kale', 'Tomatoes', 'Celery', 'Potatoes']]\n"
     ]
    }
   ],
   "source": [
    "fruits =[\"Strawberries\", \"Nectarines\", \"Apples\",\n",
    "         \"Grapes\", \"Peaches\", \"Cherries\", \"Pears\"]\n",
    "vegetables = [\"Spinach\", \"Kale\", \"Tomatoes\", \"Celery\", \"Potatoes\"]\n",
    "dirty_dozen = [fruits, vegetables]\n",
    "print(dirty_dozen)"
   ]
  },
  {
   "cell_type": "code",
   "execution_count": null,
   "metadata": {},
   "outputs": [],
   "source": []
  }
 ],
 "metadata": {
  "kernelspec": {
   "display_name": "Python 3",
   "language": "python",
   "name": "python3"
  },
  "language_info": {
   "codemirror_mode": {
    "name": "ipython",
    "version": 3
   },
   "file_extension": ".py",
   "mimetype": "text/x-python",
   "name": "python",
   "nbconvert_exporter": "python",
   "pygments_lexer": "ipython3",
   "version": "3.8.5"
  }
 },
 "nbformat": 4,
 "nbformat_minor": 4
}
