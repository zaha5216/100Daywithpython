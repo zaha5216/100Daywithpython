{
 "cells": [
  {
   "cell_type": "markdown",
   "metadata": {},
   "source": [
    "# Камень-ножницы-бумага"
   ]
  },
  {
   "cell_type": "code",
   "execution_count": 9,
   "metadata": {},
   "outputs": [
    {
     "name": "stdout",
     "output_type": "stream",
     "text": [
      "What do you choose? 0-rock, 1-paper, 2-scissors: 1\n",
      "You chose:\n",
      "\n",
      "    _______\n",
      "---'   ____)____\n",
      "          ______)\n",
      "          _______)\n",
      "         _______)\n",
      "---.__________)\n",
      "\n",
      "Computer chose:\n",
      "\n",
      "    _______\n",
      "---'   ____)\n",
      "      (_____)\n",
      "      (_____)\n",
      "      (____)\n",
      "---.__(___)\n",
      "\n",
      "You win!\n"
     ]
    }
   ],
   "source": [
    "import random\n",
    "\n",
    "rock = '''\n",
    "    _______\n",
    "---'   ____)\n",
    "      (_____)\n",
    "      (_____)\n",
    "      (____)\n",
    "---.__(___)\n",
    "'''\n",
    "\n",
    "paper = '''\n",
    "    _______\n",
    "---'   ____)____\n",
    "          ______)\n",
    "          _______)\n",
    "         _______)\n",
    "---.__________)\n",
    "'''\n",
    "\n",
    "scissors = '''\n",
    "    _______\n",
    "---'   ____)____\n",
    "          ______)\n",
    "       __________)\n",
    "      (____)\n",
    "---.__(___)\n",
    "'''\n",
    "\n",
    "possibilities = [rock, paper, scissors]\n",
    "\n",
    "your_idx = int(input('What do you choose? 0-rock, 1-paper, 2-scissors: '))\n",
    "pc_idx = random.randint(0, len(possibilities) - 1)\n",
    "\n",
    "if 0 <= your_idx <= 2:\n",
    "    print('You chose:')\n",
    "    print(possibilities[your_idx])\n",
    "    print('Computer chose:')\n",
    "    print(possibilities[pc_idx])\n",
    "\n",
    "    if your_idx == pc_idx:\n",
    "        print(\"It's a draw!\")\n",
    "    elif your_idx == 0:\n",
    "        if pc_idx == 1:\n",
    "            print('You lose!')\n",
    "        else:\n",
    "            print('You win!')\n",
    "    elif your_idx == 1:\n",
    "        if pc_idx == 0:\n",
    "            print('You win!')\n",
    "        else:\n",
    "            print('You lose!')\n",
    "    else:\n",
    "        if pc_idx == 0:\n",
    "            print('You lose!')\n",
    "        else:\n",
    "            print('You win!')\n",
    "else:\n",
    "    print('Invalid choice')"
   ]
  },
  {
   "cell_type": "code",
   "execution_count": null,
   "metadata": {},
   "outputs": [],
   "source": []
  }
 ],
 "metadata": {
  "kernelspec": {
   "display_name": "Python 3",
   "language": "python",
   "name": "python3"
  },
  "language_info": {
   "codemirror_mode": {
    "name": "ipython",
    "version": 3
   },
   "file_extension": ".py",
   "mimetype": "text/x-python",
   "name": "python",
   "nbconvert_exporter": "python",
   "pygments_lexer": "ipython3",
   "version": "3.8.5"
  }
 },
 "nbformat": 4,
 "nbformat_minor": 4
}
