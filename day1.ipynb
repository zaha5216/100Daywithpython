{
 "cells": [
  {
   "cell_type": "code",
   "execution_count": 1,
   "metadata": {},
   "outputs": [
    {
     "name": "stdout",
     "output_type": "stream",
     "text": [
      "Hello world\n"
     ]
    }
   ],
   "source": [
    "print(\"Hello world\")"
   ]
  },
  {
   "cell_type": "code",
   "execution_count": 3,
   "metadata": {},
   "outputs": [
    {
     "name": "stdout",
     "output_type": "stream",
     "text": [
      "Hello world\n",
      "Hello world\n"
     ]
    }
   ],
   "source": [
    "# \\n переносит строку\n",
    "print(\"Hello world\\nHello world\")"
   ]
  },
  {
   "cell_type": "code",
   "execution_count": 8,
   "metadata": {},
   "outputs": [
    {
     "name": "stdout",
     "output_type": "stream",
     "text": [
      "Hello Zaha\n"
     ]
    }
   ],
   "source": [
    "print(\"Hello\" + \" \" + \"Zaha\")"
   ]
  },
  {
   "cell_type": "code",
   "execution_count": 6,
   "metadata": {},
   "outputs": [
    {
     "data": {
      "text/plain": [
       "'hello zaha'"
      ]
     },
     "execution_count": 6,
     "metadata": {},
     "output_type": "execute_result"
    }
   ],
   "source": [
    "\"hello zaha\""
   ]
  },
  {
   "cell_type": "code",
   "execution_count": 9,
   "metadata": {},
   "outputs": [
    {
     "name": "stdout",
     "output_type": "stream",
     "text": [
      "What is your name?Zaha\n"
     ]
    },
    {
     "data": {
      "text/plain": [
       "'Zaha'"
      ]
     },
     "execution_count": 9,
     "metadata": {},
     "output_type": "execute_result"
    }
   ],
   "source": [
    "input(\"What is your name?\")"
   ]
  },
  {
   "cell_type": "code",
   "execution_count": 12,
   "metadata": {},
   "outputs": [
    {
     "name": "stdout",
     "output_type": "stream",
     "text": [
      "What is your name?Zaha\n",
      "Hello Zaha!\n"
     ]
    }
   ],
   "source": [
    "print(\"Hello \" + input(\"What is your name?\") + \"!\")"
   ]
  },
  {
   "cell_type": "code",
   "execution_count": 13,
   "metadata": {},
   "outputs": [
    {
     "name": "stdout",
     "output_type": "stream",
     "text": [
      "What is your name? Zaha\n",
      "4\n"
     ]
    }
   ],
   "source": [
    "print(len(input(\"What is your name? \")))\n"
   ]
  },
  {
   "cell_type": "code",
   "execution_count": 14,
   "metadata": {},
   "outputs": [
    {
     "name": "stdout",
     "output_type": "stream",
     "text": [
      "a: 28\n",
      "b: 72\n",
      "a: 72\n",
      "b: 72\n"
     ]
    }
   ],
   "source": [
    "# Don't change the lines below\n",
    "a = input(\"a: \")\n",
    "b = input(\"b: \")\n",
    "\n",
    "# Your code here:\n",
    "temp = a\n",
    "a = b\n",
    "b = a\n",
    "\n",
    "# Don't change the lines below\n",
    "print(\"a: \" + a)\n",
    "print(\"b: \" + b)"
   ]
  },
  {
   "cell_type": "code",
   "execution_count": 17,
   "metadata": {},
   "outputs": [
    {
     "name": "stdout",
     "output_type": "stream",
     "text": [
      "What is your name? Zaha\n",
      "Zaha\n"
     ]
    }
   ],
   "source": [
    "name = input(\"What is your name? \")\n",
    "print(name)\n"
   ]
  },
  {
   "cell_type": "code",
   "execution_count": 18,
   "metadata": {},
   "outputs": [
    {
     "name": "stdout",
     "output_type": "stream",
     "text": [
      "Jack\n"
     ]
    }
   ],
   "source": [
    "name = \"Jack\"\n",
    "print(name)"
   ]
  },
  {
   "cell_type": "code",
   "execution_count": 20,
   "metadata": {},
   "outputs": [
    {
     "name": "stdout",
     "output_type": "stream",
     "text": [
      "Angela\n"
     ]
    }
   ],
   "source": [
    "name = \"Angela\"\n",
    "print(name)\n"
   ]
  },
  {
   "cell_type": "code",
   "execution_count": 22,
   "metadata": {},
   "outputs": [
    {
     "name": "stdout",
     "output_type": "stream",
     "text": [
      "What is your name? nbjhgigi;\n",
      "9\n"
     ]
    }
   ],
   "source": [
    "# Функция  len считает количество символов\n",
    "name = input(\"What is your name? \")\n",
    "length = len(name)\n",
    "print(length)"
   ]
  },
  {
   "cell_type": "code",
   "execution_count": 23,
   "metadata": {},
   "outputs": [
    {
     "name": "stdout",
     "output_type": "stream",
     "text": [
      "What is your name? Zaha\n",
      "What is your name? Alah\n",
      "4\n",
      "4\n"
     ]
    }
   ],
   "source": [
    "user_name = input(\"What is your name? \")\n",
    "length1 = len(user_name)\n",
    "\n",
    "user_name = input(\"What is your name? \")\n",
    "length2 = len(user_name)\n",
    "\n",
    "print(length1)\n",
    "print(length2)"
   ]
  },
  {
   "cell_type": "code",
   "execution_count": 24,
   "metadata": {},
   "outputs": [
    {
     "name": "stdout",
     "output_type": "stream",
     "text": [
      "Welcome to the Band Name Generator.\n",
      "What's the name of the city you grew up in?\n",
      "Питер\n",
      "What's your pet's name?\n",
      "Заха\n",
      "Your band name could be Питер Заха\n"
     ]
    }
   ],
   "source": [
    "# 1. Create a greeting for your program.\n",
    "print('Welcome to the Band Name Generator.')\n",
    "\n",
    "# 2. Ask the user for the city that they grew up in.\n",
    "print(\"What's the name of the city you grew up in?\")\n",
    "city = input()\n",
    "\n",
    "# 3. Ask the user for the name of a pet.\n",
    "print(\"What's your pet's name?\")\n",
    "pet = input()\n",
    "\n",
    "# 4. Combine the name of their city and pet and show them their band name.\n",
    "band = city + \" \" + pet\n",
    "print(\"Your band name could be \" + band)"
   ]
  },
  {
   "cell_type": "code",
   "execution_count": null,
   "metadata": {},
   "outputs": [],
   "source": []
  }
 ],
 "metadata": {
  "kernelspec": {
   "display_name": "Python 3",
   "language": "python",
   "name": "python3"
  },
  "language_info": {
   "codemirror_mode": {
    "name": "ipython",
    "version": 3
   },
   "file_extension": ".py",
   "mimetype": "text/x-python",
   "name": "python",
   "nbconvert_exporter": "python",
   "pygments_lexer": "ipython3",
   "version": "3.7.0"
  }
 },
 "nbformat": 4,
 "nbformat_minor": 2
}
