{
 "cells": [
  {
   "cell_type": "code",
   "execution_count": 1,
   "metadata": {},
   "outputs": [
    {
     "name": "stdout",
     "output_type": "stream",
     "text": [
      "Hello\n",
      "How do you do?\n",
      "Isn't the weather nice today?\n",
      "\n"
     ]
    }
   ],
   "source": [
    "def greet():\n",
    "    print(\"Hello\")\n",
    "    print(\"How do you do?\")\n",
    "    print(\"Isn't the weather nice today?\")\n",
    "\n",
    "\n",
    "greet()\n",
    "print()"
   ]
  },
  {
   "cell_type": "code",
   "execution_count": 2,
   "metadata": {},
   "outputs": [
    {
     "name": "stdout",
     "output_type": "stream",
     "text": [
      "Hello Angela\n",
      "How do you do Jack Bauer?\n",
      "Isn't the weather nice today?\n",
      "\n"
     ]
    }
   ],
   "source": [
    "def greet():\n",
    "    print(\"Hello Angela\")\n",
    "    print(\"How do you do Jack Bauer?\")\n",
    "    print(\"Isn't the weather nice today?\")\n",
    "\n",
    "\n",
    "greet()\n",
    "print()"
   ]
  },
  {
   "cell_type": "code",
   "execution_count": 3,
   "metadata": {},
   "outputs": [
    {
     "name": "stdout",
     "output_type": "stream",
     "text": [
      "Hello Angela\n",
      "How do you do Angela?\n",
      "Hello Billie\n",
      "How do you do Billie?\n"
     ]
    }
   ],
   "source": [
    "def greet_with_name(name):\n",
    "    print(f\"Hello {name}\")\n",
    "    print(f\"How do you do {name}?\")\n",
    "\n",
    "\n",
    "greet_with_name(\"Angela\")\n",
    "greet_with_name(\"Billie\")"
   ]
  },
  {
   "cell_type": "code",
   "execution_count": 4,
   "metadata": {},
   "outputs": [
    {
     "name": "stdout",
     "output_type": "stream",
     "text": [
      "Hello Jack Bauer\n",
      "WHat is it like in Nowhere?\n",
      "Hello Nowhere\n",
      "WHat is it like in Jack Bauer?\n",
      "\n"
     ]
    }
   ],
   "source": [
    "def greet_with(name, location):\n",
    "    print(f'Hello {name}')\n",
    "    print(f'WHat is it like in {location}?')\n",
    "\n",
    "\n",
    "greet_with(\"Jack Bauer\", \"Nowhere\")\n",
    "greet_with(\"Nowhere\", \"Jack Bauer\")\n",
    "print()"
   ]
  },
  {
   "cell_type": "code",
   "execution_count": 5,
   "metadata": {},
   "outputs": [
    {
     "name": "stdout",
     "output_type": "stream",
     "text": [
      "Hello Angela\n",
      "WHat is it like in London?\n",
      "Hello Angela\n",
      "WHat is it like in London?\n"
     ]
    }
   ],
   "source": [
    "greet_with(name=\"Angela\", location=\"London\")\n",
    "greet_with(location=\"London\", name=\"Angela\")"
   ]
  },
  {
   "cell_type": "code",
   "execution_count": null,
   "metadata": {},
   "outputs": [],
   "source": []
  }
 ],
 "metadata": {
  "kernelspec": {
   "display_name": "Python 3",
   "language": "python",
   "name": "python3"
  },
  "language_info": {
   "codemirror_mode": {
    "name": "ipython",
    "version": 3
   },
   "file_extension": ".py",
   "mimetype": "text/x-python",
   "name": "python",
   "nbconvert_exporter": "python",
   "pygments_lexer": "ipython3",
   "version": "3.8.5"
  }
 },
 "nbformat": 4,
 "nbformat_minor": 4
}
