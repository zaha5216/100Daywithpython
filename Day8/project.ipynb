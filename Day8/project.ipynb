{
 "cells": [
  {
   "cell_type": "markdown",
   "metadata": {},
   "source": [
    "#  Заключительная часть: последние штрихи\n",
    "ТОДО-1:\n",
    "Импортируйте и распечатайте логотип из caesar_cipher_art.py при запуске программы.\n",
    "\n",
    "ТОДО-2:\n",
    "Что, если пользователь вводит смену, превышающую количество букв в алфавите?\n",
    "Попробуйте запустить программу и ввести число сдвига 45. Подсказка : подумайте, как вы можете использовать модуль (%).\n",
    "\n",
    "ТОДО-3:\n",
    "Что произойдет, если пользователь введет число / символ / пробел? -Можно ли исправить код, чтобы число / символ / пробел сохранялось при кодировании / декодировании текста?\n",
    "\n",
    "ТОДО-4:\n",
    "Можете ли вы придумать способ спросить пользователя, хочет ли он перезапустить программу шифрования?\n",
    "например, введите «да», если вы хотите пойти еще раз. В противном случае введите «нет».\n",
    "Если они наберут «да», то снова спросят у них направление / текст / сдвиг и снова вызовут функцию caesar ()? Подсказка : попробуйте создать новую функцию, которая будет вызывать сама себя, если они наберут «да»."
   ]
  },
  {
   "cell_type": "code",
   "execution_count": 1,
   "metadata": {},
   "outputs": [
    {
     "name": "stdout",
     "output_type": "stream",
     "text": [
      "           \n",
      " ,adPPYba, ,adPPYYba,  ,adPPYba, ,adPPYba, ,adPPYYba, 8b,dPPYba,  \n",
      "a8\"     \"\" \"\"     `Y8 a8P_____88 I8[    \"\" \"\"     `Y8 88P'   \"Y8  \n",
      "8b         ,adPPPPP88 8PP\"  `\"Y8ba,  ,adPPPPP88 88          \n",
      "\"8a,   ,aa 88,    ,88 \"8b,   ,aa aa    ]8I 88,    ,88 88          \n",
      " `\"Ybbd8\"' `\"8bbdP\"Y8  `\"Ybbd8\"' `\"YbbdP\"' `\"8bbdP\"Y8 88   \n",
      "            88             88                                 \n",
      "           \"\"             88                                 \n",
      "                          88                                 \n",
      " ,adPPYba, 88 8b,dPPYba,  88,dPPYba,   ,adPPYba, 8b,dPPYba,  \n",
      "a8\"     \"\" 88 88P'    \"8a 88P'    \"8a a8P_____88 88P'   \"Y8  \n",
      "8b         88 88       d8 88       88 8PP\" 88          \n",
      "\"8a,   ,aa 88 88b,   ,a8\" 88       88 \"8b,   ,aa 88          \n",
      " `\"Ybbd8\"' 88 88`YbbdP\"'  88       88  `\"Ybbd8\"' 88          \n",
      "              88                                             \n",
      "              88           \n",
      "\n",
      "Type 'encode' to encrypt, type 'decode' to decrypt:\n",
      "encode\n",
      "Type your message:\n",
      "Bob\n",
      "Type the shift number:\n",
      "46\n",
      "The encoded text is: huh\n",
      "Do you wish to continue? \"yes\" or \"no\": Yes\n",
      "Type 'encode' to encrypt, type 'decode' to decrypt:\n",
      "decode\n",
      "Type your message:\n",
      "huh\n",
      "Type the shift number:\n",
      "46\n",
      "The decoded text is: bob\n",
      "Do you wish to continue? \"yes\" or \"no\": no\n",
      "Goodbye!!!\n"
     ]
    }
   ],
   "source": [
    "from caesar_cipher_art import logo\n",
    "\n",
    "alphabet = ['a', 'b', 'c', 'd', 'e', 'f', 'g', 'h', 'i', 'j', 'k', 'l', 'm',\n",
    "            'n', 'o', 'p', 'q', 'r', 's', 't', 'u', 'v', 'w', 'x', 'y', 'z']\n",
    "\n",
    "\n",
    "def caesar(start_text, shift_amount, cipher_direction):\n",
    "    if cipher_direction == 'decode':\n",
    "        shift_amount *= -1\n",
    "    end_text = ''\n",
    "    for char in start_text:\n",
    "        if char in alphabet:\n",
    "            index = (alphabet.index(char) - shift_amount) % len(alphabet)\n",
    "            end_text += alphabet[index]\n",
    "        else:\n",
    "            end_text += char\n",
    "    print(f'The {cipher_direction}d text is: {end_text}')\n",
    "\n",
    "\n",
    "def caesar_cipher():\n",
    "    print(\"Type 'encode' to encrypt, type 'decode' to decrypt:\")\n",
    "    direction = input()\n",
    "    print(\"Type your message:\")\n",
    "    text = input().lower()\n",
    "    print(\"Type the shift number:\")\n",
    "    shift = int(input())\n",
    "    caesar(text, shift, direction)\n",
    "\n",
    "\n",
    "print(logo)\n",
    "\n",
    "restart = 'yes'\n",
    "\n",
    "while restart == 'yes':\n",
    "    caesar_cipher()\n",
    "    restart = input('Do you wish to continue? \"yes\" or \"no\": ').lower()\n",
    "print(\"Goodbye!!!\")"
   ]
  },
  {
   "cell_type": "code",
   "execution_count": null,
   "metadata": {},
   "outputs": [],
   "source": []
  }
 ],
 "metadata": {
  "kernelspec": {
   "display_name": "Python 3",
   "language": "python",
   "name": "python3"
  },
  "language_info": {
   "codemirror_mode": {
    "name": "ipython",
    "version": 3
   },
   "file_extension": ".py",
   "mimetype": "text/x-python",
   "name": "python",
   "nbconvert_exporter": "python",
   "pygments_lexer": "ipython3",
   "version": "3.8.5"
  }
 },
 "nbformat": 4,
 "nbformat_minor": 4
}
