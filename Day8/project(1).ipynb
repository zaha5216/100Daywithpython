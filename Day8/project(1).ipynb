{
 "cells": [
  {
   "cell_type": "markdown",
   "metadata": {},
   "source": [
    "# Цезарь Шифр\n",
    "Часть 1: Шифрование\n",
    "ТОДО-1:\n",
    "Создайте функцию под названием «encrypt», которая принимает в качестве входных данных «текст» и «сдвиг».\n",
    "ТОДО-2:\n",
    "Внутри функции «encrypt» сдвиньте каждую букву «текста» вперед в алфавите на величину сдвига и распечатайте зашифрованный текст.\n",
    "\n",
    "\n",
    "Предупреждение об ошибке : что произойдет, если вы попытаетесь закодировать слово 'civilization'? Поскольку zв алфавитном списке нет символов после, вы получите, IndexErrorесли попытаетесь получить доступ к сдвигу индекса на любую величину из него.\n",
    "\n",
    "Представьте себе, что список круговой (начало -> конец -> начало).\n",
    "Чтобы рассчитать индекс, вам просто нужно сделать:"
   ]
  },
  {
   "cell_type": "code",
   "execution_count": 6,
   "metadata": {},
   "outputs": [
    {
     "name": "stdout",
     "output_type": "stream",
     "text": [
      "Type 'encode' to encrypt, type 'decode' to decrypt:\n",
      "decode\n",
      "Type your message:\n",
      "bob\n",
      "Type the shift number:\n",
      "2\n"
     ]
    }
   ],
   "source": [
    "\n",
    "alphabet = ['a', 'b', 'c', 'd', 'e', 'f', 'g', 'h', 'i', 'j', 'k', 'l', 'm',\n",
    "            'n', 'o', 'p', 'q', 'r', 's', 't', 'u', 'v', 'w', 'x', 'y', 'z']\n",
    "\n",
    "\n",
    "def encrypt(plain_text, shift_amount):\n",
    "    encrypt_text = ''\n",
    "    for letter in plain_text:\n",
    "        index = (alphabet.index(letter) + shift_amount) % len(alphabet)\n",
    "        encrypt_text += alphabet[index]\n",
    "    print(f'The encoded text is: {encrypt_text}')\n",
    "\n",
    "\n",
    "print(\"Type 'encode' to encrypt, type 'decode' to decrypt:\")\n",
    "direction = input()\n",
    "print(\"Type your message:\")\n",
    "text = input().lower()\n",
    "print(\"Type the shift number:\")\n",
    "shift = int(input())\n",
    "\n",
    "if direction == 'encode':\n",
    "    encrypt(text, shift)"
   ]
  },
  {
   "cell_type": "markdown",
   "metadata": {},
   "source": [
    "# Часть 2: Расшифровка\n",
    "\n",
    "ТОДО-1:\n",
    "Создайте другую функцию под названием «дешифровать», которая принимает в качестве входных данных «текст» и «сдвиг».\n",
    "ТОДО-2:\n",
    "Внутри функции «дешифровать» сдвиньте каждую букву «текста» назад в алфавите на величину сдвига и распечатайте расшифрованный текст.\n",
    "\n",
    "ТОДО-3:\n",
    "Проверьте, хочет ли пользователь зашифровать или расшифровать сообщение, проверив переменную 'direction'.\n",
    "Затем вызовите правильную функцию на основе этой переменной направления.\n",
    "Вы должны иметь возможность протестировать код, чтобы зашифровать И расшифровать сообщение."
   ]
  },
  {
   "cell_type": "code",
   "execution_count": 8,
   "metadata": {},
   "outputs": [
    {
     "name": "stdout",
     "output_type": "stream",
     "text": [
      "Type 'encode' to encrypt, type 'decode' to decrypt:\n",
      "decode\n",
      "Type your message:\n",
      "dqd\n",
      "Type the shift number:\n",
      "2\n",
      "The decoded text is: bob\n"
     ]
    }
   ],
   "source": [
    "alphabet = ['a', 'b', 'c', 'd', 'e', 'f', 'g', 'h', 'i', 'j', 'k', 'l', 'm',\n",
    "            'n', 'o', 'p', 'q', 'r', 's', 't', 'u', 'v', 'w', 'x', 'y', 'z']\n",
    "\n",
    "\n",
    "def encrypt(plain_text, shift_amount):\n",
    "    encrypt_text = ''\n",
    "    for letter in plain_text:\n",
    "        index = (alphabet.index(letter) + shift_amount) % len(alphabet)\n",
    "        encrypt_text += alphabet[index]\n",
    "    print(f'The encoded text is: {encrypt_text}')\n",
    "\n",
    "\n",
    "def decrypt(encrypt_text, shift_amount):\n",
    "    plain_text = ''\n",
    "    for letter in encrypt_text:\n",
    "        index = (alphabet.index(letter) - shift_amount) % len(alphabet)\n",
    "        plain_text += alphabet[index]\n",
    "    print(f'The decoded text is: {plain_text}')\n",
    "\n",
    "\n",
    "print(\"Type 'encode' to encrypt, type 'decode' to decrypt:\")\n",
    "direction = input()\n",
    "print(\"Type your message:\")\n",
    "text = input().lower()\n",
    "print(\"Type the shift number:\")\n",
    "shift = int(input())\n",
    "\n",
    "if direction == 'encode':\n",
    "    encrypt(text, shift)\n",
    "elif direction == 'decode':\n",
    "    decrypt(text, shift)\n",
    "else:\n",
    "    print('Invalid command')"
   ]
  },
  {
   "cell_type": "markdown",
   "metadata": {},
   "source": [
    "# Часть 3: Реорганизация\n",
    "ТОДО-1:\n",
    "Объедините функции encrypt () и decrypt () в одну функцию под названием caesar ().\n",
    "\n",
    "ТОДО-2:\n",
    "Вызовите функцию caesar (), передав значения text, shift и direction."
   ]
  },
  {
   "cell_type": "code",
   "execution_count": 10,
   "metadata": {},
   "outputs": [
    {
     "name": "stdout",
     "output_type": "stream",
     "text": [
      "Type 'encode' to encrypt, type 'decode' to decrypt:\n",
      "decode\n",
      "Type your message:\n",
      "zmz\n",
      "Type the shift number:\n",
      "2\n",
      "The decoded text is: bob\n"
     ]
    }
   ],
   "source": [
    "alphabet = ['a', 'b', 'c', 'd', 'e', 'f', 'g', 'h', 'i', 'j', 'k', 'l', 'm',\n",
    "            'n', 'o', 'p', 'q', 'r', 's', 't', 'u', 'v', 'w', 'x', 'y', 'z']\n",
    "\n",
    "\n",
    "def caesar(start_text, shift_amount, cipher_direction):\n",
    "    if cipher_direction == 'decode':\n",
    "        shift_amount *= -1\n",
    "    end_text = ''\n",
    "    for letter in start_text:\n",
    "        index = (alphabet.index(letter) - shift_amount) % len(alphabet)\n",
    "        end_text += alphabet[index]\n",
    "    print(f'The {cipher_direction}d text is: {end_text}')\n",
    "\n",
    "\n",
    "print(\"Type 'encode' to encrypt, type 'decode' to decrypt:\")\n",
    "direction = input()\n",
    "print(\"Type your message:\")\n",
    "text = input().lower()\n",
    "print(\"Type the shift number:\")\n",
    "shift = int(input())\n",
    "\n",
    "caesar(text, shift, direction)"
   ]
  },
  {
   "cell_type": "code",
   "execution_count": null,
   "metadata": {},
   "outputs": [],
   "source": []
  }
 ],
 "metadata": {
  "kernelspec": {
   "display_name": "Python 3",
   "language": "python",
   "name": "python3"
  },
  "language_info": {
   "codemirror_mode": {
    "name": "ipython",
    "version": 3
   },
   "file_extension": ".py",
   "mimetype": "text/x-python",
   "name": "python",
   "nbconvert_exporter": "python",
   "pygments_lexer": "ipython3",
   "version": "3.8.5"
  }
 },
 "nbformat": 4,
 "nbformat_minor": 4
}
