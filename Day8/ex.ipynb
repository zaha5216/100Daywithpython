{
 "cells": [
  {
   "cell_type": "markdown",
   "metadata": {},
   "source": [
    "# Расчет площади\n",
    "Вы красите стену. В инструкции к баллончику с краской написано, что 1 баллончик с краской может покрыть 5 квадратных метров стены. Учитывая случайную высоту и ширину стены, рассчитайте, сколько банок с краской вам нужно купить.\n",
    "\n",
    "количество банок = (высота стены ✖️ ширина стены) ÷ покрытие на банку.\n",
    "\n",
    "например, высота = 2, ширина = 4, охват = 5\n",
    "\n",
    "количество банок = (2 ✖️ 4) ÷ 5\n",
    "Но так как вы не можете купить 0,6 банку краски, то результат должен быть округлен до до 2 -х банок.\n",
    "\n"
   ]
  },
  {
   "cell_type": "code",
   "execution_count": 6,
   "metadata": {},
   "outputs": [
    {
     "name": "stdout",
     "output_type": "stream",
     "text": [
      "Height of wall: 3\n",
      "Width of wall: 5\n",
      "You'll need 3 cans of paint\n"
     ]
    }
   ],
   "source": [
    "import math\n",
    "\n",
    "\n",
    "def paint_calc(height, width, cover):\n",
    "    cans = math.ceil(height * width / cover)\n",
    "    cans_name = 'can'\n",
    "    if cans != 1:\n",
    "        cans_name += 's'\n",
    "    print(f\"You'll need {cans} {cans_name} of paint\")\n",
    "\n",
    "\n",
    "# Don't change the code below\n",
    "test_h = int(input(\"Height of wall: \"))\n",
    "test_w = int(input(\"Width of wall: \"))\n",
    "coverage = 5\n",
    "paint_calc(height=test_h, width=test_w, cover=coverage)"
   ]
  },
  {
   "cell_type": "markdown",
   "metadata": {},
   "source": [
    "# Простые числа\n",
    "Вы красите стену. Инструкция # Инструкции\n",
    "\n",
    "Простые числа - это числа, которые можно четко разделить только на себя и 1.\n",
    "\n",
    "https://en.wikipedia.org/wiki/Prime_number\n",
    "\n",
    "Вам нужно написать функцию, которая проверяет, является ли переданное ей число простым или нет.\n",
    "\n",
    "например, 2 - простое число, потому что оно делится только на 1 и 2.\n",
    "\n",
    "Но 4 не является простым числом, потому что вы можете разделить его на 1, 2 или 4."
   ]
  },
  {
   "cell_type": "code",
   "execution_count": 10,
   "metadata": {},
   "outputs": [
    {
     "name": "stdout",
     "output_type": "stream",
     "text": [
      "Check this number: 7\n",
      "It's a prime number.\n"
     ]
    }
   ],
   "source": [
    "def prime_checker(number):\n",
    "    divisors = 0\n",
    "    for div in range(1, number + 1):\n",
    "        if number % div == 0:\n",
    "            divisors += 1\n",
    "\n",
    "    if divisors == 2:\n",
    "        print(\"It's a prime number.\")\n",
    "    else:\n",
    "        print(\"It's not a prime number.\")\n",
    "\n",
    "\n",
    "n = int(input(\"Check this number: \"))\n",
    "prime_checker(number=n)"
   ]
  },
  {
   "cell_type": "code",
   "execution_count": null,
   "metadata": {},
   "outputs": [],
   "source": []
  }
 ],
 "metadata": {
  "kernelspec": {
   "display_name": "Python 3",
   "language": "python",
   "name": "python3"
  },
  "language_info": {
   "codemirror_mode": {
    "name": "ipython",
    "version": 3
   },
   "file_extension": ".py",
   "mimetype": "text/x-python",
   "name": "python",
   "nbconvert_exporter": "python",
   "pygments_lexer": "ipython3",
   "version": "3.8.5"
  }
 },
 "nbformat": 4,
 "nbformat_minor": 4
}
