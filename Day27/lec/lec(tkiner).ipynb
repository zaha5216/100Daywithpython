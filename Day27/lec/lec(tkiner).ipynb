{
 "cells": [
  {
   "cell_type": "code",
   "execution_count": 1,
   "metadata": {},
   "outputs": [],
   "source": [
    "import tkinter\n",
    "\n",
    "FONT = (\"Letters for Learners\", 16, \"bold\")\n",
    "window = tkinter.Tk()\n",
    "window.title(\"My First GUI Program\")\n",
    "window.minsize(width=500, height=300)\n",
    "\n",
    "label = tkinter.Label(text=\"I am a Label\", font=FONT)\n",
    "label.pack()\n",
    "\n",
    "window.mainloop()"
   ]
  },
  {
   "cell_type": "code",
   "execution_count": 1,
   "metadata": {},
   "outputs": [],
   "source": [
    "import tkinter\n",
    "\n",
    "FONT = (\"Letters for Learners\", 16, \"bold\")\n",
    "window = tkinter.Tk()\n",
    "window.title(\"My First GUI Program\")\n",
    "window.minsize(width=500, height=300)\n",
    "\n",
    "label = tkinter.Label(text=\"I am a Label\", font=FONT)\n",
    "# выводит по центру\n",
    "label.pack(expand=True)\n",
    "\n",
    "window.mainloop()"
   ]
  },
  {
   "cell_type": "code",
   "execution_count": 1,
   "metadata": {},
   "outputs": [
    {
     "ename": "SystemExit",
     "evalue": "0",
     "output_type": "error",
     "traceback": [
      "An exception has occurred, use %tb to see the full traceback.\n",
      "\u001b[0;31mSystemExit\u001b[0m\u001b[0;31m:\u001b[0m 0\n"
     ]
    },
    {
     "name": "stderr",
     "output_type": "stream",
     "text": [
      "/Users/zaha/anaconda3/lib/python3.8/site-packages/IPython/core/interactiveshell.py:3426: UserWarning: To exit: use 'exit', 'quit', or Ctrl-D.\n",
      "  warn(\"To exit: use 'exit', 'quit', or Ctrl-D.\", stacklevel=1)\n"
     ]
    }
   ],
   "source": [
    "import tkinter\n",
    "\n",
    "FONT = (\"Letters for Learners\", 16, \"bold\")\n",
    "window = tkinter.Tk()\n",
    "window.title(\"My First GUI Program\")\n",
    "window.minsize(width=500, height=300)\n",
    "\n",
    "label = tkinter.Label(text=\"I am a Label\", font=FONT)\n",
    "# Выводит слева\n",
    "label.pack(side='left')\n",
    "\n",
    "window.mainloop()"
   ]
  },
  {
   "cell_type": "code",
   "execution_count": 2,
   "metadata": {},
   "outputs": [
    {
     "name": "stdout",
     "output_type": "stream",
     "text": [
      "A B C\n",
      "C B A\n",
      "* _ *\n"
     ]
    }
   ],
   "source": [
    "def function(a='A', b='B', c='C'):\n",
    "    print(a, b, c)\n",
    "\n",
    "\n",
    "function()\n",
    "function(a='C', c='A')\n",
    "function('*', '_', '*')"
   ]
  },
  {
   "cell_type": "code",
   "execution_count": 3,
   "metadata": {},
   "outputs": [
    {
     "name": "stdout",
     "output_type": "stream",
     "text": [
      "{'add': 'Addition', 'mul': 'Multiplication'}\n",
      "<class 'dict'>\n",
      "\n",
      "Key: add, Value: Addition\n",
      "Key: mul, Value: Multiplication\n",
      "\n",
      "Addition\n",
      "Multiplication\n",
      "\n",
      "n is 460\n",
      "\n",
      "Nissan\n",
      "GT-R\n",
      "Red\n",
      "5\n",
      "\n",
      "Nissan\n",
      "Skyline\n",
      "None\n",
      "None\n"
     ]
    }
   ],
   "source": [
    "def function(**kwargs):\n",
    "    print(kwargs)\n",
    "    print(type(kwargs))\n",
    "\n",
    "\n",
    "def other_function(**kwargs):\n",
    "    for key, value in kwargs.items():\n",
    "        print(f'Key: {key}, Value: {value}')\n",
    "\n",
    "\n",
    "def another_function(**kwargs):\n",
    "    print(kwargs['add'])\n",
    "    print(kwargs['mul'])\n",
    "\n",
    "\n",
    "def calculate(n, **kwargs):\n",
    "    n += kwargs['add']\n",
    "    n *= kwargs['mul']\n",
    "    print(f'n is {n}')\n",
    "\n",
    "\n",
    "function(add='Addition', mul='Multiplication')\n",
    "print()\n",
    "\n",
    "other_function(add='Addition', mul='Multiplication')\n",
    "print()\n",
    "\n",
    "another_function(add='Addition', mul='Multiplication')\n",
    "print()\n",
    "\n",
    "calculate(10, add=10, mul=23)\n",
    "print()\n",
    "\n",
    "\n",
    "class Car:\n",
    "    def __init__(self, **kw):\n",
    "        self.make = kw.get(\"make\")\n",
    "        self.model = kw.get(\"model\")\n",
    "        self.colour = kw.get(\"colour\")\n",
    "        self.seats = kw.get(\"seats\")\n",
    "\n",
    "\n",
    "car1 = Car(make='Nissan', model='GT-R', colour='Red', seats='5')\n",
    "print(car1.make)\n",
    "print(car1.model)\n",
    "print(car1.colour)\n",
    "print(car1.seats)\n",
    "print()\n",
    "\n",
    "car2 = Car(make='Nissan', model='Skyline')\n",
    "print(car2.make)\n",
    "print(car2.model)\n",
    "print(car2.colour)\n",
    "print(car2.seats)"
   ]
  },
  {
   "cell_type": "code",
   "execution_count": 1,
   "metadata": {},
   "outputs": [],
   "source": [
    "from tkinter import *\n",
    "\n",
    "FONT = (\"Letters for Learners\", 16, \"bold\")\n",
    "window = Tk()\n",
    "window.title(\"My First GUI Program\")\n",
    "window.minsize(width=500, height=300)\n",
    "\n",
    "label = Label(text=\"I am a Label\", font=FONT)\n",
    "label.pack(side='left')\n",
    "\n",
    "label[\"text\"] = \"I am still a Label\"\n",
    "label.config(text=\"Nope. Still a Label\")\n",
    "\n",
    "window.mainloop()"
   ]
  },
  {
   "cell_type": "code",
   "execution_count": 1,
   "metadata": {},
   "outputs": [
    {
     "name": "stdout",
     "output_type": "stream",
     "text": [
      "I got clicked\n",
      "I got clicked\n",
      "I got clicked\n",
      "I got clicked\n"
     ]
    }
   ],
   "source": [
    "import tkinter\n",
    "\n",
    "FONT = (\"Letters for Learners\", 16, \"bold\")\n",
    "window = tkinter.Tk()\n",
    "window.title(\"My First GUI Program\")\n",
    "window.minsize(width=500, height=300)\n",
    "\n",
    "label = tkinter.Label(text=\"I am a Label\", font=FONT)\n",
    "label.pack()\n",
    "\n",
    "label[\"text\"] = \"I am still a Label\"\n",
    "label.config(text=\"Nope. Still a Label\")\n",
    "\n",
    "# Функция фиксирует нажатие кнопки\n",
    "def button_clicked():\n",
    "    print(\"I got clicked\")\n",
    "\n",
    "\n",
    "button = tkinter.Button(text=\"Click Me\", command=button_clicked)\n",
    "button.pack()\n",
    "\n",
    "window.mainloop()"
   ]
  },
  {
   "cell_type": "code",
   "execution_count": 1,
   "metadata": {},
   "outputs": [],
   "source": [
    "import tkinter\n",
    "\n",
    "FONT = (\"Letters for Learners\", 16, \"bold\")\n",
    "window = tkinter.Tk()\n",
    "window.title(\"My First GUI Program\")\n",
    "window.minsize(width=500, height=300)\n",
    "\n",
    "label = tkinter.Label(text=\"I am a Label\", font=FONT)\n",
    "label.pack()\n",
    "\n",
    "\n",
    "def button_clicked():\n",
    "    label.config(text=\"I am Still a Label\")\n",
    "\n",
    "\n",
    "button = tkinter.Button(text=\"Click Me\", font=FONT, command=button_clicked)\n",
    "button.pack()\n",
    "\n",
    "window.mainloop()"
   ]
  },
  {
   "cell_type": "code",
   "execution_count": 1,
   "metadata": {},
   "outputs": [],
   "source": [
    "import tkinter\n",
    "# Окно для ввода текста \n",
    "FONT = (\"Letters for Learners\", 16, \"bold\")\n",
    "window = tkinter.Tk()\n",
    "window.title(\"My First GUI Program\")\n",
    "window.minsize(width=500, height=300)\n",
    "\n",
    "label = tkinter.Label(text=\"I am a Label\", font=FONT)\n",
    "label.pack()\n",
    "\n",
    "\n",
    "def button_clicked():\n",
    "    string = tk_input.get()\n",
    "    label.config(text=string, font=FONT)\n",
    "\n",
    "\n",
    "button = tkinter.Button(text=\"Click Me\", font=FONT, command=button_clicked)\n",
    "button.pack()\n",
    "\n",
    "tk_input = tkinter.Entry(width=10, font=FONT)\n",
    "tk_input.pack()\n",
    "\n",
    "window.mainloop()"
   ]
  },
  {
   "cell_type": "code",
   "execution_count": 1,
   "metadata": {},
   "outputs": [],
   "source": [
    "import tkinter\n",
    "\n",
    "FONT = (\"Letters for Learners\", 16, \"bold\")\n",
    "\n",
    "\n",
    "def button_clicked():\n",
    "    string = tk_input.get()\n",
    "    label.config(text=string, font=FONT)\n",
    "\n",
    "\n",
    "window = tkinter.Tk()\n",
    "window.title(\"My First GUI Program\")\n",
    "window.minsize(width=500, height=300)\n",
    "\n",
    "label = tkinter.Label(text=\"I am a Label\", font=FONT)\n",
    "button = tkinter.Button(text=\"Click Me\", font=FONT, command=button_clicked)\n",
    "tk_input = tkinter.Entry(width=10, font=FONT)\n",
    "\n",
    "label.pack(side='left')\n",
    "button.pack(side='left')\n",
    "tk_input.pack(side='left')\n",
    "\n",
    "window.mainloop()"
   ]
  },
  {
   "cell_type": "code",
   "execution_count": 1,
   "metadata": {},
   "outputs": [],
   "source": [
    "import tkinter\n",
    "\n",
    "FONT = (\"Letters for Learners\", 16, \"bold\")\n",
    "\n",
    "\n",
    "def button_clicked():\n",
    "    string = tk_input.get()\n",
    "    label.config(text=string, font=FONT)\n",
    "\n",
    "\n",
    "window = tkinter.Tk()\n",
    "window.title(\"My First GUI Program\")\n",
    "window.minsize(width=500, height=300)\n",
    "\n",
    "label = tkinter.Label(text=\"I am a Label\", font=FONT)\n",
    "button = tkinter.Button(text=\"Click Me\", font=FONT, command=button_clicked)\n",
    "tk_input = tkinter.Entry(width=10, font=FONT)\n",
    "\n",
    "label.place(x=0, y=0)\n",
    "button.place(x=100, y=50)\n",
    "tk_input.place(x=0, y=100)\n",
    "\n",
    "window.mainloop()"
   ]
  },
  {
   "cell_type": "code",
   "execution_count": 2,
   "metadata": {},
   "outputs": [],
   "source": [
    "import tkinter\n",
    "\n",
    "FONT = (\"Letters for Learners\", 16, \"bold\")\n",
    "\n",
    "\n",
    "def button_clicked():\n",
    "    string = tk_input.get()\n",
    "    label.config(text=string, font=FONT)\n",
    "\n",
    "\n",
    "window = tkinter.Tk()\n",
    "window.title(\"My First GUI Program\")\n",
    "window.minsize(width=500, height=300)\n",
    "window.config(padx=20, pady=20)\n",
    "\n",
    "label = tkinter.Label(text=\"I am a Label\", font=FONT)\n",
    "button1 = tkinter.Button(text=\"Click Me 1\", font=FONT, command=button_clicked)\n",
    "button2 = tkinter.Button(text=\"Click Me 2\", font=FONT, command=button_clicked)\n",
    "tk_input = tkinter.Entry(width=10, font=FONT)\n",
    "\n",
    "label.config(padx=20, pady=20)\n",
    "button1.config(padx=20, pady=20)\n",
    "button2.config(padx=20, pady=20)\n",
    "\n",
    "label.grid(column=0, row=0)\n",
    "button1.grid(column=1, row=1)\n",
    "button2.grid(column=2, row=0)\n",
    "tk_input.grid(column=3, row=2)\n",
    "\n",
    "window.mainloop()"
   ]
  },
  {
   "cell_type": "code",
   "execution_count": null,
   "metadata": {},
   "outputs": [],
   "source": []
  }
 ],
 "metadata": {
  "kernelspec": {
   "display_name": "Python 3",
   "language": "python",
   "name": "python3"
  },
  "language_info": {
   "codemirror_mode": {
    "name": "ipython",
    "version": 3
   },
   "file_extension": ".py",
   "mimetype": "text/x-python",
   "name": "python",
   "nbconvert_exporter": "python",
   "pygments_lexer": "ipython3",
   "version": "3.8.5"
  }
 },
 "nbformat": 4,
 "nbformat_minor": 4
}
