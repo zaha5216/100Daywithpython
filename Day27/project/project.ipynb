{
 "cells": [
  {
   "cell_type": "markdown",
   "metadata": {},
   "source": [
    "# Конвертер миль в км (tkiner)"
   ]
  },
  {
   "cell_type": "code",
   "execution_count": 1,
   "metadata": {},
   "outputs": [],
   "source": [
    "from tkinter import *\n",
    "\n",
    "FONT = (\"Letters for Learners\", 24, \"bold\")\n",
    "\n",
    "\n",
    "def calculate():\n",
    "    km = float(entry.get()) * 1.60934\n",
    "    label4.config(text=f'{km:.5f}')\n",
    "\n",
    "\n",
    "window = Tk()\n",
    "window.title(\"Mile to Km Converter\")\n",
    "window.minsize(width=200, height=200)\n",
    "\n",
    "label1 = Label(text='Miles', font=FONT, padx=10, pady=10)\n",
    "label2 = Label(text='Km', font=FONT, padx=10, pady=10)\n",
    "label3 = Label(text='is equal to', font=FONT, padx=10, pady=10)\n",
    "label4 = Label(text='', font=FONT, padx=10, pady=10)\n",
    "\n",
    "button = Button(text='Calculate', command=calculate, font=FONT, padx=10, pady=10)\n",
    "\n",
    "entry = Entry(width=8, font=FONT)\n",
    "\n",
    "label1.grid(column=2, row=0)\n",
    "label2.grid(column=2, row=1)\n",
    "label3.grid(column=0, row=1)\n",
    "label4.grid(column=1, row=1)\n",
    "button.grid(column=1, row=2)\n",
    "entry.grid(column=1, row=0)\n",
    "\n",
    "window.mainloop()"
   ]
  },
  {
   "cell_type": "code",
   "execution_count": null,
   "metadata": {},
   "outputs": [],
   "source": []
  }
 ],
 "metadata": {
  "kernelspec": {
   "display_name": "Python 3",
   "language": "python",
   "name": "python3"
  },
  "language_info": {
   "codemirror_mode": {
    "name": "ipython",
    "version": 3
   },
   "file_extension": ".py",
   "mimetype": "text/x-python",
   "name": "python",
   "nbconvert_exporter": "python",
   "pygments_lexer": "ipython3",
   "version": "3.8.5"
  }
 },
 "nbformat": 4,
 "nbformat_minor": 4
}
