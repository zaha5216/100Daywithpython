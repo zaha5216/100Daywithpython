{
 "cells": [
  {
   "cell_type": "code",
   "execution_count": 2,
   "metadata": {},
   "outputs": [
    {
     "name": "stdout",
     "output_type": "stream",
     "text": [
      "24 Paula 1.62 True\n"
     ]
    }
   ],
   "source": [
    "age: int\n",
    "name: str\n",
    "height: float\n",
    "is_human: bool\n",
    "\n",
    "age = 24\n",
    "name = \"Paula\"\n",
    "height = 1.62\n",
    "is_human = True\n",
    "\n",
    "print(age, name, height, is_human)"
   ]
  },
  {
   "cell_type": "code",
   "execution_count": null,
   "metadata": {},
   "outputs": [],
   "source": [
    "def police_check(person_age: int) -> bool:\n",
    "    return person_age > 18\n",
    "\n",
    "\n",
    "age = int(input(\"Your age: \"))\n",
    "if police_check(age):\n",
    "    print(\"You may pass\")\n",
    "else:\n",
    "    print(\"Pay a fine.\")"
   ]
  },
  {
   "cell_type": "code",
   "execution_count": null,
   "metadata": {},
   "outputs": [],
   "source": []
  }
 ],
 "metadata": {
  "kernelspec": {
   "display_name": "Python 3",
   "language": "python",
   "name": "python3"
  },
  "language_info": {
   "codemirror_mode": {
    "name": "ipython",
    "version": 3
   },
   "file_extension": ".py",
   "mimetype": "text/x-python",
   "name": "python",
   "nbconvert_exporter": "python",
   "pygments_lexer": "ipython3",
   "version": "3.8.5"
  }
 },
 "nbformat": 4,
 "nbformat_minor": 4
}
