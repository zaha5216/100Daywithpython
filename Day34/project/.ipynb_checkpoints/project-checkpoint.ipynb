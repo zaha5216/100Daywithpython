{
 "cells": [
  {
   "cell_type": "markdown",
   "metadata": {},
   "source": [
    "Измените data.pyфайл, чтобы он получил 10 вопросов из базы данных API Trivia.\n",
    "\n",
    "Отключите экранирование HTML-сущностей, чтобы вопросы были более читабельными. Для этого внесите изменения\n",
    "в quiz_brain.pyфайл.\n",
    "\n",
    "import html\n",
    "\n",
    "html_text = \"Some HTML code\"\n",
    "\n",
    "questions = html.unescape(html_text)\n",
    "\n",
    "Измените QuizBrainкласс, чтобы метод next_question()возвращал строку\n",
    "с вопросом, который нужно задать, вместо того, чтобы вводить его в консоли.\n",
    "\n",
    "Создайте два новых метода, которые вы можете добавить как команду к кнопкам. Методы необходимо вызывать check_answer()из quizи передавать строку «Истина» или «Ложь». Это должно напечатать некоторую обратную связь в консоли.\n",
    "\n",
    "Измените цвет фона холста на зеленый, если он is_correctимеет значение True, и измените его на красный, если он имеет значение False.\n",
    "\n",
    "Когда кнопка была нажата, отобразите следующий вопрос через 1000 миллисекунд, но убедитесь, что фон снова стал белым.\n"
   ]
  },
  {
   "cell_type": "code",
   "execution_count": 3,
   "metadata": {},
   "outputs": [
    {
     "name": "stdout",
     "output_type": "stream",
     "text": [
      "You've completed the quiz\n",
      "Your final score was: 5/10\n"
     ]
    }
   ],
   "source": [
    "from question_model import Question\n",
    "from data import question_data\n",
    "from quiz_brain import QuizBrain\n",
    "from ui import QuizInterface\n",
    "\n",
    "question_bank = []\n",
    "for question in question_data:\n",
    "    question_text = question[\"question\"]\n",
    "    question_answer = question[\"correct_answer\"]\n",
    "    new_question = Question(question_text, question_answer)\n",
    "    question_bank.append(new_question)\n",
    "\n",
    "\n",
    "quiz = QuizBrain(question_bank)\n",
    "quiz_ui = QuizInterface(quiz)\n",
    "\n",
    "# while quiz.still_has_questions():\n",
    "#     quiz.next_question()\n",
    "\n",
    "print(\"You've completed the quiz\")\n",
    "print(f\"Your final score was: {quiz.score}/{quiz.question_number}\")"
   ]
  },
  {
   "cell_type": "code",
   "execution_count": null,
   "metadata": {},
   "outputs": [],
   "source": []
  }
 ],
 "metadata": {
  "kernelspec": {
   "display_name": "Python 3",
   "language": "python",
   "name": "python3"
  },
  "language_info": {
   "codemirror_mode": {
    "name": "ipython",
    "version": 3
   },
   "file_extension": ".py",
   "mimetype": "text/x-python",
   "name": "python",
   "nbconvert_exporter": "python",
   "pygments_lexer": "ipython3",
   "version": "3.8.5"
  }
 },
 "nbformat": 4,
 "nbformat_minor": 4
}
