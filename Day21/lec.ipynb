{
 "cells": [
  {
   "cell_type": "code",
   "execution_count": 2,
   "metadata": {},
   "outputs": [
    {
     "name": "stdout",
     "output_type": "stream",
     "text": [
      "Moving in water...\n",
      "Inhale, exhale...\n",
      "...doing this underwater!\n",
      "2\n"
     ]
    }
   ],
   "source": [
    "class Animal:\n",
    "    def __init__(self):\n",
    "        self.num_eyes = 2\n",
    "\n",
    "    def breathe(self):\n",
    "        print('Inhale, exhale...')\n",
    "\n",
    "\n",
    "class Fish(Animal):\n",
    "    def __init__(self):\n",
    "        super().__init__()\n",
    "\n",
    "    def breathe(self):\n",
    "        super().breathe()\n",
    "        print('...doing this underwater!')\n",
    "\n",
    "    def swim(self):\n",
    "        print('Moving in water...')\n",
    "\n",
    "\n",
    "nemo = Fish()\n",
    "nemo.swim()\n",
    "nemo.breathe()\n",
    "print(nemo.num_eyes)"
   ]
  },
  {
   "cell_type": "code",
   "execution_count": 3,
   "metadata": {},
   "outputs": [
    {
     "name": "stdout",
     "output_type": "stream",
     "text": [
      "['c', 'd', 'e']\n",
      "['a', 'b', 'c', 'd', 'e']\n",
      "['c', 'd', 'e', 'f', 'g']\n",
      "['c', 'e']\n",
      "['a', 'c', 'e', 'g']\n",
      "['g', 'f', 'e', 'd', 'c', 'b', 'a']\n",
      "\n",
      "('mi', 'fa', 'so')\n"
     ]
    }
   ],
   "source": [
    "piano_keys = ['a', 'b', 'c', 'd', 'e', 'f', 'g']\n",
    "piano_tuple = ('do', 're', 'mi', 'fa', 'so', 'la', 'ti')\n",
    "print(piano_keys[2:5])\n",
    "print(piano_keys[:5])\n",
    "print(piano_keys[2:])\n",
    "print(piano_keys[2:5:2])\n",
    "print(piano_keys[::2])\n",
    "print(piano_keys[::-1])\n",
    "print()\n",
    "\n",
    "print(piano_tuple[2:5])"
   ]
  },
  {
   "cell_type": "code",
   "execution_count": null,
   "metadata": {},
   "outputs": [],
   "source": []
  }
 ],
 "metadata": {
  "kernelspec": {
   "display_name": "Python 3",
   "language": "python",
   "name": "python3"
  },
  "language_info": {
   "codemirror_mode": {
    "name": "ipython",
    "version": 3
   },
   "file_extension": ".py",
   "mimetype": "text/x-python",
   "name": "python",
   "nbconvert_exporter": "python",
   "pygments_lexer": "ipython3",
   "version": "3.8.5"
  }
 },
 "nbformat": 4,
 "nbformat_minor": 4
}
