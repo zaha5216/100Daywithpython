{
 "cells": [
  {
   "cell_type": "markdown",
   "metadata": {},
   "source": [
    "# Игра змей - Часть 4-7\n",
    "инструкции\n",
    "Часть 4\n",
    "Обнаружение столкновения с едой\n",
    "\n",
    "Часть 5.\n",
    "Создать табло\n",
    "\n",
    "Часть 6\n",
    "Обнаружение столкновения со стеной\n",
    "\n",
    "Часть 7.\n",
    "Обнаружить столкновение с хвостом"
   ]
  },
  {
   "cell_type": "code",
   "execution_count": 2,
   "metadata": {},
   "outputs": [
    {
     "ename": "ImportError",
     "evalue": "cannot import name 'Food' from 'food' (/Users/zaha/Примеры решений/100  Days of coding/Day21/food.py)",
     "output_type": "error",
     "traceback": [
      "\u001b[0;31m---------------------------------------------------------------------------\u001b[0m",
      "\u001b[0;31mImportError\u001b[0m                               Traceback (most recent call last)",
      "\u001b[0;32m<ipython-input-2-39a46ea099b9>\u001b[0m in \u001b[0;36m<module>\u001b[0;34m\u001b[0m\n\u001b[1;32m      3\u001b[0m \u001b[0;34m\u001b[0m\u001b[0m\n\u001b[1;32m      4\u001b[0m \u001b[0;32mfrom\u001b[0m \u001b[0msnake\u001b[0m \u001b[0;32mimport\u001b[0m \u001b[0mSnake\u001b[0m\u001b[0;34m\u001b[0m\u001b[0;34m\u001b[0m\u001b[0m\n\u001b[0;32m----> 5\u001b[0;31m \u001b[0;32mfrom\u001b[0m \u001b[0mfood\u001b[0m \u001b[0;32mimport\u001b[0m \u001b[0mFood\u001b[0m\u001b[0;34m\u001b[0m\u001b[0;34m\u001b[0m\u001b[0m\n\u001b[0m\u001b[1;32m      6\u001b[0m \u001b[0;32mfrom\u001b[0m \u001b[0mscoreboard\u001b[0m \u001b[0;32mimport\u001b[0m \u001b[0mScoreboard\u001b[0m\u001b[0;34m\u001b[0m\u001b[0;34m\u001b[0m\u001b[0m\n\u001b[1;32m      7\u001b[0m \u001b[0;34m\u001b[0m\u001b[0m\n",
      "\u001b[0;31mImportError\u001b[0m: cannot import name 'Food' from 'food' (/Users/zaha/Примеры решений/100  Days of coding/Day21/food.py)"
     ]
    }
   ],
   "source": [
    "from turtle import Screen\n",
    "from time import sleep\n",
    "\n",
    "from snake import Snake\n",
    "from food import Food\n",
    "from scoreboard import Scoreboard\n",
    "\n",
    "WIDTH = 600\n",
    "HEIGHT = 600\n",
    "\n",
    "screen = Screen()\n",
    "screen.setup(width=WIDTH, height=HEIGHT)\n",
    "screen.bgcolor('black')\n",
    "screen.title(\"Snake Game\")\n",
    "screen.tracer(0)\n",
    "\n",
    "snake = Snake()\n",
    "food = Food()\n",
    "score_board = Scoreboard()\n",
    "\n",
    "screen.listen()\n",
    "screen.onkey(snake.up, 'Up')\n",
    "screen.onkey(snake.down, 'Down')\n",
    "screen.onkey(snake.left, 'Left')\n",
    "screen.onkey(snake.right, 'Right')\n",
    "\n",
    "game_is_on = True\n",
    "while game_is_on:\n",
    "    screen.update()\n",
    "    sleep(0.1)\n",
    "    snake.move()\n",
    "\n",
    "    # Detect collision with food.\n",
    "    if snake.head.distance(food) < 10:\n",
    "        food.move()\n",
    "        snake.extend()\n",
    "        score_board.increase_score()\n",
    "\n",
    "    # Detect collision with wall.\n",
    "    collide_with_wall = snake.collision_with_wall(width=WIDTH, height=HEIGHT)\n",
    "\n",
    "    # Detect collision with tail.\n",
    "    collide_with_tail = snake.collision_with_tail()\n",
    "\n",
    "    # Test any collision\n",
    "    if collide_with_wall or collide_with_tail:\n",
    "        game_is_on = False\n",
    "        score_board.game_over()\n",
    "\n",
    "\n",
    "screen.exitonclick()"
   ]
  },
  {
   "cell_type": "code",
   "execution_count": null,
   "metadata": {},
   "outputs": [],
   "source": []
  }
 ],
 "metadata": {
  "kernelspec": {
   "display_name": "Python 3",
   "language": "python",
   "name": "python3"
  },
  "language_info": {
   "codemirror_mode": {
    "name": "ipython",
    "version": 3
   },
   "file_extension": ".py",
   "mimetype": "text/x-python",
   "name": "python",
   "nbconvert_exporter": "python",
   "pygments_lexer": "ipython3",
   "version": "3.8.5"
  }
 },
 "nbformat": 4,
 "nbformat_minor": 4
}
