{
 "cells": [
  {
   "cell_type": "markdown",
   "metadata": {},
   "source": [
    "# Программа выставления оценок\n",
    "У вас есть доступ к базе данных student_scoresв формате словаря. Эти ключи в student_scoresтех именах студентов, и значения являются их экзаменационными оценками .\n",
    "\n",
    "Напишите программу, которая переводит их оценки в оценки . К концу программы у вас должен быть новый словарь с именем, student_gradesкоторый должен содержать имена учащихся для ключей и их оценки для значений . T он окончательный вариант из student_gradesсловаря будет проверяться.\n",
    "\n",
    "НЕ изменяйте строки 1-7, чтобы изменить существующий student_scoresсловарь.\n",
    "\n",
    "НЕ пишите никаких операторов печати.\n",
    "\n",
    "Это критерии оценки:\n",
    "\n",
    "Оценки 91–100: Оценка = «Отлично».\n",
    "\n",
    "Оценки 81–90: Оценка = «Превышает ожидания».\n",
    "\n",
    "Баллы 71–80: Оценка = «Приемлемо».\n",
    "\n",
    "Баллы 70 или ниже: Grade = \"Fail\"\n",
    "\n",
    "Ожидаемый результат\n",
    "'{'Harry': 'Exceeds Expectations', 'Ron': 'Acceptable', 'Hermione': 'Outstanding', 'Draco': 'Acceptable', 'Neville': 'Fail'}'\n"
   ]
  },
  {
   "cell_type": "code",
   "execution_count": 1,
   "metadata": {},
   "outputs": [
    {
     "name": "stdout",
     "output_type": "stream",
     "text": [
      "{'Harry': 'Exceeds Expectations', 'Ron': 'Acceptable', 'Hermione': 'Outstanding', 'Draco': 'Acceptable', 'Neville': 'Fail'}\n"
     ]
    }
   ],
   "source": [
    "student_scores = {\n",
    "  \"Harry\": 81,\n",
    "  \"Ron\": 78,\n",
    "  \"Hermione\": 99,\n",
    "  \"Draco\": 74,\n",
    "  \"Neville\": 62,\n",
    "}\n",
    "\n",
    "student_grades = {}\n",
    "for student in student_scores:\n",
    "    score = student_scores[student]\n",
    "    if score > 90:\n",
    "        student_grades[student] = 'Outstanding'\n",
    "    elif score > 80:\n",
    "        student_grades[student] = 'Exceeds Expectations'\n",
    "    elif score > 70:\n",
    "        student_grades[student] = 'Acceptable'\n",
    "    else:\n",
    "        student_grades[student] = 'Fail'\n",
    "\n",
    "print(student_grades)"
   ]
  },
  {
   "cell_type": "markdown",
   "metadata": {},
   "source": [
    "# Словарь в списке\n",
    "\n",
    "написать программу, которая добавляет в travel_log. Вы можете увидеть travel_log, который представляет собой список , содержащий 2 словаря .\n",
    "\n",
    "Напишите функцию, которая будет работать со следующей строкой кода в строке 21, чтобы добавить запись для России в travel_log.\n",
    "\n",
    "add_new_country(\"Russia\", 2, [\"Moscow\", \"Saint Petersburg\"])\n",
    "You've visited Russia 2 times.\n",
    "\n",
    "You've been to Moscow and Saint Petersburg."
   ]
  },
  {
   "cell_type": "code",
   "execution_count": 3,
   "metadata": {},
   "outputs": [
    {
     "name": "stdout",
     "output_type": "stream",
     "text": [
      "[{'country': 'France', 'visits': 12, 'cities': ['Paris', 'Lille', 'Dijon']}, {'country': 'Germany', 'visits': 5, 'cities': ['Berlin', 'Hamburg', 'Stuttgart']}, {'country': 'Russia', 'visits': 2, 'cities': ['Moscow', 'Saint Petersburg']}]\n"
     ]
    }
   ],
   "source": [
    "travel_log = [\n",
    "{\n",
    "  \"country\": \"France\",\n",
    "  \"visits\": 12,\n",
    "  \"cities\": [\"Paris\", \"Lille\", \"Dijon\"]\n",
    "},\n",
    "{\n",
    "  \"country\": \"Germany\",\n",
    "  \"visits\": 5,\n",
    "  \"cities\": [\"Berlin\", \"Hamburg\", \"Stuttgart\"]\n",
    "},\n",
    "]\n",
    "\n",
    "\n",
    "def add_new_country(country, visits, cities):\n",
    "    new_country = {\n",
    "        \"country\": country,\n",
    "        \"visits\": visits,\n",
    "        \"cities\": cities\n",
    "    }\n",
    "    travel_log.append(new_country)\n",
    "\n",
    "\n",
    "add_new_country(\"Russia\", 2, [\"Moscow\", \"Saint Petersburg\"])\n",
    "print(travel_log)"
   ]
  },
  {
   "cell_type": "code",
   "execution_count": null,
   "metadata": {},
   "outputs": [],
   "source": []
  }
 ],
 "metadata": {
  "kernelspec": {
   "display_name": "Python 3",
   "language": "python",
   "name": "python3"
  },
  "language_info": {
   "codemirror_mode": {
    "name": "ipython",
    "version": 3
   },
   "file_extension": ".py",
   "mimetype": "text/x-python",
   "name": "python",
   "nbconvert_exporter": "python",
   "pygments_lexer": "ipython3",
   "version": "3.8.5"
  }
 },
 "nbformat": 4,
 "nbformat_minor": 4
}
