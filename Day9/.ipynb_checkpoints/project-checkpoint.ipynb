{
 "cells": [
  {
   "cell_type": "markdown",
   "metadata": {},
   "source": [
    "# Секретный аукцион"
   ]
  },
  {
   "cell_type": "code",
   "execution_count": 5,
   "metadata": {},
   "outputs": [
    {
     "name": "stdout",
     "output_type": "stream",
     "text": [
      "\n",
      "                         ___________\n",
      "                         \\         /\n",
      "                          )_______(\n",
      "                          |\"\"\"\"\"\"\"|_.-._,.---------.,_.-._\n",
      "                          |       | | |               | | ''-.\n",
      "                          |       |_| |_             _| |_..-'\n",
      "                          |_______| '-' `'---------'` '-'\n",
      "                          )\"\"\"\"\"\"\"(\n",
      "                         /_________\\\\\n",
      "                       .-------------.\n",
      "                      /_______________\\\\\n",
      "\n",
      "What is your name? Zaha\n",
      "What is your bid? $12\n",
      "Are there any other bidders? Type 'yes' or 'no'.\n",
      "yes\n",
      "\n",
      "                         ___________\n",
      "                         \\         /\n",
      "                          )_______(\n",
      "                          |\"\"\"\"\"\"\"|_.-._,.---------.,_.-._\n",
      "                          |       | | |               | | ''-.\n",
      "                          |       |_| |_             _| |_..-'\n",
      "                          |_______| '-' `'---------'` '-'\n",
      "                          )\"\"\"\"\"\"\"(\n",
      "                         /_________\\\\\n",
      "                       .-------------.\n",
      "                      /_______________\\\\\n",
      "\n",
      "What is your name? Oleg\n",
      "What is your bid? $15\n",
      "Are there any other bidders? Type 'yes' or 'no'.\n",
      "yes\n",
      "\n",
      "                         ___________\n",
      "                         \\         /\n",
      "                          )_______(\n",
      "                          |\"\"\"\"\"\"\"|_.-._,.---------.,_.-._\n",
      "                          |       | | |               | | ''-.\n",
      "                          |       |_| |_             _| |_..-'\n",
      "                          |_______| '-' `'---------'` '-'\n",
      "                          )\"\"\"\"\"\"\"(\n",
      "                         /_________\\\\\n",
      "                       .-------------.\n",
      "                      /_______________\\\\\n",
      "\n",
      "What is your name? vanya\n",
      "What is your bid? $8\n",
      "Are there any other bidders? Type 'yes' or 'no'.\n",
      "yes\n",
      "\n",
      "                         ___________\n",
      "                         \\         /\n",
      "                          )_______(\n",
      "                          |\"\"\"\"\"\"\"|_.-._,.---------.,_.-._\n",
      "                          |       | | |               | | ''-.\n",
      "                          |       |_| |_             _| |_..-'\n",
      "                          |_______| '-' `'---------'` '-'\n",
      "                          )\"\"\"\"\"\"\"(\n",
      "                         /_________\\\\\n",
      "                       .-------------.\n",
      "                      /_______________\\\\\n",
      "\n",
      "What is your name? Zic\n",
      "What is your bid? $9\n",
      "Are there any other bidders? Type 'yes' or 'no'.\n",
      "no\n",
      "The highest bid is $15.00 and it was made by Oleg\n"
     ]
    }
   ],
   "source": [
    "import os\n",
    "import auction_art\n",
    "\n",
    "\n",
    "def clear_screen():\n",
    "    os.system(\"cls\" if os.name == 'nt' else 'clear')\n",
    "\n",
    "\n",
    "bid_dict = {}\n",
    "another = 'yes'\n",
    "while another == 'yes':\n",
    "    print(auction_art.logo)\n",
    "    name = input('What is your name? ')\n",
    "    bid = float(input('What is your bid? $'))\n",
    "    print(\"Are there any other bidders? Type 'yes' or 'no'.\")\n",
    "    another = input()\n",
    "    bid_dict[name] = bid\n",
    "    clear_screen()\n",
    "\n",
    "reverse_bid_dict = {}\n",
    "for name in bid_dict:\n",
    "    bid = bid_dict[name]\n",
    "    reverse_bid_dict[bid] = name\n",
    "\n",
    "highest_bid = max(reverse_bid_dict)\n",
    "print(f'The highest bid is ${highest_bid:.2f} and it was made by {reverse_bid_dict[highest_bid]}')"
   ]
  },
  {
   "cell_type": "code",
   "execution_count": null,
   "metadata": {},
   "outputs": [],
   "source": []
  }
 ],
 "metadata": {
  "kernelspec": {
   "display_name": "Python 3",
   "language": "python",
   "name": "python3"
  },
  "language_info": {
   "codemirror_mode": {
    "name": "ipython",
    "version": 3
   },
   "file_extension": ".py",
   "mimetype": "text/x-python",
   "name": "python",
   "nbconvert_exporter": "python",
   "pygments_lexer": "ipython3",
   "version": "3.8.5"
  }
 },
 "nbformat": 4,
 "nbformat_minor": 4
}
