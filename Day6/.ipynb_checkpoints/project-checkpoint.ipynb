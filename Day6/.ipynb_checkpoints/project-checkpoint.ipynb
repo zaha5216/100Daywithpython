{
 "cells": [
  {
   "cell_type": "code",
   "execution_count": 1,
   "metadata": {},
   "outputs": [],
   "source": [
    "#https://reeborg.ca/reeborg.html?lang=en&mode=python&menu=worlds%2Fmenus%2Freeborg_intro_en.json&name=Maze&url=worlds%2Ftutorial_en%2Fmaze1.json"
   ]
  },
  {
   "cell_type": "code",
   "execution_count": null,
   "metadata": {},
   "outputs": [],
   "source": [
    "def turn_right():\n",
    "    turn_left()\n",
    "    turn_left()\n",
    "    turn_left()\n",
    "\n",
    "\n",
    "def robot_move():\n",
    "    if right_is_clear():\n",
    "        turn_right()\n",
    "        move()\n",
    "    elif front_is_clear():\n",
    "        move()\n",
    "    else:\n",
    "        turn_left()\n",
    "\n",
    "\n",
    "while front_is_clear():\n",
    "    move()\n",
    "while not at_goal():\n",
    "    robot_move()"
   ]
  }
 ],
 "metadata": {
  "kernelspec": {
   "display_name": "Python 3",
   "language": "python",
   "name": "python3"
  },
  "language_info": {
   "codemirror_mode": {
    "name": "ipython",
    "version": 3
   },
   "file_extension": ".py",
   "mimetype": "text/x-python",
   "name": "python",
   "nbconvert_exporter": "python",
   "pygments_lexer": "ipython3",
   "version": "3.8.5"
  }
 },
 "nbformat": 4,
 "nbformat_minor": 4
}
