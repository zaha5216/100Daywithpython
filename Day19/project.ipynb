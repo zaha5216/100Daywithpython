{
 "cells": [
  {
   "cell_type": "markdown",
   "metadata": {},
   "source": [
    "# Гонка черепах\n",
    "Создайте расу черепах.\n",
    "\n",
    "Попросите пользователя сделать ставку.\n",
    "\n",
    "Проверить, выигрывает ли пользователь.\n",
    "\n",
    "Заставьте черепаху двигаться беспорядочно."
   ]
  },
  {
   "cell_type": "code",
   "execution_count": 1,
   "metadata": {},
   "outputs": [
    {
     "name": "stdout",
     "output_type": "stream",
     "text": [
      "You've lost! The 'blue' turtle is the winner!\n"
     ]
    }
   ],
   "source": [
    "import turtle as t\n",
    "import random\n",
    "\n",
    "\n",
    "def random_color():\n",
    "    r = random.randint(0, 255)\n",
    "    g = random.randint(0, 255)\n",
    "    b = random.randint(0, 255)\n",
    "    color = (r, g, b)\n",
    "    return color\n",
    "\n",
    "\n",
    "def stripe_write(turtle_object, string, font):\n",
    "    for character in string:\n",
    "        turtle_object.color(random_color())\n",
    "        turtle_object.write(character, move=True, font=font)\n",
    "\n",
    "\n",
    "t.colormode(255)\n",
    "screen = t.Screen()\n",
    "screen.setup(width=500, height=400)\n",
    "screen.title('Turtle Race')\n",
    "user_bet = screen.textinput(\n",
    "    title='Make your bet',\n",
    "    prompt='Which turtle will win the race? Enter a color of the rainbow: '\n",
    ")\n",
    "\n",
    "tim = t.Turtle()\n",
    "tim.hideturtle()\n",
    "\n",
    "tim.penup()\n",
    "tim.goto(-220, 70)\n",
    "stripe_write(tim, 'Turtle Race', ('MamaeQueNosFaz', 80, 'normal'))\n",
    "\n",
    "colors = ['red', 'orange', 'yellow', 'green', 'blue', 'indigo', 'violet']\n",
    "y = -170\n",
    "\n",
    "turtles = []\n",
    "for idx in range(7):\n",
    "    turtle = t.Turtle('turtle')\n",
    "    turtle.color(colors[idx])\n",
    "    turtle.penup()\n",
    "    turtle.goto(-230, y)\n",
    "    turtles.append(turtle)\n",
    "    y += 40\n",
    "\n",
    "race_not_over = True\n",
    "no_winners = True\n",
    "winner = ''\n",
    "while race_not_over:\n",
    "    random.shuffle(turtles)\n",
    "    for turtle in turtles:\n",
    "        turtle.forward(random.randint(1, 10))\n",
    "        if turtle.xcor() >= 230 and no_winners:\n",
    "            winner = turtle.pencolor()\n",
    "            no_winners = False\n",
    "            race_not_over = False\n",
    "\n",
    "if winner == user_bet:\n",
    "    print(f\"You've won! The '{winner}' turtle is the winner!\")\n",
    "else:\n",
    "    print(f\"You've lost! The '{winner}' turtle is the winner!\")\n",
    "screen.exitonclick()"
   ]
  },
  {
   "cell_type": "code",
   "execution_count": null,
   "metadata": {},
   "outputs": [],
   "source": []
  },
  {
   "cell_type": "code",
   "execution_count": null,
   "metadata": {},
   "outputs": [],
   "source": []
  }
 ],
 "metadata": {
  "kernelspec": {
   "display_name": "Python 3",
   "language": "python",
   "name": "python3"
  },
  "language_info": {
   "codemirror_mode": {
    "name": "ipython",
    "version": 3
   },
   "file_extension": ".py",
   "mimetype": "text/x-python",
   "name": "python",
   "nbconvert_exporter": "python",
   "pygments_lexer": "ipython3",
   "version": "3.8.5"
  }
 },
 "nbformat": 4,
 "nbformat_minor": 4
}
