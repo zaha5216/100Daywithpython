{
 "cells": [
  {
   "cell_type": "code",
   "execution_count": 1,
   "metadata": {},
   "outputs": [
    {
     "name": "stdout",
     "output_type": "stream",
     "text": [
      "[2, 3, 4]\n"
     ]
    }
   ],
   "source": [
    "# прибавляет к каждому элементу списка +1\n",
    "numbers = [1, 2, 3]\n",
    "\n",
    "numbers_plus_one = [n + 1 for n in numbers]\n",
    "print(numbers_plus_one)"
   ]
  },
  {
   "cell_type": "code",
   "execution_count": 2,
   "metadata": {},
   "outputs": [
    {
     "name": "stdout",
     "output_type": "stream",
     "text": [
      "['Z', 'a', 'h', 'a']\n"
     ]
    }
   ],
   "source": [
    "# Разбивает элемент на списоко какждый символ отдельный элемент\n",
    "name = \"Zaha\"\n",
    "letters = [letter for letter in name]\n",
    "print(letters)"
   ]
  },
  {
   "cell_type": "code",
   "execution_count": 5,
   "metadata": {},
   "outputs": [
    {
     "name": "stdout",
     "output_type": "stream",
     "text": [
      "[2, 4, 6, 8]\n",
      "\n"
     ]
    }
   ],
   "source": [
    "values = [num * 2 for num in range(1, 5)]\n",
    "print(values)\n",
    "print()"
   ]
  },
  {
   "cell_type": "code",
   "execution_count": 6,
   "metadata": {},
   "outputs": [
    {
     "name": "stdout",
     "output_type": "stream",
     "text": [
      "['Alex', 'Beth', 'Dave']\n"
     ]
    }
   ],
   "source": [
    "# Выводит те имена где меньше 5 символов\n",
    "names = [\"Alex\", \"Beth\", \"Caroline\", \"Dave\", \"Eleanor\", \"Freddie\"]\n",
    "short_names = [name for name in names if len(name) < 5]\n",
    "print(short_names)"
   ]
  },
  {
   "cell_type": "code",
   "execution_count": 8,
   "metadata": {},
   "outputs": [
    {
     "name": "stdout",
     "output_type": "stream",
     "text": [
      "['CAROLINE', 'ELEANOR', 'FREDDIE']\n"
     ]
    }
   ],
   "source": [
    "# Выводит те имена где больше 5 символов\n",
    "\n",
    "long_names = [name.upper() for name in names if len(name) >= 5]\n",
    "print(long_names)"
   ]
  },
  {
   "cell_type": "code",
   "execution_count": 10,
   "metadata": {},
   "outputs": [
    {
     "name": "stdout",
     "output_type": "stream",
     "text": [
      "{'Alex': 90, 'Beth': 14, 'Caroline': 51, 'Dave': 27, 'Eleanor': 83, 'Freddie': 28}\n",
      "{'Alex': 90, 'Eleanor': 83}\n"
     ]
    }
   ],
   "source": [
    "from random import randint\n",
    "\n",
    "names = [\"Alex\", \"Beth\", \"Caroline\", \"Dave\", \"Eleanor\", \"Freddie\"]\n",
    "\n",
    "student_score = {student: randint(0, 100) for student in names}\n",
    "print(student_score)\n",
    "\n",
    "passed_students = {student: score for (student, score) in student_score.items() if score >= 60}\n",
    "print(passed_students)"
   ]
  },
  {
   "cell_type": "code",
   "execution_count": 11,
   "metadata": {},
   "outputs": [
    {
     "name": "stdout",
     "output_type": "stream",
     "text": [
      "Students: student\n",
      "Scores: ['Angela', 'James', 'Lily']\n",
      "Students: score\n",
      "Scores: [56, 76, 98]\n",
      "\n"
     ]
    }
   ],
   "source": [
    "import pandas\n",
    "\n",
    "student_dict = {\n",
    "    \"student\": [\"Angela\", \"James\", \"Lily\"],\n",
    "    \"score\": [56, 76, 98]\n",
    "}\n",
    "\n",
    "for (student, score) in student_dict.items():\n",
    "    print(f'Students: {student}')\n",
    "    print(f'Scores: {score}')\n",
    "print()\n"
   ]
  },
  {
   "cell_type": "code",
   "execution_count": 12,
   "metadata": {},
   "outputs": [
    {
     "name": "stdout",
     "output_type": "stream",
     "text": [
      "  student  score\n",
      "0  Angela     56\n",
      "1   James     76\n",
      "2    Lily     98\n",
      "\n"
     ]
    }
   ],
   "source": [
    "student_data_frame = pandas.DataFrame(student_dict)\n",
    "print(student_data_frame)\n",
    "print()"
   ]
  },
  {
   "cell_type": "code",
   "execution_count": 13,
   "metadata": {},
   "outputs": [
    {
     "name": "stdout",
     "output_type": "stream",
     "text": [
      "student\n",
      "0    Angela\n",
      "1     James\n",
      "2      Lily\n",
      "Name: student, dtype: object\n",
      "score\n",
      "0    56\n",
      "1    76\n",
      "2    98\n",
      "Name: score, dtype: int64\n",
      "\n"
     ]
    }
   ],
   "source": [
    "for (student, score) in student_data_frame.items():\n",
    "    print(student)\n",
    "    print(score)\n",
    "print()"
   ]
  },
  {
   "cell_type": "code",
   "execution_count": 14,
   "metadata": {},
   "outputs": [
    {
     "name": "stdout",
     "output_type": "stream",
     "text": [
      "0\n",
      "student    Angela\n",
      "score          56\n",
      "Name: 0, dtype: object\n",
      "\n",
      "1\n",
      "student    James\n",
      "score         76\n",
      "Name: 1, dtype: object\n",
      "\n",
      "2\n",
      "student    Lily\n",
      "score        98\n",
      "Name: 2, dtype: object\n",
      "\n"
     ]
    }
   ],
   "source": [
    "for (index, row) in student_data_frame.iterrows():\n",
    "    print(index)\n",
    "    print(row)\n",
    "    print()"
   ]
  },
  {
   "cell_type": "code",
   "execution_count": 15,
   "metadata": {},
   "outputs": [
    {
     "name": "stdout",
     "output_type": "stream",
     "text": [
      "Angela\n",
      "56\n",
      "\n",
      "James\n",
      "76\n",
      "\n",
      "Lily\n",
      "98\n",
      "\n"
     ]
    }
   ],
   "source": [
    "for (index, row) in student_data_frame.iterrows():\n",
    "    print(row.student)\n",
    "    print(row.score)\n",
    "    print()"
   ]
  },
  {
   "cell_type": "code",
   "execution_count": 16,
   "metadata": {},
   "outputs": [
    {
     "name": "stdout",
     "output_type": "stream",
     "text": [
      "56\n"
     ]
    }
   ],
   "source": [
    "for (index, row) in student_data_frame.iterrows():\n",
    "    if row.student == \"Angela\":\n",
    "        print(row.score)"
   ]
  },
  {
   "cell_type": "code",
   "execution_count": null,
   "metadata": {},
   "outputs": [],
   "source": []
  }
 ],
 "metadata": {
  "kernelspec": {
   "display_name": "Python 3",
   "language": "python",
   "name": "python3"
  },
  "language_info": {
   "codemirror_mode": {
    "name": "ipython",
    "version": 3
   },
   "file_extension": ".py",
   "mimetype": "text/x-python",
   "name": "python",
   "nbconvert_exporter": "python",
   "pygments_lexer": "ipython3",
   "version": "3.8.5"
  }
 },
 "nbformat": 4,
 "nbformat_minor": 4
}
