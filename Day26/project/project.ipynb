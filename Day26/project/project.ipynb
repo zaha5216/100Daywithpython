{
 "cells": [
  {
   "cell_type": "markdown",
   "metadata": {},
   "source": [
    "# ЗАДАЧА 1.\n",
    "Создайте словарь в таком формате:\n",
    "\n",
    "{\n",
    "    \"A\": \"Alfa\",\n",
    "    \"B\": \"Bravo\"\n",
    "}"
   ]
  },
  {
   "cell_type": "code",
   "execution_count": 1,
   "metadata": {},
   "outputs": [
    {
     "name": "stdout",
     "output_type": "stream",
     "text": [
      "Enter an word: Zaha\n",
      "The NATO code for ZAHA is:\n",
      "Zulu - Alfa - Hotel - Alfa\n"
     ]
    }
   ],
   "source": [
    "import pandas\n",
    "\n",
    "data_frame = pandas.read_csv('nato_phonetic_alphabet.csv')\n",
    "\n",
    "nato_dict = {row.letter: row.code for (index, row) in data_frame.iterrows()}\n",
    "\n",
    "word = input('Enter an word: ').upper()\n",
    "\n",
    "spelling_word = [nato_dict[letter] for letter in word]\n",
    "\n",
    "print(f'The NATO code for {word} is:')\n",
    "print(' - '.join(spelling_word))"
   ]
  },
  {
   "cell_type": "code",
   "execution_count": null,
   "metadata": {},
   "outputs": [],
   "source": []
  }
 ],
 "metadata": {
  "kernelspec": {
   "display_name": "Python 3",
   "language": "python",
   "name": "python3"
  },
  "language_info": {
   "codemirror_mode": {
    "name": "ipython",
    "version": 3
   },
   "file_extension": ".py",
   "mimetype": "text/x-python",
   "name": "python",
   "nbconvert_exporter": "python",
   "pygments_lexer": "ipython3",
   "version": "3.8.5"
  }
 },
 "nbformat": 4,
 "nbformat_minor": 4
}
