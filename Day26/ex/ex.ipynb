{
 "cells": [
  {
   "cell_type": "markdown",
   "metadata": {},
   "source": [
    "# Составление списка 1\n",
    "Написать понимание списка, чтобы создать новый список с именем squared_numbers. Этот новый список должен содержать все числа в списке, numbersно каждое число должно быть возведено в квадрат.\n",
    "\n",
    "e.g. `4 * 4 = 16`\n",
    "4 squared equals 16.\n",
    "НЕ изменяйте список numbersнапрямую. Попробуйте использовать понимание списка вместо цикл"
   ]
  },
  {
   "cell_type": "code",
   "execution_count": 1,
   "metadata": {},
   "outputs": [
    {
     "name": "stdout",
     "output_type": "stream",
     "text": [
      "[1, 1, 4, 9, 25, 64, 169, 441, 1156, 3025]\n"
     ]
    }
   ],
   "source": [
    "numbers = [1, 1, 2, 3, 5, 8, 13, 21, 34, 55]\n",
    "\n",
    "squared_numbers = [number ** 2 for number in numbers]\n",
    "print(squared_numbers)"
   ]
  },
  {
   "cell_type": "markdown",
   "metadata": {},
   "source": [
    "# Составление списка 2\n",
    "Написать понимание списка, чтобы создать новый список с именем result. Этот новый список должен содержать только четные числа из списка numbers."
   ]
  },
  {
   "cell_type": "code",
   "execution_count": 2,
   "metadata": {},
   "outputs": [
    {
     "name": "stdout",
     "output_type": "stream",
     "text": [
      "[2, 8, 34]\n"
     ]
    }
   ],
   "source": [
    "numbers = [1, 1, 2, 3, 5, 8, 13, 21, 34, 55]\n",
    "\n",
    "result = [number for number in numbers if number % 2 == 0]\n",
    "\n",
    "print(result)"
   ]
  },
  {
   "cell_type": "markdown",
   "metadata": {},
   "source": [
    "# Понимание списка 3\n",
    "Загляните внутрь file1.txt и file2.txt . Каждый из них содержит набор чисел, каждое число в новой строке.\n",
    "\n",
    "Вы собираетесь создать список под названием result, который будет содержать числа, общие для обоих файлов.\n",
    "\n",
    "например, если file1.txt содержит:"
   ]
  },
  {
   "cell_type": "code",
   "execution_count": 3,
   "metadata": {},
   "outputs": [
    {
     "name": "stdout",
     "output_type": "stream",
     "text": [
      "[3, 6, 5, 33, 12, 7]\n"
     ]
    }
   ],
   "source": [
    "with open('file1.txt') as file:\n",
    "    numbers1 = file.readlines()\n",
    "\n",
    "with open('file2.txt') as file:\n",
    "    numbers2 = file.readlines()\n",
    "\n",
    "result = [int(number) for number in numbers1 if number in numbers2]\n",
    "print(result)"
   ]
  },
  {
   "cell_type": "markdown",
   "metadata": {},
   "source": [
    "# Понимание словаря 1\n",
    "Использовать словарь, чтобы создать словарь с именем, result который берет каждое слово в данном предложении и вычисляет количество букв в каждом слове.\n",
    "\n",
    "Попробуйте поискать в Google, чтобы узнать, как преобразовать предложение в список слов.\n",
    "\n",
    "НЕ создавайте словарь напрямую. Попробуйте использовать понимание словаря вместо цикла .\n",
    "\n",
    "Пример вывода:\n",
    "\n",
    "{\n",
    "    'What': 4, \n",
    "    'is': 2, \n",
    "    'the': 3, \n",
    "    'Airspeed': 8, \n",
    "    'Velocity': 8, \n",
    "    'of': 2, \n",
    "    'an': 2, \n",
    "    'Unladen': 7, \n",
    "    'Swallow?': 8\n",
    "}"
   ]
  },
  {
   "cell_type": "code",
   "execution_count": 4,
   "metadata": {},
   "outputs": [
    {
     "name": "stdout",
     "output_type": "stream",
     "text": [
      "{'What': 4, 'is': 2, 'the': 3, 'Airspeed': 8, 'Velocity': 8, 'of': 2, 'an': 2, 'Unladen': 7, 'Swallow?': 8}\n"
     ]
    }
   ],
   "source": [
    "sentence = \"What is the Airspeed Velocity of an Unladen Swallow?\"\n",
    "\n",
    "result = {word: len(word) for word in sentence.split()}\n",
    "print(result)\n"
   ]
  },
  {
   "cell_type": "markdown",
   "metadata": {},
   "source": [
    "Использовать словарь, чтобы создать словарь с именем, weather_fahrenheitкоторый принимает каждую температуру в градусах Цельсия и преобразует ее в градусы Фарен-высоты.\n",
    "\n",
    "Чтобы преобразовать temp_c в temp_f: (temp_c * 9/5) + 32 = temp_f)"
   ]
  },
  {
   "cell_type": "code",
   "execution_count": 5,
   "metadata": {},
   "outputs": [
    {
     "name": "stdout",
     "output_type": "stream",
     "text": [
      "{'Monday': 53.6, 'Tuesday': 57.2, 'Wednesday': 59.0, 'Thursday': 57.2, 'Friday': 69.8, 'Saturday': 71.6, 'Sunday': 75.2}\n"
     ]
    }
   ],
   "source": [
    "def celsius_to_fahrenheit(celsius):\n",
    "    return celsius * 9 / 5 + 32\n",
    "\n",
    "\n",
    "weather_celsius = {\n",
    "    \"Monday\": 12,\n",
    "    \"Tuesday\": 14,\n",
    "    \"Wednesday\": 15,\n",
    "    \"Thursday\": 14,\n",
    "    \"Friday\": 21,\n",
    "    \"Saturday\": 22,\n",
    "    \"Sunday\": 24,\n",
    "}\n",
    "\n",
    "weather_fahrenheit = {day: celsius_to_fahrenheit(celsius) for (day, celsius) in weather_celsius.items()}\n",
    "print(weather_fahrenheit)"
   ]
  },
  {
   "cell_type": "code",
   "execution_count": null,
   "metadata": {},
   "outputs": [],
   "source": []
  }
 ],
 "metadata": {
  "kernelspec": {
   "display_name": "Python 3",
   "language": "python",
   "name": "python3"
  },
  "language_info": {
   "codemirror_mode": {
    "name": "ipython",
    "version": 3
   },
   "file_extension": ".py",
   "mimetype": "text/x-python",
   "name": "python",
   "nbconvert_exporter": "python",
   "pygments_lexer": "ipython3",
   "version": "3.8.5"
  }
 },
 "nbformat": 4,
 "nbformat_minor": 4
}
