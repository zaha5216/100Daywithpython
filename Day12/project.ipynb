{
 "cells": [
  {
   "cell_type": "markdown",
   "metadata": {},
   "source": [
    "# Игра в угадывание чисел\n",
    "Попросите пользователя угадать число, пока он не угадает правильно или у него не закончатся попытки.\n",
    "\n",
    "Легкий уровень: 10 попыток\n",
    "\n",
    "\n",
    "Жесткий уровень: 5 попыток\n"
   ]
  },
  {
   "cell_type": "code",
   "execution_count": null,
   "metadata": {},
   "outputs": [
    {
     "name": "stdout",
     "output_type": "stream",
     "text": [
      "\n",
      "  _   _                 _                  _____               _                _____                       \n",
      " | \\ | |               | |                / ____|             (_)              / ____|                      \n",
      " |  \\| |_   _ _ __ ___ | |__   ___ _ __  | |  __  ___  ___ ___ _ _ __   __ _  | |  __  __ _ _ __ ___   ___  \n",
      " | . ` | | | | '_ ` _ \\| '_ \\ / _ \\ '__| | | |_ |/ _ \\/ __/ __| | '_ \\ / _` | | | |_ |/ _` | '_ ` _ \\ / _ \\ \n",
      " | |\\  | |_| | | | | | | |_) |  __/ |    | |__| |  __/\\__ \\__ \\ | | | | (_| | | |__| | (_| | | | | | |  __/ \n",
      " |_| \\_|\\__,_|_| |_| |_|_.__/ \\___|_|     \\_____|\\___||___/___/_|_| |_|\\__, |  \\_____|\\__,_|_| |_| |_|\\___| \n",
      "                                                                        __/ |                               \n",
      "                                                                       |___/                                \n",
      "\n",
      "Choose a difficulty. Type 'easy' or 'hard': hard\n",
      "You have 5 attempts remaining to guess the number.\n"
     ]
    }
   ],
   "source": [
    "import random\n",
    "from game_art import logo\n",
    "\n",
    "\n",
    "def eval_guess(secret, guess):\n",
    "    if guess == secret:\n",
    "        print(f'You got it! The answer was {secret}')\n",
    "        return True\n",
    "    if guess > secret:\n",
    "        print('Too high.')\n",
    "    else:\n",
    "        print('Too low.')\n",
    "    return False\n",
    "\n",
    "\n",
    "def guessing_game(secret, attempts):\n",
    "    for _ in range(attempts):\n",
    "        print(f'You have {attempts} attempts remaining to guess the number.')\n",
    "        guess = int(input('Make a guess: '))\n",
    "        is_guess_correct = eval_guess(secret, guess)\n",
    "        if is_guess_correct:\n",
    "            return\n",
    "        attempts -= 1\n",
    "    print(\"You've run out of guesses, you lose.\")\n",
    "\n",
    "\n",
    "def play_game():\n",
    "    print(logo)\n",
    "    secret = random.randint(1, 100)\n",
    "    difficulty = input(\"Choose a difficulty. Type 'easy' or 'hard': \")\n",
    "    if difficulty == 'easy':\n",
    "        attempts = 10\n",
    "    elif difficulty == 'hard':\n",
    "        attempts = 5\n",
    "    else:\n",
    "        print(f'\"{difficulty}\" is not an option.')\n",
    "        print(\"Please rerun the program and type a VALID option.\")\n",
    "        return\n",
    "    guessing_game(secret, attempts)\n",
    "\n",
    "\n",
    "play_game()"
   ]
  },
  {
   "cell_type": "code",
   "execution_count": null,
   "metadata": {},
   "outputs": [],
   "source": []
  }
 ],
 "metadata": {
  "kernelspec": {
   "display_name": "Python 3",
   "language": "python",
   "name": "python3"
  }
 },
 "nbformat": 4,
 "nbformat_minor": 4
}
