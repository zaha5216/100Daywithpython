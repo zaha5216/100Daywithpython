{
 "cells": [
  {
   "cell_type": "code",
   "execution_count": 1,
   "metadata": {},
   "outputs": [
    {
     "name": "stdout",
     "output_type": "stream",
     "text": [
      "enemies inside function: 2\n",
      "enemies outside function: 1\n"
     ]
    }
   ],
   "source": [
    "enemies = 1\n",
    "\n",
    "\n",
    "def increase_enemies():\n",
    "    enemies = 2\n",
    "    print(f\"enemies inside function: {enemies}\")\n",
    "\n",
    "\n",
    "increase_enemies()\n",
    "print(f\"enemies outside function: {enemies}\")"
   ]
  },
  {
   "cell_type": "code",
   "execution_count": 2,
   "metadata": {},
   "outputs": [
    {
     "name": "stdout",
     "output_type": "stream",
     "text": [
      "potion_strength = 2\n",
      "player_health = 10\n"
     ]
    }
   ],
   "source": [
    "player_health = 10\n",
    "\n",
    "\n",
    "def drink_potion():\n",
    "    potion_strength = 2\n",
    "    print(f'potion_strength = {potion_strength}')\n",
    "    print(f'player_health = {player_health}')\n",
    "\n",
    "\n",
    "drink_potion()\n",
    "# print(potion_strength)  # NameError"
   ]
  },
  {
   "cell_type": "code",
   "execution_count": 3,
   "metadata": {},
   "outputs": [
    {
     "name": "stdout",
     "output_type": "stream",
     "text": [
      "potion_strength = 2\n",
      "player_health = 10\n",
      "10\n"
     ]
    }
   ],
   "source": [
    "player_health = 10\n",
    "\n",
    "\n",
    "def game():\n",
    "    def drink_potion():\n",
    "        potion_strength = 2\n",
    "        print(f'potion_strength = {potion_strength}')\n",
    "        print(f'player_health = {player_health}')\n",
    "\n",
    "    drink_potion()\n",
    "\n",
    "\n",
    "# drink_potion()  # NameError\n",
    "game() \n",
    "print(player_health)"
   ]
  },
  {
   "cell_type": "code",
   "execution_count": null,
   "metadata": {},
   "outputs": [],
   "source": []
  }
 ],
 "metadata": {
  "kernelspec": {
   "display_name": "Python 3",
   "language": "python",
   "name": "python3"
  },
  "language_info": {
   "codemirror_mode": {
    "name": "ipython",
    "version": 3
   },
   "file_extension": ".py",
   "mimetype": "text/x-python",
   "name": "python",
   "nbconvert_exporter": "python",
   "pygments_lexer": "ipython3",
   "version": "3.8.5"
  }
 },
 "nbformat": 4,
 "nbformat_minor": 4
}
