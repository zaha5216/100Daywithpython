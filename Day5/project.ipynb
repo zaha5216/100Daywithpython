{
 "cells": [
  {
   "cell_type": "markdown",
   "metadata": {},
   "source": [
    "# Генератор PyPassword\n",
    "Программа должна сгенерировать пароль с учетом требований пользователя.\n",
    "Используйте предоставленный код, чтобы начать.\n",
    "\n",
    "Сделать это можно двумя способами:\n",
    "\n",
    "Простой способ:\n",
    "Порядок символов не является случайным: сначала буквы, затем символы, а затем числа.\n",
    "\n",
    "Трудный путь:\n",
    "Порядок символов полностью случайный."
   ]
  },
  {
   "cell_type": "code",
   "execution_count": 1,
   "metadata": {},
   "outputs": [],
   "source": [
    "import random"
   ]
  },
  {
   "cell_type": "code",
   "execution_count": 2,
   "metadata": {},
   "outputs": [],
   "source": [
    "letters = ['a', 'b', 'c', 'd', 'e', 'f', 'g', 'h', 'i', 'j', 'k', 'l', 'm',\n",
    "           'n', 'o', 'p', 'q', 'r', 's', 't', 'u', 'v', 'w', 'x', 'y', 'z',\n",
    "           'A', 'B', 'C', 'D', 'E', 'F', 'G', 'H', 'I', 'J', 'K', 'L', 'M',\n",
    "           'N', 'O', 'P', 'Q', 'R', 'S', 'T', 'U', 'V', 'W', 'X', 'Y', 'Z']\n",
    "numbers = ['0', '1', '2', '3', '4', '5', '6', '7', '8', '9']\n",
    "symbols = ['!', '#', '$', '%', '&', '(', ')', '*', '+']"
   ]
  },
  {
   "cell_type": "code",
   "execution_count": 4,
   "metadata": {},
   "outputs": [
    {
     "name": "stdout",
     "output_type": "stream",
     "text": [
      "Welcome to the PyPassword Generator!\n",
      "How many letters would you like in your password? 7\n",
      "How many symbols would you like? 3\n",
      "How many numbers would you like? 2\n",
      "The easy password is: HRgdVEl)%&38\n",
      "The hard password is: &RHE)8Vgld%3\n"
     ]
    }
   ],
   "source": [
    "print(\"Welcome to the PyPassword Generator!\")\n",
    "num_letters = int(input(\"How many letters would you like in your password? \"))\n",
    "num_symbols = int(input(f\"How many symbols would you like? \"))\n",
    "num_numbers = int(input(f\"How many numbers would you like? \"))\n",
    "\n",
    "password = []\n",
    "for num in range(num_letters):\n",
    "    password.append(random.choice(letters))\n",
    "\n",
    "for num in range(num_symbols):\n",
    "    password.append(random.choice(symbols))\n",
    "\n",
    "for num in range(num_numbers):\n",
    "    password.append(random.choice(numbers))\n",
    "\n",
    "# Easy way\n",
    "easy_password = ''\n",
    "for char in password:\n",
    "    easy_password += char\n",
    "\n",
    "# Hard way\n",
    "random.shuffle(password)\n",
    "hard_password = ''\n",
    "for char in password:\n",
    "    hard_password += char\n",
    "\n",
    "print(f'The easy password is: {easy_password}')\n",
    "print(f'The hard password is: {hard_password}')"
   ]
  },
  {
   "cell_type": "code",
   "execution_count": null,
   "metadata": {},
   "outputs": [],
   "source": []
  }
 ],
 "metadata": {
  "kernelspec": {
   "display_name": "Python 3",
   "language": "python",
   "name": "python3"
  },
  "language_info": {
   "codemirror_mode": {
    "name": "ipython",
    "version": 3
   },
   "file_extension": ".py",
   "mimetype": "text/x-python",
   "name": "python",
   "nbconvert_exporter": "python",
   "pygments_lexer": "ipython3",
   "version": "3.8.5"
  }
 },
 "nbformat": 4,
 "nbformat_minor": 4
}
