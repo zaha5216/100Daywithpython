{
 "cells": [
  {
   "cell_type": "markdown",
   "metadata": {},
   "source": [
    "# Средний рост\n",
    "Написать программу, которая вычисляет средний рост ученика из Списка высот.\n",
    "\n",
    "например student_heights = [180, 124, 165, 173, 189, 169, 146]\n",
    "\n",
    "Среднюю высоту можно рассчитать, сложив все высоты вместе и разделив на общее количество высот.\n",
    "\n",
    "например\n",
    "\n",
    "180 + 124 + 165 + 173 + 189 + 169 + 146 = 1146\n",
    "\n",
    "Есть в общей сложности 7 высот вstudent_heights\n",
    "\n",
    "1146 ÷ 7 = 163,71428571428572\n",
    "\n",
    "Средний рост с округлением до ближайшего целого числа = 164\n",
    "\n",
    "Важно ! Вы не должны использовать в своем ответе функции sum()или len(). Вам следует попытаться воспроизвести их функциональность, используя то, что вы узнали о циклах for."
   ]
  },
  {
   "cell_type": "code",
   "execution_count": 2,
   "metadata": {},
   "outputs": [
    {
     "name": "stdout",
     "output_type": "stream",
     "text": [
      "Input a list of student heights: 170 120 160 198 170 156 180 183\n",
      "The average height is 167\n"
     ]
    }
   ],
   "source": [
    "student_heights = input(\"Input a list of student heights: \").split()\n",
    "for n in range(0, len(student_heights)):\n",
    "    student_heights[n] = int(student_heights[n])\n",
    "\n",
    "count = 0\n",
    "sum_ = 0\n",
    "for student_height in student_heights:\n",
    "    sum_ += student_height\n",
    "    count += 1\n",
    "avg_height = round(sum_ / count)\n",
    "\n",
    "print(f'The average height is {avg_height}')"
   ]
  },
  {
   "cell_type": "markdown",
   "metadata": {},
   "source": [
    "# Наивысший балл\n",
    "Написать программу, которая вычисляет наивысший балл из Списка баллов.\n",
    "\n",
    "например student_scores = [78, 65, 89, 86, 55, 91, 64, 89]\n",
    "\n",
    "Важно, что вам не разрешено использовать функции max или min. Выходные слова должны соответствовать примеру. т.е.\n",
    "\n",
    "The highest score in the class is: x"
   ]
  },
  {
   "cell_type": "code",
   "execution_count": 4,
   "metadata": {},
   "outputs": [
    {
     "name": "stdout",
     "output_type": "stream",
     "text": [
      "Input a list of student scores: 3 3 4 4 3\n",
      "The highest score in the class is: 4\n"
     ]
    }
   ],
   "source": [
    "student_scores = input(\"Input a list of student scores: \").split()\n",
    "for n in range(0, len(student_scores)):\n",
    "    student_scores[n] = int(student_scores[n])\n",
    "\n",
    "maximum = -1\n",
    "for score in student_scores:\n",
    "    if score > maximum:\n",
    "        maximum = score\n",
    "\n",
    "print(f'The highest score in the class is: {maximum}')"
   ]
  },
  {
   "cell_type": "markdown",
   "metadata": {},
   "source": [
    "Написать программу, которая вычисляет сумму всех четных чисел от 1 до 100, включая 2 и 100.\n",
    "\n",
    "например, 2 + 4 + 6 + 8 +10 ... + 98 + 100\n",
    "\n",
    "Важно: в выводе консоли должен быть только 1 оператор печати. Он должен просто печатать окончательную сумму, а не каждый шаг расчета."
   ]
  },
  {
   "cell_type": "code",
   "execution_count": 5,
   "metadata": {},
   "outputs": [
    {
     "name": "stdout",
     "output_type": "stream",
     "text": [
      "The sum of even numbers from 1 to 100 is: 2550\n"
     ]
    }
   ],
   "source": [
    "sum_evens = 0\n",
    "for num in range(2, 101, 2):\n",
    "    sum_evens += num\n",
    "print(f'The sum of even numbers from 1 to 100 is: {sum_evens}')\n"
   ]
  },
  {
   "cell_type": "markdown",
   "metadata": {},
   "source": [
    "# FizzBuzz\n",
    "Вы собираетесь написать программу, которая автоматически распечатает решение игры FizzBuzz.\n",
    "\n",
    "Your program should print each number from 1 to 100 in turn.\n",
    "\n",
    "When the number is divisible by 3 then instead of printing the number it should print \"Fizz\".\n",
    "\n",
    "When the number is divisible by 5, then instead of printing the number it should print \"Buzz\".\n",
    "\n",
    "And if the number is divisible by both 3 and 5 e.g. 15 then instead of the number it should print \"FizzBuzz\"\n"
   ]
  },
  {
   "cell_type": "code",
   "execution_count": 6,
   "metadata": {},
   "outputs": [
    {
     "name": "stdout",
     "output_type": "stream",
     "text": [
      "1\n",
      "2\n",
      "Fizz\n",
      "4\n",
      "Buzz\n",
      "Fizz\n",
      "7\n",
      "8\n",
      "Fizz\n",
      "Buzz\n",
      "11\n",
      "Fizz\n",
      "13\n",
      "14\n",
      "FizzBuzz\n",
      "16\n",
      "17\n",
      "Fizz\n",
      "19\n",
      "Buzz\n",
      "Fizz\n",
      "22\n",
      "23\n",
      "Fizz\n",
      "Buzz\n",
      "26\n",
      "Fizz\n",
      "28\n",
      "29\n",
      "FizzBuzz\n",
      "31\n",
      "32\n",
      "Fizz\n",
      "34\n",
      "Buzz\n",
      "Fizz\n",
      "37\n",
      "38\n",
      "Fizz\n",
      "Buzz\n",
      "41\n",
      "Fizz\n",
      "43\n",
      "44\n",
      "FizzBuzz\n",
      "46\n",
      "47\n",
      "Fizz\n",
      "49\n",
      "Buzz\n",
      "Fizz\n",
      "52\n",
      "53\n",
      "Fizz\n",
      "Buzz\n",
      "56\n",
      "Fizz\n",
      "58\n",
      "59\n",
      "FizzBuzz\n",
      "61\n",
      "62\n",
      "Fizz\n",
      "64\n",
      "Buzz\n",
      "Fizz\n",
      "67\n",
      "68\n",
      "Fizz\n",
      "Buzz\n",
      "71\n",
      "Fizz\n",
      "73\n",
      "74\n",
      "FizzBuzz\n",
      "76\n",
      "77\n",
      "Fizz\n",
      "79\n",
      "Buzz\n",
      "Fizz\n",
      "82\n",
      "83\n",
      "Fizz\n",
      "Buzz\n",
      "86\n",
      "Fizz\n",
      "88\n",
      "89\n",
      "FizzBuzz\n",
      "91\n",
      "92\n",
      "Fizz\n",
      "94\n",
      "Buzz\n",
      "Fizz\n",
      "97\n",
      "98\n",
      "Fizz\n",
      "Buzz\n"
     ]
    }
   ],
   "source": [
    "for number in range(1, 101):\n",
    "    if number % 3 == 0 and number % 5 == 0:\n",
    "        print('FizzBuzz')\n",
    "    elif number % 3 == 0:\n",
    "        print('Fizz')\n",
    "    elif number % 5 == 0:\n",
    "        print('Buzz')\n",
    "    else:\n",
    "        print(number)"
   ]
  },
  {
   "cell_type": "code",
   "execution_count": null,
   "metadata": {},
   "outputs": [],
   "source": []
  }
 ],
 "metadata": {
  "kernelspec": {
   "display_name": "Python 3",
   "language": "python",
   "name": "python3"
  },
  "language_info": {
   "codemirror_mode": {
    "name": "ipython",
    "version": 3
   },
   "file_extension": ".py",
   "mimetype": "text/x-python",
   "name": "python",
   "nbconvert_exporter": "python",
   "pygments_lexer": "ipython3",
   "version": "3.8.5"
  }
 },
 "nbformat": 4,
 "nbformat_minor": 4
}
