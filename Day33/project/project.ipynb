{
 "cells": [
  {
   "cell_type": "markdown",
   "metadata": {},
   "source": [
    "# Уведомление о накладных расходах ISS\n",
    "\n",
    "Ваше положение находится в пределах +5 или -5 градусов от положения МКС.\n",
    "\n",
    "Если МКС близка к моему текущему положению, и сейчас темно. \n",
    "Отправьте мне электронное письмо, чтобы я посмотрел вверх.\n",
    "\n",
    "БОНУС: запускайте код каждые 60 секунд."
   ]
  },
  {
   "cell_type": "code",
   "execution_count": 1,
   "metadata": {},
   "outputs": [
    {
     "ename": "KeyboardInterrupt",
     "evalue": "",
     "output_type": "error",
     "traceback": [
      "\u001b[0;31m---------------------------------------------------------------------------\u001b[0m",
      "\u001b[0;31mKeyboardInterrupt\u001b[0m                         Traceback (most recent call last)",
      "\u001b[0;32m<ipython-input-1-f7c16f1044b0>\u001b[0m in \u001b[0;36m<module>\u001b[0;34m\u001b[0m\n\u001b[1;32m     50\u001b[0m     \u001b[0;32mif\u001b[0m \u001b[0mcheck_coordinates\u001b[0m\u001b[0;34m(\u001b[0m\u001b[0;34m)\u001b[0m \u001b[0;32mand\u001b[0m \u001b[0mis_dark\u001b[0m\u001b[0;34m(\u001b[0m\u001b[0;34m)\u001b[0m\u001b[0;34m:\u001b[0m\u001b[0;34m\u001b[0m\u001b[0;34m\u001b[0m\u001b[0m\n\u001b[1;32m     51\u001b[0m         \u001b[0msend_email\u001b[0m\u001b[0;34m(\u001b[0m\u001b[0;34m'Look up!'\u001b[0m\u001b[0;34m)\u001b[0m\u001b[0;34m\u001b[0m\u001b[0;34m\u001b[0m\u001b[0m\n\u001b[0;32m---> 52\u001b[0;31m     \u001b[0msleep\u001b[0m\u001b[0;34m(\u001b[0m\u001b[0;36m60\u001b[0m\u001b[0;34m)\u001b[0m\u001b[0;34m\u001b[0m\u001b[0;34m\u001b[0m\u001b[0m\n\u001b[0m",
      "\u001b[0;31mKeyboardInterrupt\u001b[0m: "
     ]
    }
   ],
   "source": [
    "import os\n",
    "import smtplib\n",
    "import requests\n",
    "from datetime import datetime\n",
    "from time import sleep\n",
    "\n",
    "LATITUDE = 59.938480\n",
    "LONGITUDE = 30.312481\n",
    "ISS_API = \"http://api.open-notify.org/iss-now.json\"\n",
    "SUNRISE_SUNSET_API = \"https://api.sunrise-sunset.org/json\"\n",
    "parameters = {\n",
    "    \"lat\": LATITUDE,\n",
    "    \"lng\": LONGITUDE,\n",
    "    \"formatted\": 0,\n",
    "}\n",
    "\n",
    "email = \"puthonodro4er@gmail.com\"\n",
    "password = \"Alexey16\"\n",
    "\n",
    "\n",
    "def check_coordinates():\n",
    "    response = requests.get(url=ISS_API)\n",
    "    response.raise_for_status()\n",
    "    data = response.json()\n",
    "    lat = float(data[\"iss_position\"][\"latitude\"])\n",
    "    long = float(data[\"iss_position\"][\"longitude\"])\n",
    "\n",
    "    return abs(LATITUDE - lat) <= 5 and abs(LONGITUDE - long) <= 5\n",
    "\n",
    "\n",
    "def is_dark():\n",
    "    response = requests.get(url=SUNRISE_SUNSET_API, params=parameters)\n",
    "    response.raise_for_status()\n",
    "    data = response.json()\n",
    "    sunrise = int(data[\"results\"][\"sunrise\"].split(\"T\")[1].split(\":\")[0])\n",
    "    sunset = int(data[\"results\"][\"sunset\"].split(\"T\")[1].split(\":\")[0])\n",
    "    now_hour = datetime.now().hour\n",
    "    return not (sunrise <= now_hour <= sunset)\n",
    "\n",
    "\n",
    "def send_email(string):\n",
    "    text = f'Subject: ISS Report\\n\\n{string}'\n",
    "    with smtplib.SMTP(\"smtp.gmail.com\", port=587) as connection:\n",
    "        connection.starttls()\n",
    "        connection.login(user=email, password=password)\n",
    "        connection.sendmail(from_addr=email, to_addrs=email, msg=text)\n",
    "\n",
    "\n",
    "while True:\n",
    "    if check_coordinates() and is_dark():\n",
    "        send_email('Look up!')\n",
    "    sleep(60)"
   ]
  },
  {
   "cell_type": "code",
   "execution_count": null,
   "metadata": {},
   "outputs": [],
   "source": []
  }
 ],
 "metadata": {
  "kernelspec": {
   "display_name": "Python 3",
   "language": "python",
   "name": "python3"
  },
  "language_info": {
   "codemirror_mode": {
    "name": "ipython",
    "version": 3
   },
   "file_extension": ".py",
   "mimetype": "text/x-python",
   "name": "python",
   "nbconvert_exporter": "python",
   "pygments_lexer": "ipython3",
   "version": "3.8.5"
  }
 },
 "nbformat": 4,
 "nbformat_minor": 4
}
