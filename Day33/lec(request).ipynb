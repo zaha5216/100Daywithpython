{
 "cells": [
  {
   "cell_type": "code",
   "execution_count": 1,
   "metadata": {},
   "outputs": [
    {
     "name": "stdout",
     "output_type": "stream",
     "text": [
      "<Response [200]>\n",
      "200\n",
      "\n",
      "<Response [404]>\n",
      "404\n"
     ]
    }
   ],
   "source": [
    "import requests\n",
    "\n",
    "response = requests.get(url=\"http://api.open-notify.org/iss-now.json\")\n",
    "print(response)\n",
    "print(response.status_code)\n",
    "print()\n",
    "\n",
    "response = requests.get(url=\"http://api.open-notify.org/is-now.json\")\n",
    "print(response)\n",
    "print(response.status_code)"
   ]
  },
  {
   "cell_type": "code",
   "execution_count": 2,
   "metadata": {},
   "outputs": [
    {
     "name": "stdout",
     "output_type": "stream",
     "text": [
      "No Error\n",
      "\n",
      "Error\n"
     ]
    }
   ],
   "source": [
    "import requests\n",
    "\n",
    "response = requests.get(url=\"http://api.open-notify.org/iss-now.json\")\n",
    "\n",
    "if response.status_code != 200:\n",
    "    print(\"Error\")\n",
    "else:\n",
    "    print(\"No Error\")\n",
    "print()\n",
    "# Ошибка при вводе url iss!!!\n",
    "response = requests.get(url=\"http://api.open-notify.org/is-now.json\")\n",
    "\n",
    "if response.status_code != 200:\n",
    "    print(\"Error\")\n",
    "else:\n",
    "    print(\"No Error\")"
   ]
  },
  {
   "cell_type": "code",
   "execution_count": 4,
   "metadata": {},
   "outputs": [
    {
     "name": "stdout",
     "output_type": "stream",
     "text": [
      "Response worked\n"
     ]
    },
    {
     "ename": "Exception",
     "evalue": "Bad response from ISS API.",
     "output_type": "error",
     "traceback": [
      "\u001b[0;31m---------------------------------------------------------------------------\u001b[0m",
      "\u001b[0;31mException\u001b[0m                                 Traceback (most recent call last)",
      "\u001b[0;32m<ipython-input-4-3525d6b0a50a>\u001b[0m in \u001b[0;36m<module>\u001b[0;34m\u001b[0m\n\u001b[1;32m     10\u001b[0m \u001b[0;34m\u001b[0m\u001b[0m\n\u001b[1;32m     11\u001b[0m \u001b[0;32mif\u001b[0m \u001b[0mresponse\u001b[0m\u001b[0;34m.\u001b[0m\u001b[0mstatus_code\u001b[0m \u001b[0;34m!=\u001b[0m \u001b[0;36m200\u001b[0m\u001b[0;34m:\u001b[0m\u001b[0;34m\u001b[0m\u001b[0;34m\u001b[0m\u001b[0m\n\u001b[0;32m---> 12\u001b[0;31m     \u001b[0;32mraise\u001b[0m \u001b[0mException\u001b[0m\u001b[0;34m(\u001b[0m\u001b[0;34m\"Bad response from ISS API.\"\u001b[0m\u001b[0;34m)\u001b[0m\u001b[0;34m\u001b[0m\u001b[0;34m\u001b[0m\u001b[0m\n\u001b[0m\u001b[1;32m     13\u001b[0m \u001b[0;32melse\u001b[0m\u001b[0;34m:\u001b[0m\u001b[0;34m\u001b[0m\u001b[0;34m\u001b[0m\u001b[0m\n\u001b[1;32m     14\u001b[0m     \u001b[0mprint\u001b[0m\u001b[0;34m(\u001b[0m\u001b[0;34m\"Response worked\"\u001b[0m\u001b[0;34m)\u001b[0m\u001b[0;34m\u001b[0m\u001b[0;34m\u001b[0m\u001b[0m\n",
      "\u001b[0;31mException\u001b[0m: Bad response from ISS API."
     ]
    }
   ],
   "source": [
    "import requests\n",
    "\n",
    "response = requests.get(url=\"http://api.open-notify.org/iss-now.json\")\n",
    "\n",
    "if response.status_code != 200:\n",
    "    raise Exception(\"Bad response from ISS API.\")\n",
    "else:\n",
    "    print(\"Response worked\")\n",
    "response = requests.get(url=\"http://api.open-notify.org/is-now.json\")\n",
    "\n",
    "if response.status_code != 200:\n",
    "    raise Exception(\"Bad response from ISS API.\")\n",
    "else:\n",
    "    print(\"Response worked\")"
   ]
  },
  {
   "cell_type": "code",
   "execution_count": 5,
   "metadata": {},
   "outputs": [],
   "source": [
    "import requests\n",
    "\n",
    "response = requests.get(url=\"http://api.open-notify.org/iss-now.json\")\n",
    "\n",
    "if response.status_code == 404:\n",
    "    raise Exception(\"That resource does not exist.\")\n",
    "elif response.status_code == 401:\n",
    "    raise Exception(\"You are not authorised to access this data.\")"
   ]
  },
  {
   "cell_type": "code",
   "execution_count": 7,
   "metadata": {},
   "outputs": [],
   "source": [
    "import requests\n",
    "\n",
    "response = requests.get(url=\"http://api.open-notify.org/iss-now.json\")\n",
    "response.raise_for_status()\n"
   ]
  },
  {
   "cell_type": "code",
   "execution_count": 8,
   "metadata": {},
   "outputs": [
    {
     "name": "stdout",
     "output_type": "stream",
     "text": [
      "{'timestamp': 1616284422, 'message': 'success', 'iss_position': {'latitude': '-43.1547', 'longitude': '109.6470'}}\n",
      "{'latitude': '-43.1547', 'longitude': '109.6470'}\n",
      "109.6470\n",
      "-43.1547\n",
      "('109.6470', '-43.1547')\n"
     ]
    }
   ],
   "source": [
    "import requests\n",
    "\n",
    "response = requests.get(url=\"http://api.open-notify.org/iss-now.json\")\n",
    "response.raise_for_status()\n",
    "\n",
    "data = response.json()\n",
    "print(data)\n",
    "print(data[\"iss_position\"])\n",
    "\n",
    "longitude = data[\"iss_position\"][\"longitude\"]\n",
    "latitude = data[\"iss_position\"][\"latitude\"]\n",
    "iss_position = (longitude, latitude)\n",
    "print(longitude)\n",
    "print(latitude)\n",
    "print(iss_position)"
   ]
  },
  {
   "cell_type": "code",
   "execution_count": 10,
   "metadata": {},
   "outputs": [
    {
     "name": "stdout",
     "output_type": "stream",
     "text": [
      "{'timestamp': 1616284583, 'message': 'success', 'iss_position': {'latitude': '-47.8696', 'longitude': '122.1261'}}\n",
      "{'latitude': '-47.8696', 'longitude': '122.1261'}\n"
     ]
    }
   ],
   "source": [
    "response = requests.get(url=\"http://api.open-notify.org/iss-now.json\")\n",
    "response.raise_for_status()\n",
    "data = response.json()\n",
    "print(data)\n",
    "print(data[\"iss_position\"])"
   ]
  },
  {
   "cell_type": "code",
   "execution_count": 15,
   "metadata": {},
   "outputs": [
    {
     "name": "stdout",
     "output_type": "stream",
     "text": [
      "{'results': {'sunrise': '2021-03-21T09:20:34+00:00', 'sunset': '2021-03-21T21:25:40+00:00', 'solar_noon': '2021-03-21T15:23:07+00:00', 'day_length': 43506, 'civil_twilight_begin': '2021-03-21T08:58:18+00:00', 'civil_twilight_end': '2021-03-21T21:47:56+00:00', 'nautical_twilight_begin': '2021-03-21T08:32:19+00:00', 'nautical_twilight_end': '2021-03-21T22:13:56+00:00', 'astronomical_twilight_begin': '2021-03-21T08:06:15+00:00', 'astronomical_twilight_end': '2021-03-21T22:40:00+00:00'}, 'status': 'OK'}\n",
      "\n",
      "2021-03-21T09:20:34+00:00\n",
      "2021-03-21T21:25:40+00:00\n",
      "\n",
      "2021-03-21 03:06:31.125180\n",
      "\n",
      "It's night time!\n"
     ]
    }
   ],
   "source": [
    "import requests\n",
    "from datetime import datetime\n",
    "\n",
    "LATITUDE = -22.338930\n",
    "LONGITUDE = -49.055190\n",
    "URL = \"https://api.sunrise-sunset.org/json\"\n",
    "\n",
    "\n",
    "def hour_time(time):\n",
    "    return int(time.split(\"T\")[1].split(':')[0])\n",
    "\n",
    "parameters = {\n",
    "    'lat': LATITUDE,\n",
    "    'lng': LONGITUDE,\n",
    "    'formatted': 0\n",
    "}\n",
    "\n",
    "response = requests.get(URL, params=parameters)\n",
    "response.raise_for_status()\n",
    "\n",
    "data = response.json()\n",
    "print(data)\n",
    "print()\n",
    "\n",
    "\n",
    "sunrise = data[\"results\"][\"sunrise\"]\n",
    "sunset = data[\"results\"][\"sunset\"]\n",
    "print(sunrise)\n",
    "print(sunset)\n",
    "print()\n",
    "\n",
    "time_now = datetime.now()\n",
    "print(time_now)\n",
    "print()\n",
    "\n",
    "sunrise_hour = hour_time(sunrise)\n",
    "sunset_hour = hour_time(sunset)\n",
    "now_hour = time_now.hour\n",
    "\n",
    "if sunrise_hour <= now_hour <= sunset_hour:\n",
    "    print(\"It's day time!\")\n",
    "else:\n",
    "    print(\"It's night time!\")"
   ]
  },
  {
   "cell_type": "code",
   "execution_count": 16,
   "metadata": {},
   "outputs": [
    {
     "name": "stdout",
     "output_type": "stream",
     "text": [
      "{'results': {'sunrise': '2021-03-21T03:57:36+00:00', 'sunset': '2021-03-21T16:08:18+00:00', 'solar_noon': '2021-03-21T10:02:57+00:00', 'day_length': 43842, 'civil_twilight_begin': '2021-03-21T03:33:42+00:00', 'civil_twilight_end': '2021-03-21T16:32:11+00:00', 'nautical_twilight_begin': '2021-03-21T03:05:45+00:00', 'nautical_twilight_end': '2021-03-21T17:00:09+00:00', 'astronomical_twilight_begin': '2021-03-21T02:37:32+00:00', 'astronomical_twilight_end': '2021-03-21T17:28:22+00:00'}, 'status': 'OK'}\n",
      "\n",
      "2021-03-21T03:57:36+00:00\n",
      "2021-03-21T16:08:18+00:00\n",
      "\n",
      "2021-03-21 03:06:35.998466\n",
      "\n",
      "It's day time!\n"
     ]
    }
   ],
   "source": [
    "import requests\n",
    "from datetime import datetime\n",
    "\n",
    "LATITUDE = 59.9665,30.3193\n",
    "LONGITUDE = 60.1243,31.0058\n",
    "URL = \"https://api.sunrise-sunset.org/json\"\n",
    "\n",
    "\n",
    "def hour_time(time):\n",
    "    return int(time.split(\"T\")[1].split(':')[0])\n",
    "\n",
    "parameters = {\n",
    "    'lat': LATITUDE,\n",
    "    'lng': LONGITUDE,\n",
    "    'formatted': 0\n",
    "}\n",
    "\n",
    "response = requests.get(URL, params=parameters)\n",
    "response.raise_for_status()\n",
    "\n",
    "data = response.json()\n",
    "print(data)\n",
    "print()\n",
    "\n",
    "\n",
    "sunrise = data[\"results\"][\"sunrise\"]\n",
    "sunset = data[\"results\"][\"sunset\"]\n",
    "print(sunrise)\n",
    "print(sunset)\n",
    "print()\n",
    "\n",
    "time_now = datetime.now()\n",
    "print(time_now)\n",
    "print()\n",
    "\n",
    "sunrise_hour = hour_time(sunrise)\n",
    "sunset_hour = hour_time(sunset)\n",
    "now_hour = time_now.hour\n",
    "\n",
    "if sunrise_hour <= now_hour <= sunset_hour:\n",
    "    print(\"It's day time!\")\n",
    "else:\n",
    "    print(\"It's night time!\")"
   ]
  },
  {
   "cell_type": "code",
   "execution_count": null,
   "metadata": {},
   "outputs": [],
   "source": []
  }
 ],
 "metadata": {
  "kernelspec": {
   "display_name": "Python 3",
   "language": "python",
   "name": "python3"
  },
  "language_info": {
   "codemirror_mode": {
    "name": "ipython",
    "version": 3
   },
   "file_extension": ".py",
   "mimetype": "text/x-python",
   "name": "python",
   "nbconvert_exporter": "python",
   "pygments_lexer": "ipython3",
   "version": "3.8.5"
  }
 },
 "nbformat": 4,
 "nbformat_minor": 4
}
