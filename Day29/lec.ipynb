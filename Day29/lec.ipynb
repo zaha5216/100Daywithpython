{
 "cells": [
  {
   "cell_type": "code",
   "execution_count": 1,
   "metadata": {},
   "outputs": [],
   "source": [
    "from tkinter import *\n",
    "\n",
    "window = Tk()\n",
    "\n",
    "red = Label(bg=\"red\", width=20, height=5)\n",
    "green = Label(bg=\"green\", width=20, height=5)\n",
    "blue = Label(bg=\"blue\", width=20, height=5)\n",
    "\n",
    "\n",
    "red.grid(row=0, column=0)\n",
    "green.grid(row=1, column=1)\n",
    "blue.grid(row=2, column=0)\n",
    "\n",
    "window.mainloop()"
   ]
  },
  {
   "cell_type": "code",
   "execution_count": 1,
   "metadata": {},
   "outputs": [],
   "source": [
    "from tkinter import *\n",
    "\n",
    "window = Tk()\n",
    "\n",
    "red = Label(bg=\"red\", width=20, height=5)\n",
    "green = Label(bg=\"green\", width=20, height=5)\n",
    "blue = Label(bg=\"blue\", width=40, height=5)\n",
    "\n",
    "\n",
    "red.grid(row=0, column=0)\n",
    "green.grid(row=1, column=1)\n",
    "blue.grid(row=2, column=0)\n",
    "\n",
    "window.mainloop()"
   ]
  },
  {
   "cell_type": "code",
   "execution_count": null,
   "metadata": {},
   "outputs": [],
   "source": [
    "from tkinter import *\n",
    "\n",
    "window = Tk()\n",
    "\n",
    "red = Label(bg=\"red\", width=20, height=5)\n",
    "green = Label(bg=\"green\", width=20, height=5)\n",
    "blue = Label(bg=\"blue\", width=40, height=5)\n",
    "\n",
    "\n",
    "red.grid(row=0, column=0)\n",
    "green.grid(row=1, column=1)\n",
    "blue.grid(row=2, column=0, columnspan=2)\n",
    "\n",
    "window.mainloop()"
   ]
  },
  {
   "cell_type": "code",
   "execution_count": null,
   "metadata": {},
   "outputs": [],
   "source": []
  }
 ],
 "metadata": {
  "kernelspec": {
   "display_name": "Python 3",
   "language": "python",
   "name": "python3"
  },
  "language_info": {
   "codemirror_mode": {
    "name": "ipython",
    "version": 3
   },
   "file_extension": ".py",
   "mimetype": "text/x-python",
   "name": "python",
   "nbconvert_exporter": "python",
   "pygments_lexer": "ipython3",
   "version": "3.8.5"
  }
 },
 "nbformat": 4,
 "nbformat_minor": 4
}
