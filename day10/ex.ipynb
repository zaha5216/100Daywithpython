{
 "cells": [
  {
   "cell_type": "markdown",
   "metadata": {},
   "source": [
    "# Дни в Месяце\n",
    "Инструкции\n",
    "В начальном коде вы найдете решение задачи «Високосный год». Сначала преобразуйте эту функцию is_leap()так, чтобы вместо вывода «Високосный год». или «Не високосный год». он должен вернуться, True если это високосный год, и вернуться, False если это не високосный год.\n",
    "\n",
    "Затем вы собираетесь создать функцию с именем, days_in_month()которая будет принимать год и месяц в качестве входных данных, например\n",
    "\n",
    "days_in_month(year=2022, month=2)\n",
    "\n",
    "И он будет использовать эту информацию, чтобы вычислить количество дней в месяце , а затем вернуть это как результат , например:\n",
    "28\n",
    "Список month_days содержит количество дней в месяце с января по декабрь для невисокосного года.\n",
    "В феврале в високосном году 29 дней."
   ]
  },
  {
   "cell_type": "code",
   "execution_count": 2,
   "metadata": {},
   "outputs": [
    {
     "name": "stdout",
     "output_type": "stream",
     "text": [
      "Enter a year: 2018\n",
      "Enter a month: 2\n",
      "28\n"
     ]
    }
   ],
   "source": [
    "def is_leap(y):\n",
    "    return y % 400 == 0 or y % 4 == 0 and y % 100 != 0\n",
    "\n",
    "\n",
    "def days_in_month(y, m):\n",
    "    month_days = [31, 28, 31, 30, 31, 30, 31, 31, 30, 31, 30, 31]\n",
    "    if m == 2 and is_leap(y):\n",
    "        return 29\n",
    "    return month_days[m - 1]\n",
    "\n",
    "\n",
    "\n",
    "year = int(input(\"Enter a year: \"))\n",
    "month = int(input(\"Enter a month: \"))\n",
    "days = days_in_month(year, month)\n",
    "print(days)"
   ]
  },
  {
   "cell_type": "code",
   "execution_count": null,
   "metadata": {},
   "outputs": [],
   "source": []
  }
 ],
 "metadata": {
  "kernelspec": {
   "display_name": "Python 3",
   "language": "python",
   "name": "python3"
  },
  "language_info": {
   "codemirror_mode": {
    "name": "ipython",
    "version": 3
   },
   "file_extension": ".py",
   "mimetype": "text/x-python",
   "name": "python",
   "nbconvert_exporter": "python",
   "pygments_lexer": "ipython3",
   "version": "3.8.5"
  }
 },
 "nbformat": 4,
 "nbformat_minor": 4
}
