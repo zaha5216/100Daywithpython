{
 "cells": [
  {
   "cell_type": "code",
   "execution_count": 1,
   "metadata": {},
   "outputs": [
    {
     "name": "stdout",
     "output_type": "stream",
     "text": [
      "What's the first number? 12\n",
      "+ - * / \n",
      "Pick an operation from the line above: *\n",
      "What's the second number? 12\n",
      "12 * 12 = 144\n"
     ]
    }
   ],
   "source": [
    "# Калькулятор\n",
    "def add(a, b):\n",
    "    return a + b\n",
    "\n",
    "\n",
    "def subtract(a, b):\n",
    "    return a - b\n",
    "\n",
    "\n",
    "def multiply(a, b):\n",
    "    return a * b\n",
    "\n",
    "\n",
    "def divide(a, b):\n",
    "    return a / b\n",
    "\n",
    "\n",
    "operations = {\n",
    "    '+': add,\n",
    "    '-': subtract,\n",
    "    '*': multiply,\n",
    "    '/': divide\n",
    "}\n",
    "\n",
    "\n",
    "num1 = int(input(\"What's the first number? \"))\n",
    "for symbol in operations:\n",
    "    print(symbol, end=' ')\n",
    "print()\n",
    "operation = input(\"Pick an operation from the line above: \")\n",
    "num2 = int(input(\"What's the second number? \"))\n",
    "\n",
    "calc_func = operations[operation]\n",
    "answer = calc_func(num1, num2)\n",
    "print(f\"{num1} {operation} {num2} = {answer}\")"
   ]
  },
  {
   "cell_type": "code",
   "execution_count": null,
   "metadata": {},
   "outputs": [],
   "source": []
  },
  {
   "cell_type": "code",
   "execution_count": 2,
   "metadata": {},
   "outputs": [
    {
     "name": "stdout",
     "output_type": "stream",
     "text": [
      "What's the first number? 12\n",
      "+ - * / \n",
      "Pick an operation from the line above: *\n",
      "What's the second number? 12\n",
      "12 * 12 = 144\n",
      "Pick another operation:  /\n",
      "What's the next number? 12\n",
      "144 / 12 = 12.0\n"
     ]
    }
   ],
   "source": [
    "# Калькулятор с возможностью выполнить 2 действия\n",
    "def add(a, b):\n",
    "    return a + b\n",
    "\n",
    "\n",
    "def subtract(a, b):\n",
    "    return a - b\n",
    "\n",
    "\n",
    "def multiply(a, b):\n",
    "    return a * b\n",
    "\n",
    "\n",
    "def divide(a, b):\n",
    "    return a / b\n",
    "\n",
    "\n",
    "operations = {\n",
    "    '+': add,\n",
    "    '-': subtract,\n",
    "    '*': multiply,\n",
    "    '/': divide\n",
    "}\n",
    "\n",
    "num1 = int(input(\"What's the first number? \"))\n",
    "for symbol in operations:\n",
    "    print(symbol, end=' ')\n",
    "print()\n",
    "operation = input(\"Pick an operation from the line above: \")\n",
    "num2 = int(input(\"What's the second number? \"))\n",
    "\n",
    "calc_func = operations[operation]\n",
    "first_answer = calc_func(num1, num2)\n",
    "print(f\"{num1} {operation} {num2} = {first_answer}\")\n",
    "\n",
    "operation = input(\"Pick another operation:  \")\n",
    "num3 = int(input(\"What's the next number? \"))\n",
    "calc_func = operations[operation]\n",
    "# second_answer = calc_func(calc_func(num1, num2), num3)\n",
    "second_answer = calc_func(first_answer, num3)\n",
    "print(f\"{first_answer} {operation} {num2} = {second_answer}\")\n"
   ]
  },
  {
   "cell_type": "code",
   "execution_count": null,
   "metadata": {},
   "outputs": [
    {
     "name": "stdout",
     "output_type": "stream",
     "text": [
      "What's the first number? 12\n",
      "+ - * / \n",
      "Pick an operation: *\n",
      "What's the next number? 12\n",
      "12 * 12 = 144\n",
      "Type 'y' to continue calculating with 144,\n",
      "'n' to start a new calculation: \n",
      "y\n",
      "+ - * / \n",
      "Pick an operation: /\n",
      "What's the next number? 12\n",
      "144 / 12 = 12.0\n",
      "Type 'y' to continue calculating with 12.0,\n",
      "'n' to start a new calculation: \n",
      "y\n",
      "+ - * / \n",
      "Pick an operation: *\n",
      "What's the next number? 12\n",
      "12.0 * 12 = 144.0\n",
      "Type 'y' to continue calculating with 144.0,\n",
      "'n' to start a new calculation: \n"
     ]
    }
   ],
   "source": [
    "def add(a, b):\n",
    "    return a + b\n",
    "\n",
    "\n",
    "def subtract(a, b):\n",
    "    return a - b\n",
    "\n",
    "\n",
    "def multiply(a, b):\n",
    "    return a * b\n",
    "\n",
    "\n",
    "def divide(a, b):\n",
    "    return a / b\n",
    "\n",
    "\n",
    "operations = {\n",
    "    '+': add,\n",
    "    '-': subtract,\n",
    "    '*': multiply,\n",
    "    '/': divide\n",
    "}\n",
    "\n",
    "\n",
    "def calculator():\n",
    "    num1 = int(input(\"What's the first number? \"))\n",
    "    user_choice = 'y'\n",
    "    while user_choice == 'y':\n",
    "        for symbol in operations:\n",
    "            print(symbol, end=' ')\n",
    "        print()\n",
    "        operation = input(\"Pick an operation: \")\n",
    "        num2 = int(input(\"What's the next number? \"))\n",
    "        calc_func = operations[operation]\n",
    "        result = calc_func(num1, num2)\n",
    "        print(f\"{num1} {operation} {num2} = {result}\")\n",
    "        print(f\"Type 'y' to continue calculating with {result},\")\n",
    "        print(f\"'n' to start a new calculation: \")\n",
    "        user_choice = input()\n",
    "        if user_choice == 'n':\n",
    "            calculator()\n",
    "        num1 = result\n",
    "\n",
    "\n",
    "calculator()"
   ]
  },
  {
   "cell_type": "code",
   "execution_count": null,
   "metadata": {},
   "outputs": [],
   "source": []
  }
 ],
 "metadata": {
  "kernelspec": {
   "display_name": "Python 3",
   "language": "python",
   "name": "python3"
  },
  "language_info": {
   "codemirror_mode": {
    "name": "ipython",
    "version": 3
   },
   "file_extension": ".py",
   "mimetype": "text/x-python",
   "name": "python",
   "nbconvert_exporter": "python",
   "pygments_lexer": "ipython3",
   "version": "3.8.5"
  }
 },
 "nbformat": 4,
 "nbformat_minor": 4
}
