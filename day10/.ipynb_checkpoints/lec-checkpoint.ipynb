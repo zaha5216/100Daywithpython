{
 "cells": [
  {
   "cell_type": "code",
   "execution_count": 1,
   "metadata": {},
   "outputs": [
    {
     "name": "stdout",
     "output_type": "stream",
     "text": [
      "Angela Yu\n",
      "6\n"
     ]
    }
   ],
   "source": [
    "def format_name(first_name, last_name):\n",
    "    formatted_first_name = first_name.title()\n",
    "    formatted_last_name = last_name.title()\n",
    "    return f\"{formatted_first_name} {formatted_last_name}\"\n",
    "\n",
    "\n",
    "print(format_name(\"AnGeLa\", \"YU\"))"
   ]
  },
  {
   "cell_type": "code",
   "execution_count": 2,
   "metadata": {},
   "outputs": [
    {
     "name": "stdout",
     "output_type": "stream",
     "text": [
      "6\n"
     ]
    }
   ],
   "source": [
    "output = len(\"Angela\")\n",
    "print(output)"
   ]
  },
  {
   "cell_type": "code",
   "execution_count": 4,
   "metadata": {},
   "outputs": [
    {
     "name": "stdout",
     "output_type": "stream",
     "text": [
      "What is your first name? Ale\n",
      "What is your last name? Voron\n",
      "Result: Ale Voron\n"
     ]
    }
   ],
   "source": [
    "def format_name(first_name, last_name):\n",
    "    if first_name == \"\" or last_name == \"\":\n",
    "        return \"You didn't provide valid inputs.\"\n",
    "    formatted_first_name = first_name.title()\n",
    "    formatted_last_name = last_name.title()\n",
    "    return f\"Result: {formatted_first_name} {formatted_last_name}\"\n",
    "\n",
    "\n",
    "print(format_name(input(\"What is your first name? \"),\n",
    "                  input(\"What is your last name? \")))"
   ]
  },
  {
   "cell_type": "code",
   "execution_count": 7,
   "metadata": {},
   "outputs": [
    {
     "name": "stdout",
     "output_type": "stream",
     "text": [
      "What is your first name? \n",
      "What is your last name? Vorin\n",
      "You didn't provide valid inputs.\n"
     ]
    }
   ],
   "source": [
    "def format_name(first_name, last_name):\n",
    "    \"\"\"Take a first and last name and format it\n",
    "    to return the title case version of the name.\"\"\"\n",
    "    if first_name == \"\" or last_name == \"\":\n",
    "        return \"You didn't provide valid inputs.\"\n",
    "    formatted_first_name = first_name.title()\n",
    "    formatted_last_name = last_name.title()\n",
    "    return f\"Result: {formatted_first_name} {formatted_last_name}\"\n",
    "\n",
    "\n",
    "print(format_name(input(\"What is your first name? \"),\n",
    "                  input(\"What is your last name? \")))\n"
   ]
  },
  {
   "cell_type": "code",
   "execution_count": null,
   "metadata": {},
   "outputs": [],
   "source": []
  }
 ],
 "metadata": {
  "kernelspec": {
   "display_name": "Python 3",
   "language": "python",
   "name": "python3"
  },
  "language_info": {
   "codemirror_mode": {
    "name": "ipython",
    "version": 3
   },
   "file_extension": ".py",
   "mimetype": "text/x-python",
   "name": "python",
   "nbconvert_exporter": "python",
   "pygments_lexer": "ipython3",
   "version": "3.8.5"
  }
 },
 "nbformat": 4,
 "nbformat_minor": 4
}
