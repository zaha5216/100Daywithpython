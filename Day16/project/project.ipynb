{
 "cells": [
  {
   "cell_type": "code",
   "execution_count": 3,
   "metadata": {},
   "outputs": [
    {
     "ename": "ImportError",
     "evalue": "cannot import name 'Menu' from 'menu' (/Users/zaha/Примеры решений/100  Days of coding/Day16/project/menu.py)",
     "output_type": "error",
     "traceback": [
      "\u001b[0;31m---------------------------------------------------------------------------\u001b[0m",
      "\u001b[0;31mImportError\u001b[0m                               Traceback (most recent call last)",
      "\u001b[0;32m<ipython-input-3-26a89a3e46c1>\u001b[0m in \u001b[0;36m<module>\u001b[0;34m\u001b[0m\n\u001b[0;32m----> 1\u001b[0;31m \u001b[0;32mfrom\u001b[0m \u001b[0mmenu\u001b[0m \u001b[0;32mimport\u001b[0m \u001b[0mMenu\u001b[0m\u001b[0;34m\u001b[0m\u001b[0;34m\u001b[0m\u001b[0m\n\u001b[0m\u001b[1;32m      2\u001b[0m \u001b[0;32mfrom\u001b[0m \u001b[0mcoffee_maker\u001b[0m \u001b[0;32mimport\u001b[0m \u001b[0mCoffeeMaker\u001b[0m\u001b[0;34m\u001b[0m\u001b[0;34m\u001b[0m\u001b[0m\n\u001b[1;32m      3\u001b[0m \u001b[0;32mfrom\u001b[0m \u001b[0mmoney_machine\u001b[0m \u001b[0;32mimport\u001b[0m \u001b[0mMoneyMachine\u001b[0m\u001b[0;34m\u001b[0m\u001b[0;34m\u001b[0m\u001b[0m\n\u001b[1;32m      4\u001b[0m \u001b[0;34m\u001b[0m\u001b[0m\n\u001b[1;32m      5\u001b[0m \u001b[0;34m\u001b[0m\u001b[0m\n",
      "\u001b[0;31mImportError\u001b[0m: cannot import name 'Menu' from 'menu' (/Users/zaha/Примеры решений/100  Days of coding/Day16/project/menu.py)"
     ]
    }
   ],
   "source": [
    "from menu import Menu\n",
    "from coffee_maker import CoffeeMaker\n",
    "from money_machine import MoneyMachine\n",
    "\n",
    "\n",
    "def coffee_machine():\n",
    "    menu = Menu()\n",
    "    coffee_maker = CoffeeMaker()\n",
    "    money_machine = MoneyMachine()\n",
    "\n",
    "    while True:\n",
    "        options = menu.get_items()\n",
    "        choice = input(f'What would you like? ({options}): ').lower()\n",
    "        if choice == 'off':\n",
    "            return\n",
    "        elif choice == 'report':\n",
    "            coffee_maker.report()\n",
    "            money_machine.report()\n",
    "        else:\n",
    "            coffee = menu.find_drink(choice)\n",
    "            if coffee_maker.is_resource_sufficient(coffee):\n",
    "                if money_machine.make_payment(coffee.cost):\n",
    "                    coffee_maker.make_coffee(coffee)\n",
    "\n",
    "\n",
    "coffee_machine()"
   ]
  },
  {
   "cell_type": "code",
   "execution_count": null,
   "metadata": {},
   "outputs": [],
   "source": []
  }
 ],
 "metadata": {
  "kernelspec": {
   "display_name": "Python 3",
   "language": "python",
   "name": "python3"
  },
  "language_info": {
   "codemirror_mode": {
    "name": "ipython",
    "version": 3
   },
   "file_extension": ".py",
   "mimetype": "text/x-python",
   "name": "python",
   "nbconvert_exporter": "python",
   "pygments_lexer": "ipython3",
   "version": "3.8.5"
  }
 },
 "nbformat": 4,
 "nbformat_minor": 4
}
