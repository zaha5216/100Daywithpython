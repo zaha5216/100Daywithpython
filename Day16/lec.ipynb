{
 "cells": [
  {
   "cell_type": "code",
   "execution_count": 3,
   "metadata": {},
   "outputs": [
    {
     "name": "stdout",
     "output_type": "stream",
     "text": [
      "12\n"
     ]
    }
   ],
   "source": [
    "import module\n",
    "print(module.variable)"
   ]
  },
  {
   "cell_type": "code",
   "execution_count": 1,
   "metadata": {},
   "outputs": [
    {
     "name": "stdout",
     "output_type": "stream",
     "text": [
      "<turtle.Turtle object at 0x106c1e1f0>\n",
      "300\n"
     ]
    }
   ],
   "source": [
    "from turtle import Turtle, Screen\n",
    "\n",
    "timmy = Turtle()\n",
    "print(timmy)\n",
    "timmy.shape('turtle')\n",
    "timmy.color('coral')\n",
    "\n",
    "timmy.forward(100)\n",
    "\n",
    "my_screen = Screen()\n",
    "print(my_screen.canvheight)\n",
    "my_screen.exitonclick()"
   ]
  },
  {
   "cell_type": "code",
   "execution_count": 3,
   "metadata": {},
   "outputs": [
    {
     "name": "stdout",
     "output_type": "stream",
     "text": [
      "+--------------+----------+\n",
      "| Pokemon Name |   Type   |\n",
      "+--------------+----------+\n",
      "|   Pikachu    | Electric |\n",
      "|   Squirtle   |  Water   |\n",
      "|  Charmander  |   Fire   |\n",
      "+--------------+----------+\n",
      "\n"
     ]
    }
   ],
   "source": [
    "from prettytable import PrettyTable\n",
    "\n",
    "table = PrettyTable()\n",
    "\n",
    "table.add_column('Pokemon Name', ['Pikachu', 'Squirtle', 'Charmander'])\n",
    "table.add_column('Type', ['Electric', 'Water', 'Fire'])\n",
    "print(table)\n",
    "print()"
   ]
  },
  {
   "cell_type": "code",
   "execution_count": 4,
   "metadata": {},
   "outputs": [
    {
     "name": "stdout",
     "output_type": "stream",
     "text": [
      "+--------------+----------+\n",
      "| Pokemon Name | Type     |\n",
      "+--------------+----------+\n",
      "| Pikachu      | Electric |\n",
      "| Squirtle     | Water    |\n",
      "| Charmander   | Fire     |\n",
      "+--------------+----------+\n"
     ]
    }
   ],
   "source": [
    "table.align = 'l'\n",
    "print(table)"
   ]
  },
  {
   "cell_type": "code",
   "execution_count": null,
   "metadata": {},
   "outputs": [],
   "source": []
  }
 ],
 "metadata": {
  "kernelspec": {
   "display_name": "Python 3",
   "language": "python",
   "name": "python3"
  },
  "language_info": {
   "codemirror_mode": {
    "name": "ipython",
    "version": 3
   },
   "file_extension": ".py",
   "mimetype": "text/x-python",
   "name": "python",
   "nbconvert_exporter": "python",
   "pygments_lexer": "ipython3",
   "version": "3.8.5"
  }
 },
 "nbformat": 4,
 "nbformat_minor": 4
}
