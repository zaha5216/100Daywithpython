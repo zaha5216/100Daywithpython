{
 "cells": [
  {
   "cell_type": "code",
   "execution_count": 2,
   "metadata": {},
   "outputs": [
    {
     "name": "stdout",
     "output_type": "stream",
     "text": [
      "Water level? 70\n",
      "Continue\n",
      "\n"
     ]
    }
   ],
   "source": [
    "water_level = int(input('Water level? '))\n",
    "if water_level > 80:\n",
    "    print('Drain water')\n",
    "else:\n",
    "    print('Continue')\n",
    "print()"
   ]
  },
  {
   "cell_type": "code",
   "execution_count": 3,
   "metadata": {},
   "outputs": [
    {
     "name": "stdout",
     "output_type": "stream",
     "text": [
      "Welcome to the roller coaster!\n",
      "What is your height in cm? 178\n",
      "You an ride the roller coaster!\n",
      "\n",
      "True\n",
      "False\n"
     ]
    }
   ],
   "source": [
    "print(\"Welcome to the roller coaster!\")\n",
    "height = int(input(\"What is your height in cm? \"))\n",
    "\n",
    "if height >= 120:\n",
    "    print(\"You an ride the roller coaster!\")\n",
    "else:\n",
    "    print(\"Sorry, you have to grow taller before you can ride.\")\n",
    "print()\n",
    "\n",
    "print(height > 120)\n",
    "print(height == 120)"
   ]
  },
  {
   "cell_type": "code",
   "execution_count": 6,
   "metadata": {},
   "outputs": [
    {
     "name": "stdout",
     "output_type": "stream",
     "text": [
      "Welcome to the roller coaster!\n",
      "What is your height in cm? 178\n",
      "You can ride the roller coaster!\n",
      "What is your age? 19\n",
      "Please pay $12\n"
     ]
    }
   ],
   "source": [
    "print(\"Welcome to the roller coaster!\")\n",
    "height = int(input(\"What is your height in cm? \"))\n",
    "\n",
    "if height >= 120:\n",
    "    print(\"You can ride the roller coaster!\")\n",
    "    age = int(input(\"What is your age? \"))\n",
    "    if age < 12:\n",
    "        print(\"Please pay $5\")\n",
    "    elif age <= 18:\n",
    "        print(\"Please pay $7\")\n",
    "    else:\n",
    "        print(\"Please pay $12\")\n",
    "else:\n",
    "    print(\"Sorry, you have to grow taller before you can ride.\")"
   ]
  },
  {
   "cell_type": "code",
   "execution_count": 7,
   "metadata": {},
   "outputs": [
    {
     "name": "stdout",
     "output_type": "stream",
     "text": [
      "Welcome to the roller coaster!\n",
      "What is your height in cm? 178\n",
      "You can ride the roller coaster!\n",
      "What is your age? 19\n",
      "Adult tickets are $12\n",
      "Do you want a photo taken? Y or N. Y\n",
      "Your final bill is $15\n"
     ]
    }
   ],
   "source": [
    "print(\"Welcome to the roller coaster!\")\n",
    "height = int(input(\"What is your height in cm? \"))\n",
    "\n",
    "if height >= 120:\n",
    "    print(\"You can ride the roller coaster!\")\n",
    "    age = int(input(\"What is your age? \"))\n",
    "    if age < 12:\n",
    "        bill = 5\n",
    "        print(\"Child tickets are $5\")\n",
    "    elif age <= 18:\n",
    "        bill = 7\n",
    "        print(\"Youth tickets are $7\")\n",
    "    else:\n",
    "        bill = 12\n",
    "        print(\"Adult tickets are $12\")\n",
    "\n",
    "    wants_photo = input(\"Do you want a photo taken? Y or N. \")\n",
    "    if wants_photo == 'Y':\n",
    "        bill += 3\n",
    "\n",
    "    print(f\"Your final bill is ${bill}\")\n",
    "else:\n",
    "    print(\"Sorry, you have to grow taller before you can ride.\")"
   ]
  },
  {
   "cell_type": "code",
   "execution_count": 3,
   "metadata": {},
   "outputs": [
    {
     "name": "stdout",
     "output_type": "stream",
     "text": [
      "Welcome to the roller coaster!\n",
      "What is your height in cm? 178\n",
      "You can ride the roller coaster!\n",
      "What is your age? 46\n",
      "Everything is going to be OK. Have a free ride on us!\n",
      "Do you want a photo taken? Y or N. N\n",
      "Your final bill is $0\n"
     ]
    }
   ],
   "source": [
    "print(\"Welcome to the roller coaster!\")\n",
    "height = int(input(\"What is your height in cm? \"))\n",
    "\n",
    "if height >= 120:\n",
    "    print(\"You can ride the roller coaster!\")\n",
    "    age = int(input(\"What is your age? \"))\n",
    "    if age < 12:\n",
    "        bill = 5\n",
    "        print(\"Child tickets are $5\")\n",
    "    elif age <= 18:\n",
    "        bill = 7\n",
    "        print(\"Youth tickets are $7\")\n",
    "    elif age >= 45 and age <= 55:\n",
    "        bill = 0\n",
    "        print(\"Everything is going to be OK. Have a free ride on us!\")\n",
    "    else:\n",
    "        bill = 12\n",
    "        print(\"Adult tickets are $12\")\n",
    "\n",
    "    wants_photo = input(\"Do you want a photo taken? Y or N. \")\n",
    "    if wants_photo == 'Y':\n",
    "        bill += 3\n",
    "\n",
    "    print(f\"Your final bill is ${bill}\")\n",
    "else:\n",
    "    print(\"Sorry, you have to grow taller before you can ride.\")"
   ]
  },
  {
   "cell_type": "code",
   "execution_count": 6,
   "metadata": {},
   "outputs": [
    {
     "name": "stdout",
     "output_type": "stream",
     "text": [
      "False\n",
      "True\n",
      "True\n",
      "False\n",
      "\n",
      "True\n",
      "\n"
     ]
    }
   ],
   "source": [
    "a = 12\n",
    "print(a > 15)\n",
    "print(a > 10)\n",
    "print(a > 10 and a < 13)\n",
    "print(a > 15 and a < 13)\n",
    "print()\n",
    "\n",
    "print(not a > 15)\n",
    "print()"
   ]
  },
  {
   "cell_type": "code",
   "execution_count": null,
   "metadata": {},
   "outputs": [],
   "source": []
  }
 ],
 "metadata": {
  "kernelspec": {
   "display_name": "Python 3",
   "language": "python",
   "name": "python3"
  },
  "language_info": {
   "codemirror_mode": {
    "name": "ipython",
    "version": 3
   },
   "file_extension": ".py",
   "mimetype": "text/x-python",
   "name": "python",
   "nbconvert_exporter": "python",
   "pygments_lexer": "ipython3",
   "version": "3.8.5"
  }
 },
 "nbformat": 4,
 "nbformat_minor": 2
}
