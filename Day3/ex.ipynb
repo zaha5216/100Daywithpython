{
 "cells": [
  {
   "cell_type": "markdown",
   "metadata": {},
   "source": [
    "Напишите программу, которая определяет, является ли данное число четным или нечетным.\n",
    "\n",
    "Четные числа можно разделить на 2 без остатка.\n",
    "\n",
    "например, 86 даже потому, что 86 ÷ 2 = 43\n",
    "\n",
    "43 не имеет десятичных знаков. Следовательно, разделение чистое.\n",
    "\n",
    "например, 59 нечетно, потому что 59 ÷ 2 = 29,5\n",
    "\n",
    "29,5 - это не целое число, в нем есть десятичные знаки. Следовательно, остается 0,5, поэтому разделение не является чистым.\n",
    "\n",
    "В Python модуль записывается в виде знака процента (%). Он дает вам остаток после деления.\n",
    "\n",
    "например\n",
    "\n",
    "6 ÷ 2 = 3 без остатка.\n",
    "\n",
    "6 % 2 = 0\n",
    "5 ÷ 2 = 2 x 2 + 1, остаток равен 1.\n",
    "\n",
    "5 % 2 = 1\n",
    "14 ÷ 4 = 3 x 4 + 2, остаток равен 2.\n",
    "\n",
    "14 % 4 = 2\n",
    "Предупреждение: ваш вывод должен точно соответствовать формату вывода примера, даже позиции запятых и точек.\n",
    "\n",
    "Пример ввода 1\n",
    "43\n",
    "Пример вывода 1\n",
    "This is an odd number.\n",
    "Пример ввода 2\n",
    "94\n",
    "Пример вывода 2\n",
    "This is an even number.\n",
    "например, когда вы нажмете \" Бежать\" , должно произойти следующее:"
   ]
  },
  {
   "cell_type": "code",
   "execution_count": 2,
   "metadata": {},
   "outputs": [
    {
     "name": "stdout",
     "output_type": "stream",
     "text": [
      "Which number do you want to check? 13\n",
      "This is an odd number.\n"
     ]
    }
   ],
   "source": [
    "number = int(input(\"Which number do you want to check? \"))\n",
    "\n",
    "if number % 2 == 0:\n",
    "    print('This is an even number.')\n",
    "else:\n",
    "    print('This is an odd number.')"
   ]
  },
  {
   "cell_type": "code",
   "execution_count": 3,
   "metadata": {},
   "outputs": [
    {
     "name": "stdout",
     "output_type": "stream",
     "text": [
      "Enter your height in m: 1.78\n",
      "Enter your weight in kg: 72\n",
      "Your BMI is 23, you have a normal weight.\n"
     ]
    }
   ],
   "source": [
    "# Программа рсчитывает избыточный вес, и сообщает пользователю всё ли нормально у е=нео с весом или нет\n",
    "height = float(input(\"Enter your height in m: \"))\n",
    "weight = float(input(\"Enter your weight in kg: \"))\n",
    "\n",
    "bmi = round(weight / height ** 2)\n",
    "underweight = f\"Your BMI is {bmi}, you are underweight.\"\n",
    "normal_weight = f\"Your BMI is {bmi}, you have a normal weight.\"\n",
    "overweight = f\"Your BMI is {bmi}, you are slightly overweight.\"\n",
    "obese = f\"Your BMI is {bmi}, you are obese.\"\n",
    "clinically_obese = f\"Your BMI is {bmi}, you are clinically obese.\"\n",
    "\n",
    "if bmi < 18.5:\n",
    "    print(underweight)\n",
    "elif bmi < 25:\n",
    "    print(normal_weight)\n",
    "elif bmi < 30:\n",
    "    print(overweight)\n",
    "elif bmi < 35:\n",
    "    print(obese)\n",
    "else:\n",
    "    print(clinically_obese)"
   ]
  },
  {
   "cell_type": "markdown",
   "metadata": {},
   "source": [
    "Високосный год\n",
    "Напишите программу, которая определяет, является ли данный год високосным. В нормальном году 365 дней, в високосном - 366 дней, а в феврале - дополнительный день. Причина, по которой у нас високосные годы, действительно увлекательна\n",
    "Вот как вы определяете, является ли конкретный год високосным.\n",
    "\n",
    "Каждый год, который делится без остатка на 4,\n",
    "кроме каждого года, который без остатка делится на 100,\n",
    "если год также не делится на 400 без остатка.\n",
    "\n",
    "например, 2000 год:\n",
    "\n",
    "2000 ÷ 4 = 500 (високосный)\n",
    "\n",
    "2000 ÷ 100 = 20 (не високосный)\n",
    "\n",
    "2000 ÷ 400 = 5 (високосный!)\n",
    "\n",
    "Итак, 2000 год - високосный.\n",
    "\n",
    "Но 2100 год не високосный, потому что:\n",
    "\n",
    "2100 ÷ 4 = 525 (високосный)\n",
    "\n",
    "2100 ÷ 100 = 21 (не високосный)\n",
    "\n",
    "2100 ÷ 400 = 5,25 (не високосный)\n",
    "\n",
    "Предупреждение: ваш вывод должен точно соответствовать формату вывода примера, даже позиции запятых и точек."
   ]
  },
  {
   "cell_type": "code",
   "execution_count": 6,
   "metadata": {},
   "outputs": [
    {
     "name": "stdout",
     "output_type": "stream",
     "text": [
      "Which year do you want to check? 2013\n",
      "Not leap year.\n"
     ]
    }
   ],
   "source": [
    "year = int(input(\"Which year do you want to check? \"))\n",
    "\n",
    "if year % 400 == 0:\n",
    "    print('Leap year.')\n",
    "elif year % 100 == 0:\n",
    "    print('Not leap year.')\n",
    "elif year % 4 == 0:\n",
    "    print('Leap year.')\n",
    "else:\n",
    "    print('Not leap year.')"
   ]
  },
  {
   "cell_type": "markdown",
   "metadata": {},
   "source": [
    "Создать программу автоматического заказа пиццы.\n",
    "\n",
    "На основании заказа пользователя составьте окончательный счет."
   ]
  },
  {
   "cell_type": "code",
   "execution_count": 7,
   "metadata": {},
   "outputs": [
    {
     "name": "stdout",
     "output_type": "stream",
     "text": [
      "Welcome to Python Pizza Deliveries!\n",
      "What size pizza do you want? S, M, or L L\n",
      "Do you want pepperoni? Y or N Y\n",
      "Do you want extra cheese? Y or N Y\n",
      "Your final bill is: $29\n"
     ]
    }
   ],
   "source": [
    "print(\"Welcome to Python Pizza Deliveries!\")\n",
    "size = input(\"What size pizza do you want? S, M, or L \")\n",
    "add_pepperoni = input(\"Do you want pepperoni? Y or N \")\n",
    "extra_cheese = input(\"Do you want extra cheese? Y or N \")\n",
    "\n",
    "if size == 'S':\n",
    "    price = 15\n",
    "    if add_pepperoni == 'Y':\n",
    "        price += 2\n",
    "elif size == 'M':\n",
    "    price = 20\n",
    "    if add_pepperoni == 'Y':\n",
    "        price += 3\n",
    "else:\n",
    "    price = 25\n",
    "    if add_pepperoni == 'Y':\n",
    "        price += 3\n",
    "\n",
    "if extra_cheese == 'Y':\n",
    "    price += 1\n",
    "\n",
    "print(f'Your final bill is: ${price}')"
   ]
  },
  {
   "cell_type": "markdown",
   "metadata": {},
   "source": [
    "# Калькулятор любви\n"
   ]
  },
  {
   "cell_type": "markdown",
   "metadata": {},
   "source": [
    "Написать программу, которая проверяет совместимость между двумя людьми. Мы собираемся использовать супернаучный метод, рекомендованный BuzzFeed.\n",
    "\n",
    "Чтобы вычислить счет любви между двумя людьми:\n",
    "\n",
    "Возьмите имена обоих людей и проверьте, сколько раз буквы встречаются в слове ИСТИНА. Затем проверьте, сколько раз буквы встречаются в слове ЛЮБОВЬ. Затем объедините эти числа, чтобы получилось двухзначное число.\n",
    "\n",
    "Это видео дает вам более подробную информацию об этом:\n",
    "\n",
    "\n",
    "Для оценок любви меньше 10 или больше 90 сообщение должно быть:\n",
    "\n",
    "«Ваш результат x , вы идете вместе, как кока-кола и ментос».\n",
    "\n",
    "Для оценок любви от 40 до 50 сообщение должно быть таким:\n",
    "\n",
    "«Ваш результат y , вместе с вами все в порядке».\n",
    "\n",
    "В противном случае сообщение будет просто их оценкой. например:\n",
    "\n",
    "«Ваша оценка - z ».\n",
    "\n",
    "например\n",
    "\n",
    "name1 = \"Angela Yu\"\n",
    "\n",
    "name2 = \"Jack Bauer\"\n",
    "\n",
    "T встречается 0 раз\n",
    "\n",
    "R встречается 1 раз\n",
    "\n",
    "U встречается 2 раза\n",
    "\n",
    "E встречается 2 раза\n",
    "\n",
    "Итого = 5\n",
    "\n",
    "L встречается 1 раз\n",
    "\n",
    "O встречается 0 раз\n",
    "\n",
    "V встречается 0 раз\n",
    "\n",
    "E встречается 2 раза\n",
    "\n",
    "Итого = 3\n",
    "\n",
    "Оценка любви = 53\n"
   ]
  },
  {
   "cell_type": "code",
   "execution_count": null,
   "metadata": {},
   "outputs": [
    {
     "name": "stdout",
     "output_type": "stream",
     "text": [
      "Welcome to the Love Calculator!\n",
      "What is your name?\n",
      "Zakhar\n",
      "What is their name?\n"
     ]
    }
   ],
   "source": [
    "print(\"Welcome to the Love Calculator!\")\n",
    "print(\"What is your name?\")\n",
    "name1 = input().lower()\n",
    "print(\"What is their name?\")\n",
    "name2 = input().lower()\n",
    "\n",
    "name = name1 + name2\n",
    "true = name.count('t') + name.count('r') + name.count('u') + name.count('e')\n",
    "love = name.count('l') + name.count('o') + name.count('v') + name.count('e')\n",
    "\n",
    "score = int(f'{true}{love}')\n",
    "\n",
    "if score < 10 or score > 90:\n",
    "    print(f'Your score is {score}, you go together like coke and mentos.')\n",
    "elif 40 < score < 50:\n",
    "    print(f'Your score is {score}, you are alright together.')\n",
    "else:\n",
    "    print(f'Your score is {score}.')"
   ]
  },
  {
   "cell_type": "code",
   "execution_count": null,
   "metadata": {},
   "outputs": [],
   "source": []
  }
 ],
 "metadata": {
  "kernelspec": {
   "display_name": "Python 3",
   "language": "python",
   "name": "python3"
  },
  "language_info": {
   "codemirror_mode": {
    "name": "ipython",
    "version": 3
   },
   "file_extension": ".py",
   "mimetype": "text/x-python",
   "name": "python",
   "nbconvert_exporter": "python",
   "pygments_lexer": "ipython3",
   "version": "3.8.5"
  }
 },
 "nbformat": 4,
 "nbformat_minor": 2
}
