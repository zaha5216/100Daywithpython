{
 "cells": [
  {
   "cell_type": "markdown",
   "metadata": {},
   "source": [
    "Создайте приветствие для своей программы.\n",
    "1. Попросить счет\n",
    "2. Спросите процент чаевых\n",
    "3. Спросите, с кем разделить счет.\n",
    "4. Рассчитайте общий счет и счет на человека.\n",
    "5. Отобразите счет на человека с двумя десятичными знаками.\n",
    "6. Если счет был 150 долларов, разделите его на 5 человек с 12% чаевых.\n",
    "7. Каждый человек должен заплатить (150,00 / 5) * 1,12 = 33,6\n",
    "8. Отформатируйте результат до двух знаков после запятой = 33,60\n",
    "end:\n",
    "Есть 2 способа округлить число."
   ]
  },
  {
   "cell_type": "code",
   "execution_count": null,
   "metadata": {},
   "outputs": [],
   "source": [
    "print('Welcome to the tip calculator.')\n",
    "\n",
    "# 2. Ask for the bill\n",
    "prompt = 'What was the total bill $'\n",
    "bill = float(input(prompt))\n",
    "\n",
    "# 3. Ask for the tip percentage\n",
    "prompt = 'Какой процент чаевых вы хотели бы дать? 10, 12 или 15? '\n",
    "tip_rate = int(input(prompt)) / 100\n",
    "\n",
    "# 4. Ask for the number of people to split the bill with.\n",
    "prompt = 'Сколько человек разделят счет '\n",
    "people = int(input(prompt))\n",
    "\n",
    "# 5. Calculate the total bill and the bill per person.\n",
    "total_rate = 1 + tip_rate\n",
    "total_bill = bill * total_rate\n",
    "bill_per_person = total_bill / people\n",
    "\n",
    "# 6. Display the bill per person with 2 decimal places.\n",
    "print(f'Each person should pay: ${bill_per_person:.2f}')"
   ]
  },
  {
   "cell_type": "code",
   "execution_count": null,
   "metadata": {},
   "outputs": [],
   "source": []
  }
 ],
 "metadata": {
  "kernelspec": {
   "display_name": "Python 3",
   "language": "python",
   "name": "python3"
  },
  "language_info": {
   "codemirror_mode": {
    "name": "ipython",
    "version": 3
   },
   "file_extension": ".py",
   "mimetype": "text/x-python",
   "name": "python",
   "nbconvert_exporter": "python",
   "pygments_lexer": "ipython3",
   "version": "3.7.0"
  }
 },
 "nbformat": 4,
 "nbformat_minor": 2
}
