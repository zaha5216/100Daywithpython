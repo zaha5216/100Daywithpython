{
 "cells": [
  {
   "cell_type": "code",
   "execution_count": 1,
   "metadata": {},
   "outputs": [],
   "source": [
    "#Программа рассчитывает индекс массы тела (ИМТ) на основе веса и роста пользователя.\n",
    "\n",
    "#ИМТ - это мера веса некоторых людей с учетом их роста. например, если высокий и невысокий человек весят одинаковое количество, то у невысокого человека обычно больше веса.\n",
    "\n",
    "#ИМТ рассчитывается путем деления веса человека (в кг) на квадрат его роста (в м):"
   ]
  },
  {
   "cell_type": "code",
   "execution_count": 2,
   "metadata": {},
   "outputs": [
    {
     "name": "stdout",
     "output_type": "stream",
     "text": [
      "Enter your height (m): 1.79\n",
      "Enter your weight (kg): 120\n",
      "Your BMI is: 37\n"
     ]
    }
   ],
   "source": [
    "height = float(input('Enter your height (m): '))\n",
    "weight = float(input('Enter your weight (kg): '))\n",
    "\n",
    "# Your code here\n",
    "bmi = int(weight / height ** 2)\n",
    "print('Your BMI is: ' + str(bmi))"
   ]
  },
  {
   "cell_type": "code",
   "execution_count": null,
   "metadata": {},
   "outputs": [],
   "source": []
  }
 ],
 "metadata": {
  "kernelspec": {
   "display_name": "Python 3",
   "language": "python",
   "name": "python3"
  },
  "language_info": {
   "codemirror_mode": {
    "name": "ipython",
    "version": 3
   },
   "file_extension": ".py",
   "mimetype": "text/x-python",
   "name": "python",
   "nbconvert_exporter": "python",
   "pygments_lexer": "ipython3",
   "version": "3.8.5"
  }
 },
 "nbformat": 4,
 "nbformat_minor": 2
}
