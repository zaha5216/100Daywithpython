{
 "cells": [
  {
   "cell_type": "code",
   "execution_count": 7,
   "metadata": {},
   "outputs": [
    {
     "name": "stdout",
     "output_type": "stream",
     "text": [
      "Type a two digit number: 98\n",
      "17\n"
     ]
    }
   ],
   "source": [
    "# Программа складывает двузначные числа \n",
    "two_digit_number = input(\"Type a two digit number: \")\n",
    "\n",
    "first_digit = int(two_digit_number[0])\n",
    "second_digit = int(two_digit_number[1])\n",
    "\n",
    "sum_digits = first_digit + second_digit\n",
    "print(sum_digits)"
   ]
  },
  {
   "cell_type": "code",
   "execution_count": 3,
   "metadata": {},
   "outputs": [
    {
     "name": "stdout",
     "output_type": "stream",
     "text": [
      "Enter your height (m): 1.82\n",
      "Enter your weight (kg): 76\n",
      "Your BMI is: 22\n"
     ]
    }
   ],
   "source": [
    "# Программа для вычесления веса IMT\n",
    "height = float(input('Enter your height (m): '))\n",
    "weight = float(input('Enter your weight (kg): '))\n",
    "\n",
    "# Your code here\n",
    "bmi = int(weight / height ** 2)\n",
    "print('Your BMI is: ' + str(bmi))"
   ]
  },
  {
   "cell_type": "code",
   "execution_count": 8,
   "metadata": {},
   "outputs": [
    {
     "name": "stdout",
     "output_type": "stream",
     "text": [
      "What is your current age? 30\n",
      "You have 21900 days, 3120 weeks, and 720 months left.\n"
     ]
    }
   ],
   "source": [
    "#Программа расчитывает сколько осталось жить человеку от введеного возраста, если если всего человек должен прожить 90 лет\n",
    "age = int(input(\"What is your current age? \"))\n",
    "\n",
    "years_left = 90 - age\n",
    "months_left = round(years_left * 12)\n",
    "weeks_left = round(years_left * 52)\n",
    "days_left = round(years_left * 365)\n",
    "print(f'You have {days_left} days, {weeks_left} weeks, and {months_left} months left.')"
   ]
  },
  {
   "cell_type": "code",
   "execution_count": null,
   "metadata": {},
   "outputs": [],
   "source": []
  }
 ],
 "metadata": {
  "kernelspec": {
   "display_name": "Python 3",
   "language": "python",
   "name": "python3"
  },
  "language_info": {
   "codemirror_mode": {
    "name": "ipython",
    "version": 3
   },
   "file_extension": ".py",
   "mimetype": "text/x-python",
   "name": "python",
   "nbconvert_exporter": "python",
   "pygments_lexer": "ipython3",
   "version": "3.7.0"
  }
 },
 "nbformat": 4,
 "nbformat_minor": 2
}
