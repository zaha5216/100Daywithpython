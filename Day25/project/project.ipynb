{
 "cells": [
  {
   "cell_type": "markdown",
   "metadata": {},
   "source": [
    "# Игра в США\n",
    "Используя черепаху, воспроизведите игру states.\n",
    "\n",
    "Преобразуйте предположение в регистр заголовка\n",
    "\n",
    "Проверьте, входит ли предположение в число 50 штатов\n",
    "\n",
    "Напишите правильные предположения на карте\n",
    "\n",
    "Используйте цикл, чтобы пользователь мог угадывать\n",
    "\n",
    "Запишите правильные предположения в список\n",
    "\n",
    "Следите за счетом\n",
    "\n",
    "Добавьте секретное слово, чтобы выйти из игры\n",
    "\n",
    "Создайте файл States_to_learn.csv со состояниями, которые необходимо изучить пользователю."
   ]
  },
  {
   "cell_type": "code",
   "execution_count": 1,
   "metadata": {},
   "outputs": [
    {
     "ename": "AttributeError",
     "evalue": "'NoneType' object has no attribute 'title'",
     "output_type": "error",
     "traceback": [
      "\u001b[0;31m---------------------------------------------------------------------------\u001b[0m",
      "\u001b[0;31mAttributeError\u001b[0m                            Traceback (most recent call last)",
      "\u001b[0;32m<ipython-input-1-30f3d7018205>\u001b[0m in \u001b[0;36m<module>\u001b[0;34m\u001b[0m\n\u001b[1;32m     33\u001b[0m \u001b[0;32mwhile\u001b[0m \u001b[0mlen\u001b[0m\u001b[0;34m(\u001b[0m\u001b[0mguessed\u001b[0m\u001b[0;34m)\u001b[0m \u001b[0;34m<\u001b[0m \u001b[0;36m50\u001b[0m \u001b[0;32mor\u001b[0m \u001b[0;32mnot\u001b[0m \u001b[0mstop\u001b[0m\u001b[0;34m:\u001b[0m\u001b[0;34m\u001b[0m\u001b[0;34m\u001b[0m\u001b[0m\n\u001b[1;32m     34\u001b[0m     \u001b[0mtitle\u001b[0m \u001b[0;34m=\u001b[0m \u001b[0;34mf\"{len(guessed)}/{STATES_COUNT} States Correct\"\u001b[0m\u001b[0;34m\u001b[0m\u001b[0;34m\u001b[0m\u001b[0m\n\u001b[0;32m---> 35\u001b[0;31m     \u001b[0mguess\u001b[0m \u001b[0;34m=\u001b[0m \u001b[0mscreen\u001b[0m\u001b[0;34m.\u001b[0m\u001b[0mtextinput\u001b[0m\u001b[0;34m(\u001b[0m\u001b[0mtitle\u001b[0m\u001b[0;34m=\u001b[0m\u001b[0mtitle\u001b[0m\u001b[0;34m,\u001b[0m \u001b[0mprompt\u001b[0m\u001b[0;34m=\u001b[0m\u001b[0mQUESTION\u001b[0m\u001b[0;34m)\u001b[0m\u001b[0;34m.\u001b[0m\u001b[0mtitle\u001b[0m\u001b[0;34m(\u001b[0m\u001b[0;34m)\u001b[0m\u001b[0;34m\u001b[0m\u001b[0;34m\u001b[0m\u001b[0m\n\u001b[0m\u001b[1;32m     36\u001b[0m     \u001b[0;32mif\u001b[0m \u001b[0mguess\u001b[0m \u001b[0;34m==\u001b[0m \u001b[0;34m'Exit'\u001b[0m\u001b[0;34m:\u001b[0m\u001b[0;34m\u001b[0m\u001b[0;34m\u001b[0m\u001b[0m\n\u001b[1;32m     37\u001b[0m         \u001b[0;32mbreak\u001b[0m\u001b[0;34m\u001b[0m\u001b[0;34m\u001b[0m\u001b[0m\n",
      "\u001b[0;31mAttributeError\u001b[0m: 'NoneType' object has no attribute 'title'"
     ]
    }
   ],
   "source": [
    "import pandas\n",
    "import turtle\n",
    "\n",
    "WIDTH_SCREEN = 725\n",
    "HEIGHT_SCREEN = 491\n",
    "STATES_COUNT = 50\n",
    "FONT_STATE = ('Letters for Learners', 12, 'bold')\n",
    "FONT_GAME_OVER = ('Letters for Learners', 50, 'bold')\n",
    "QUESTION = \"Name an U.S. State:\"\n",
    "\n",
    "data = pandas.read_csv('states.csv')\n",
    "\n",
    "states = data['state'].tolist()\n",
    "xs = data['x'].tolist()\n",
    "ys = data['y'].tolist()\n",
    "\n",
    "screen = turtle.Screen()\n",
    "screen.title(\"U.S. States Game\")\n",
    "screen.setup(WIDTH_SCREEN, HEIGHT_SCREEN)\n",
    "\n",
    "image = \"us_states.gif\"\n",
    "screen.addshape(image)\n",
    "turtle.shape(image)\n",
    "turtle.colormode(255)\n",
    "\n",
    "writer = turtle.Turtle()\n",
    "writer.hideturtle()\n",
    "writer.up()\n",
    "\n",
    "status = 'null'\n",
    "guessed = []\n",
    "stop = False\n",
    "while len(guessed) < 50 or not stop:\n",
    "    title = f\"{len(guessed)}/{STATES_COUNT} States Correct\"\n",
    "    guess = screen.textinput(title=title, prompt=QUESTION).title()\n",
    "    if guess == 'Exit':\n",
    "        break\n",
    "    if guess in states and guess not in guessed:\n",
    "        guessed.append(guess)\n",
    "        idx = states.index(guess)\n",
    "        writer.goto(xs[idx], ys[idx])\n",
    "        writer.write(guess, font=FONT_STATE, align='center')\n",
    "\n",
    "states_to_learn = []\n",
    "for state in states:\n",
    "    if state in guessed:\n",
    "        states_to_learn.append(state)\n",
    "\n",
    "new_data = pandas.DataFrame(states_to_learn)\n",
    "new_data.to_csv('states_to_learn.csv')"
   ]
  },
  {
   "cell_type": "code",
   "execution_count": null,
   "metadata": {},
   "outputs": [],
   "source": []
  }
 ],
 "metadata": {
  "kernelspec": {
   "display_name": "Python 3",
   "language": "python",
   "name": "python3"
  },
  "language_info": {
   "codemirror_mode": {
    "name": "ipython",
    "version": 3
   },
   "file_extension": ".py",
   "mimetype": "text/x-python",
   "name": "python",
   "nbconvert_exporter": "python",
   "pygments_lexer": "ipython3",
   "version": "3.8.5"
  }
 },
 "nbformat": 4,
 "nbformat_minor": 4
}
