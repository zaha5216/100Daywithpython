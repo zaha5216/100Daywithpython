{
 "cells": [
  {
   "cell_type": "markdown",
   "metadata": {},
   "source": [
    "Используйте файл squirrel_census.csv, чтобы создать другой файл с именем fur_data.csv, в котором есть два столбца с указанием цвета меха и количеством белок с этим цветом."
   ]
  },
  {
   "cell_type": "code",
   "execution_count": 2,
   "metadata": {},
   "outputs": [],
   "source": [
    "import pandas\n",
    "\n",
    "data = pandas.read_csv('squirrel_census.csv')\n",
    "\n",
    "black_count = len(data[data['Primary Fur Color'] == \"Black\"])\n",
    "cinnamon_count = len(data[data['Primary Fur Color'] == \"Cinnamon\"])\n",
    "gray_count = len(data[data['Primary Fur Color'] == \"Gray\"])\n",
    "\n",
    "colors_dict = {\n",
    "    'Fur Color': ['Black', 'Cinnamon', 'Gray'],\n",
    "    'Count': [black_count, cinnamon_count, gray_count]\n",
    "}\n",
    "\n",
    "new_data = pandas.DataFrame(colors_dict)\n",
    "new_data.to_csv('color_data.csv')"
   ]
  },
  {
   "cell_type": "code",
   "execution_count": null,
   "metadata": {},
   "outputs": [],
   "source": []
  }
 ],
 "metadata": {
  "kernelspec": {
   "display_name": "Python 3",
   "language": "python",
   "name": "python3"
  },
  "language_info": {
   "codemirror_mode": {
    "name": "ipython",
    "version": 3
   },
   "file_extension": ".py",
   "mimetype": "text/x-python",
   "name": "python",
   "nbconvert_exporter": "python",
   "pygments_lexer": "ipython3",
   "version": "3.8.5"
  }
 },
 "nbformat": 4,
 "nbformat_minor": 4
}
