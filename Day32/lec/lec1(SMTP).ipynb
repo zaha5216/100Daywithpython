{
 "cells": [
  {
   "cell_type": "code",
   "execution_count": 11,
   "metadata": {},
   "outputs": [],
   "source": [
    "import smtplib\n",
    "import os\n",
    "\n",
    "email = \"puthonodro4er@gmail.com\"\n",
    "password = \"Alexey16\"\n",
    "\n",
    "another_email = \"zaha5215@gmail.com\"\n",
    "\n",
    "connection = smtplib.SMTP(\"smtp.gmail.com\", port=587)\n",
    "connection.starttls()\n",
    "connection.login(user=email, password=password)\n",
    "connection.sendmail(from_addr=email, to_addrs=another_email, msg=\"Hello!\")\n",
    "connection.close()"
   ]
  },
  {
   "cell_type": "code",
   "execution_count": 12,
   "metadata": {},
   "outputs": [],
   "source": [
    "#Создаёт тему сообщения\n",
    "connection = smtplib.SMTP(\"smtp.gmail.com\", port=587)\n",
    "connection.starttls()\n",
    "connection.login(user=email, password=password)\n",
    "message = \"Subject:Hello World\\n\\nSending e-mail with Python!!!\"\n",
    "connection.sendmail(from_addr=email, to_addrs=another_email, msg=message)\n",
    "connection.close()"
   ]
  },
  {
   "cell_type": "code",
   "execution_count": 14,
   "metadata": {},
   "outputs": [],
   "source": [
    "with smtplib.SMTP(\"smtp.gmail.com\", port=587) as connection:\n",
    "    connection.starttls()\n",
    "    connection.login(user=email, password=password)\n",
    "    message = \"Subject:Hello World\\n\\nSending e-mail with Python!!!\"\n",
    "    connection.sendmail(from_addr=email, to_addrs=another_email, msg=message)"
   ]
  },
  {
   "cell_type": "code",
   "execution_count": null,
   "metadata": {},
   "outputs": [],
   "source": []
  }
 ],
 "metadata": {
  "kernelspec": {
   "display_name": "Python 3",
   "language": "python",
   "name": "python3"
  },
  "language_info": {
   "codemirror_mode": {
    "name": "ipython",
    "version": 3
   },
   "file_extension": ".py",
   "mimetype": "text/x-python",
   "name": "python",
   "nbconvert_exporter": "python",
   "pygments_lexer": "ipython3",
   "version": "3.8.5"
  }
 },
 "nbformat": 4,
 "nbformat_minor": 4
}
