{
 "cells": [
  {
   "cell_type": "markdown",
   "metadata": {},
   "source": [
    "# Автоматическое поздравление с днем  рождения\n",
    "## Очень сложный стартовый проект\n",
    "Обновите файл birthdaydays.csv.\n",
    "\n",
    "Проверьте, совпадает ли сегодняшний день с днем ​​рождения в файле birthdaydays.csv.\n",
    "\n",
    "Если шаг 2 верен, выберите случайную букву из шаблонов писем и замените [ИМЯ] на настоящее имя человека из файла Birthdays.csv.\n",
    "\n",
    "Отправьте письмо, созданное на шаге 3, на адрес электронной почты этого человека.\n"
   ]
  },
  {
   "cell_type": "code",
   "execution_count": 5,
   "metadata": {},
   "outputs": [],
   "source": [
    "import pandas\n",
    "import random\n",
    "import smtplib\n",
    "import os\n",
    "import datetime as dt\n",
    "\n",
    "\n",
    "def get_letter(birthday_name):\n",
    "    letter_filename = f'./letter_templates/letter_{random.randint(1, 3)}.txt'\n",
    "    with open(letter_filename) as file:\n",
    "        letter = file.read()\n",
    "    letter = letter.replace('[NAME]', birthday_name)\n",
    "    return letter\n",
    "\n",
    "\n",
    "now = dt.datetime.now()\n",
    "today = (now.month, now.day)\n",
    "\n",
    "data_frame = pandas.read_csv(\"birthdays.csv\")\n",
    "info = data_frame.to_dict(orient=\"records\")\n",
    "\n",
    "birthday_info = []\n",
    "for person in info:\n",
    "    birthday = (person['month'], person['day'])\n",
    "    if birthday == today:\n",
    "        birthday_info.append((person['name'], person['email']))\n",
    "\n",
    "if len(birthday_info) != 0:\n",
    "\n",
    "    my_email = \"puthonodro4er@gmail.com\"\n",
    "    password = \"Alexey16\"\n",
    "    for person in birthday_info:\n",
    "        name = person[0]\n",
    "        email = person[1]\n",
    "\n",
    "        message = f'Subject: Happy Birthday!!!\\n\\n{get_letter(name)}'\n",
    "        with smtplib.SMTP(\"smtp.gmail.com\", port=587) as connection:\n",
    "            connection.starttls()\n",
    "            connection.login(user=my_email, password=password)\n",
    "            connection.sendmail(from_addr=my_email, to_addrs=email, msg=message)\n"
   ]
  },
  {
   "cell_type": "code",
   "execution_count": null,
   "metadata": {},
   "outputs": [],
   "source": []
  }
 ],
 "metadata": {
  "kernelspec": {
   "display_name": "Python 3",
   "language": "python",
   "name": "python3"
  },
  "language_info": {
   "codemirror_mode": {
    "name": "ipython",
    "version": 3
   },
   "file_extension": ".py",
   "mimetype": "text/x-python",
   "name": "python",
   "nbconvert_exporter": "python",
   "pygments_lexer": "ipython3",
   "version": "3.8.5"
  }
 },
 "nbformat": 4,
 "nbformat_minor": 4
}
