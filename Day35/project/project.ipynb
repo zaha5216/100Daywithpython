{
 "cells": [
  {
   "cell_type": "markdown",
   "metadata": {},
   "source": [
    "# Автоматический отправитель SMS с погодой\n"
   ]
  },
  {
   "cell_type": "code",
   "execution_count": 8,
   "metadata": {},
   "outputs": [],
   "source": [
    "import os\n",
    "import requests\n",
    "from twilio.rest import Client\n",
    "\n",
    "account_sid = \"AC179ff9833121c3a84abf707a49a8ecb8\"\n",
    "auth_token = \"10137707459abe9fe7acec20860b4cd5\"\n",
    "client = Client(account_sid, auth_token)\n",
    "\n",
    "twilio_number = \"+18655127387\"\n",
    "my_number = \"+79817375216\"\n",
    "\n",
    "LATITUDE =  59.938480\n",
    "LONGITUDE = 30.312481\n",
    "\n",
    "api_key = \"9598fe56acff757ba215814cdbf622bd\"\n",
    "api_url = \"https://api.openweathermap.org/data/2.5/onecall\"\n",
    "params = {\n",
    "    \"lat\": LATITUDE,\n",
    "    \"lon\": LONGITUDE,\n",
    "    \"exclude\": \"current,minutely,daily,alerts\",\n",
    "    \"appid\": api_key\n",
    "}\n",
    "\n",
    "response = requests.get(api_url, params=params)\n",
    "response.raise_for_status()\n",
    "\n",
    "data = response.json()\n",
    "\n",
    "for hourly_data in data[\"hourly\"][:12]:\n",
    "    condition_code = hourly_data[\"weather\"][0][\"id\"]\n",
    "    if condition_code < 700:\n",
    "        message = client.messages.create(\n",
    "            body=\"It's gonna rain! Don't forget to bring an ☔\",\n",
    "            from_=twilio_number,\n",
    "            to=my_number)\n",
    "        break"
   ]
  },
  {
   "cell_type": "code",
   "execution_count": 9,
   "metadata": {},
   "outputs": [
    {
     "ename": "KeyError",
     "evalue": "'AC179ff9833121c3a84abf707a49a8ecb8'",
     "output_type": "error",
     "traceback": [
      "\u001b[0;31m---------------------------------------------------------------------------\u001b[0m",
      "\u001b[0;31mKeyError\u001b[0m                                  Traceback (most recent call last)",
      "\u001b[0;32m<ipython-input-9-b10af117ee87>\u001b[0m in \u001b[0;36m<module>\u001b[0;34m\u001b[0m\n\u001b[1;32m      3\u001b[0m \u001b[0;32mfrom\u001b[0m \u001b[0mtwilio\u001b[0m\u001b[0;34m.\u001b[0m\u001b[0mrest\u001b[0m \u001b[0;32mimport\u001b[0m \u001b[0mClient\u001b[0m\u001b[0;34m\u001b[0m\u001b[0;34m\u001b[0m\u001b[0m\n\u001b[1;32m      4\u001b[0m \u001b[0;34m\u001b[0m\u001b[0m\n\u001b[0;32m----> 5\u001b[0;31m \u001b[0maccount_sid\u001b[0m \u001b[0;34m=\u001b[0m \u001b[0mos\u001b[0m\u001b[0;34m.\u001b[0m\u001b[0menviron\u001b[0m\u001b[0;34m[\u001b[0m\u001b[0;34m\"AC179ff9833121c3a84abf707a49a8ecb8\"\u001b[0m\u001b[0;34m]\u001b[0m\u001b[0;34m\u001b[0m\u001b[0;34m\u001b[0m\u001b[0m\n\u001b[0m\u001b[1;32m      6\u001b[0m \u001b[0mauth_token\u001b[0m \u001b[0;34m=\u001b[0m \u001b[0mos\u001b[0m\u001b[0;34m.\u001b[0m\u001b[0menviron\u001b[0m\u001b[0;34m[\u001b[0m\u001b[0;34m\"10137707459abe9fe7acec20860b4cd5\"\u001b[0m\u001b[0;34m]\u001b[0m\u001b[0;34m\u001b[0m\u001b[0;34m\u001b[0m\u001b[0m\n\u001b[1;32m      7\u001b[0m \u001b[0mclient\u001b[0m \u001b[0;34m=\u001b[0m \u001b[0mClient\u001b[0m\u001b[0;34m(\u001b[0m\u001b[0maccount_sid\u001b[0m\u001b[0;34m,\u001b[0m \u001b[0mauth_token\u001b[0m\u001b[0;34m)\u001b[0m\u001b[0;34m\u001b[0m\u001b[0;34m\u001b[0m\u001b[0m\n",
      "\u001b[0;32m~/anaconda3/lib/python3.8/os.py\u001b[0m in \u001b[0;36m__getitem__\u001b[0;34m(self, key)\u001b[0m\n\u001b[1;32m    673\u001b[0m         \u001b[0;32mexcept\u001b[0m \u001b[0mKeyError\u001b[0m\u001b[0;34m:\u001b[0m\u001b[0;34m\u001b[0m\u001b[0;34m\u001b[0m\u001b[0m\n\u001b[1;32m    674\u001b[0m             \u001b[0;31m# raise KeyError with the original key value\u001b[0m\u001b[0;34m\u001b[0m\u001b[0;34m\u001b[0m\u001b[0;34m\u001b[0m\u001b[0m\n\u001b[0;32m--> 675\u001b[0;31m             \u001b[0;32mraise\u001b[0m \u001b[0mKeyError\u001b[0m\u001b[0;34m(\u001b[0m\u001b[0mkey\u001b[0m\u001b[0;34m)\u001b[0m \u001b[0;32mfrom\u001b[0m \u001b[0;32mNone\u001b[0m\u001b[0;34m\u001b[0m\u001b[0;34m\u001b[0m\u001b[0m\n\u001b[0m\u001b[1;32m    676\u001b[0m         \u001b[0;32mreturn\u001b[0m \u001b[0mself\u001b[0m\u001b[0;34m.\u001b[0m\u001b[0mdecodevalue\u001b[0m\u001b[0;34m(\u001b[0m\u001b[0mvalue\u001b[0m\u001b[0;34m)\u001b[0m\u001b[0;34m\u001b[0m\u001b[0;34m\u001b[0m\u001b[0m\n\u001b[1;32m    677\u001b[0m \u001b[0;34m\u001b[0m\u001b[0m\n",
      "\u001b[0;31mKeyError\u001b[0m: 'AC179ff9833121c3a84abf707a49a8ecb8'"
     ]
    }
   ],
   "source": [
    "import os\n",
    "import requests\n",
    "from twilio.rest import Client\n",
    "\n",
    "account_sid = os.environ[\"AC179ff9833121c3a84abf707a49a8ecb8\"]\n",
    "auth_token = os.environ[\"10137707459abe9fe7acec20860b4cd5\"]\n",
    "client = Client(account_sid, auth_token)\n",
    "\n",
    "twilio_number = os.environ[\"18655127387\"]\n",
    "my_number = os.environ[\"79817375216\"]\n",
    "\n",
    "LATITUDE =  59.938480\n",
    "LONGITUDE = 30.312481\n",
    "\n",
    "api_key = os.environ[\"9598fe56acff757ba215814cdbf622bd\"]\n",
    "api_url = \"https://api.openweathermap.org/data/2.5/onecall\"\n",
    "params = {\n",
    "    \"lat\": LATITUDE,\n",
    "    \"lon\": LONGITUDE,\n",
    "    \"exclude\": \"current,minutely,daily,alerts\",\n",
    "    \"appid\": api_key\n",
    "}\n",
    "\n",
    "response = requests.get(api_url, params=params)\n",
    "response.raise_for_status()\n",
    "\n",
    "data = response.json()\n",
    "\n",
    "for hourly_data in data[\"hourly\"][:12]:\n",
    "    condition_code = hourly_data[\"weather\"][0][\"id\"]\n",
    "    if condition_code < 700:\n",
    "        message = client.messages.create(\n",
    "            body=\"It's gonna rain! Don't forget to bring an ☔\",\n",
    "            from_=twilio_number,\n",
    "            to=my_number\n",
    "        )\n",
    "        break"
   ]
  },
  {
   "cell_type": "code",
   "execution_count": null,
   "metadata": {},
   "outputs": [],
   "source": []
  }
 ],
 "metadata": {
  "kernelspec": {
   "display_name": "Python 3",
   "language": "python",
   "name": "python3"
  },
  "language_info": {
   "codemirror_mode": {
    "name": "ipython",
    "version": 3
   },
   "file_extension": ".py",
   "mimetype": "text/x-python",
   "name": "python",
   "nbconvert_exporter": "python",
   "pygments_lexer": "ipython3",
   "version": "3.8.5"
  }
 },
 "nbformat": 4,
 "nbformat_minor": 4
}
