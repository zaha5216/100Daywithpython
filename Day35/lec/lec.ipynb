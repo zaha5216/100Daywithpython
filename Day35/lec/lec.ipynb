{
 "cells": [
  {
   "cell_type": "code",
   "execution_count": 2,
   "metadata": {},
   "outputs": [
    {
     "name": "stdout",
     "output_type": "stream",
     "text": [
      "{'lat': 59.9385, 'lon': 30.3125, 'timezone': 'Europe/Moscow', 'timezone_offset': 10800, 'current': {'dt': 1616967074, 'sunrise': 1616988777, 'sunset': 1617035628, 'temp': 277.67, 'feels_like': 274.95, 'pressure': 1023, 'humidity': 93, 'dew_point': 276.64, 'uvi': 0, 'clouds': 90, 'visibility': 6000, 'wind_speed': 1.86, 'wind_deg': 206, 'wind_gust': 2.71, 'weather': [{'id': 804, 'main': 'Clouds', 'description': 'overcast clouds', 'icon': '04n'}]}, 'minutely': [{'dt': 1616967120, 'precipitation': 0}, {'dt': 1616967180, 'precipitation': 0}, {'dt': 1616967240, 'precipitation': 0}, {'dt': 1616967300, 'precipitation': 0}, {'dt': 1616967360, 'precipitation': 0}, {'dt': 1616967420, 'precipitation': 0}, {'dt': 1616967480, 'precipitation': 0}, {'dt': 1616967540, 'precipitation': 0}, {'dt': 1616967600, 'precipitation': 0}, {'dt': 1616967660, 'precipitation': 0}, {'dt': 1616967720, 'precipitation': 0}, {'dt': 1616967780, 'precipitation': 0}, {'dt': 1616967840, 'precipitation': 0}, {'dt': 1616967900, 'precipitation': 0}, {'dt': 1616967960, 'precipitation': 0}, {'dt': 1616968020, 'precipitation': 0}, {'dt': 1616968080, 'precipitation': 0}, {'dt': 1616968140, 'precipitation': 0}, {'dt': 1616968200, 'precipitation': 0}, {'dt': 1616968260, 'precipitation': 0}, {'dt': 1616968320, 'precipitation': 0}, {'dt': 1616968380, 'precipitation': 0}, {'dt': 1616968440, 'precipitation': 0}, {'dt': 1616968500, 'precipitation': 0}, {'dt': 1616968560, 'precipitation': 0}, {'dt': 1616968620, 'precipitation': 0}, {'dt': 1616968680, 'precipitation': 0}, {'dt': 1616968740, 'precipitation': 0}, {'dt': 1616968800, 'precipitation': 0}, {'dt': 1616968860, 'precipitation': 0}, {'dt': 1616968920, 'precipitation': 0}, {'dt': 1616968980, 'precipitation': 0}, {'dt': 1616969040, 'precipitation': 0}, {'dt': 1616969100, 'precipitation': 0}, {'dt': 1616969160, 'precipitation': 0}, {'dt': 1616969220, 'precipitation': 0}, {'dt': 1616969280, 'precipitation': 0}, {'dt': 1616969340, 'precipitation': 0}, {'dt': 1616969400, 'precipitation': 0}, {'dt': 1616969460, 'precipitation': 0}, {'dt': 1616969520, 'precipitation': 0}, {'dt': 1616969580, 'precipitation': 0}, {'dt': 1616969640, 'precipitation': 0}, {'dt': 1616969700, 'precipitation': 0}, {'dt': 1616969760, 'precipitation': 0}, {'dt': 1616969820, 'precipitation': 0}, {'dt': 1616969880, 'precipitation': 0}, {'dt': 1616969940, 'precipitation': 0}, {'dt': 1616970000, 'precipitation': 0}, {'dt': 1616970060, 'precipitation': 0}, {'dt': 1616970120, 'precipitation': 0}, {'dt': 1616970180, 'precipitation': 0}, {'dt': 1616970240, 'precipitation': 0}, {'dt': 1616970300, 'precipitation': 0}, {'dt': 1616970360, 'precipitation': 0}, {'dt': 1616970420, 'precipitation': 0}, {'dt': 1616970480, 'precipitation': 0}, {'dt': 1616970540, 'precipitation': 0}, {'dt': 1616970600, 'precipitation': 0}, {'dt': 1616970660, 'precipitation': 0}, {'dt': 1616970720, 'precipitation': 0}], 'hourly': [{'dt': 1616965200, 'temp': 277.67, 'feels_like': 274.95, 'pressure': 1023, 'humidity': 93, 'dew_point': 276.64, 'uvi': 0, 'clouds': 90, 'visibility': 10000, 'wind_speed': 1.86, 'wind_deg': 206, 'wind_gust': 2.71, 'weather': [{'id': 804, 'main': 'Clouds', 'description': 'overcast clouds', 'icon': '04n'}], 'pop': 0.38}, {'dt': 1616968800, 'temp': 276.54, 'feels_like': 273.5, 'pressure': 1023, 'humidity': 95, 'dew_point': 275.82, 'uvi': 0, 'clouds': 93, 'visibility': 9852, 'wind_speed': 2.11, 'wind_deg': 204, 'wind_gust': 4.02, 'weather': [{'id': 804, 'main': 'Clouds', 'description': 'overcast clouds', 'icon': '04n'}], 'pop': 0.27}, {'dt': 1616972400, 'temp': 275.53, 'feels_like': 272.23, 'pressure': 1024, 'humidity': 95, 'dew_point': 274.81, 'uvi': 0, 'clouds': 93, 'visibility': 10000, 'wind_speed': 2.24, 'wind_deg': 184, 'wind_gust': 4.82, 'weather': [{'id': 804, 'main': 'Clouds', 'description': 'overcast clouds', 'icon': '04n'}], 'pop': 0.19}, {'dt': 1616976000, 'temp': 274.85, 'feels_like': 271.3, 'pressure': 1024, 'humidity': 95, 'dew_point': 274.14, 'uvi': 0, 'clouds': 87, 'visibility': 10000, 'wind_speed': 2.45, 'wind_deg': 186, 'wind_gust': 6.43, 'weather': [{'id': 804, 'main': 'Clouds', 'description': 'overcast clouds', 'icon': '04n'}], 'pop': 0.18}, {'dt': 1616979600, 'temp': 274.52, 'feels_like': 270.83, 'pressure': 1025, 'humidity': 93, 'dew_point': 273.51, 'uvi': 0, 'clouds': 42, 'visibility': 10000, 'wind_speed': 2.51, 'wind_deg': 189, 'wind_gust': 7.36, 'weather': [{'id': 802, 'main': 'Clouds', 'description': 'scattered clouds', 'icon': '03n'}], 'pop': 0}, {'dt': 1616983200, 'temp': 274.24, 'feels_like': 270.5, 'pressure': 1025, 'humidity': 93, 'dew_point': 273.19, 'uvi': 0, 'clouds': 48, 'visibility': 10000, 'wind_speed': 2.53, 'wind_deg': 191, 'wind_gust': 7.18, 'weather': [{'id': 802, 'main': 'Clouds', 'description': 'scattered clouds', 'icon': '03n'}], 'pop': 0}, {'dt': 1616986800, 'temp': 273.94, 'feels_like': 270.2, 'pressure': 1025, 'humidity': 92, 'dew_point': 272.84, 'uvi': 0, 'clouds': 49, 'visibility': 10000, 'wind_speed': 2.43, 'wind_deg': 180, 'wind_gust': 6.18, 'weather': [{'id': 802, 'main': 'Clouds', 'description': 'scattered clouds', 'icon': '03n'}], 'pop': 0}, {'dt': 1616990400, 'temp': 273.81, 'feels_like': 270.05, 'pressure': 1024, 'humidity': 92, 'dew_point': 272.67, 'uvi': 0, 'clouds': 43, 'visibility': 10000, 'wind_speed': 2.44, 'wind_deg': 178, 'wind_gust': 6.92, 'weather': [{'id': 802, 'main': 'Clouds', 'description': 'scattered clouds', 'icon': '03d'}], 'pop': 0}, {'dt': 1616994000, 'temp': 274.79, 'feels_like': 270.89, 'pressure': 1024, 'humidity': 89, 'dew_point': 273.15, 'uvi': 0.2, 'clouds': 36, 'visibility': 10000, 'wind_speed': 2.74, 'wind_deg': 181, 'wind_gust': 8.81, 'weather': [{'id': 802, 'main': 'Clouds', 'description': 'scattered clouds', 'icon': '03d'}], 'pop': 0}, {'dt': 1616997600, 'temp': 276.38, 'feels_like': 272.04, 'pressure': 1024, 'humidity': 82, 'dew_point': 273.65, 'uvi': 0.5, 'clouds': 31, 'visibility': 10000, 'wind_speed': 3.46, 'wind_deg': 185, 'wind_gust': 9.14, 'weather': [{'id': 802, 'main': 'Clouds', 'description': 'scattered clouds', 'icon': '03d'}], 'pop': 0}, {'dt': 1617001200, 'temp': 277.9, 'feels_like': 272.99, 'pressure': 1024, 'humidity': 72, 'dew_point': 273.34, 'uvi': 0.92, 'clouds': 6, 'visibility': 10000, 'wind_speed': 4.2, 'wind_deg': 190, 'wind_gust': 9.41, 'weather': [{'id': 800, 'main': 'Clear', 'description': 'clear sky', 'icon': '01d'}], 'pop': 0}, {'dt': 1617004800, 'temp': 279.24, 'feels_like': 273.87, 'pressure': 1024, 'humidity': 65, 'dew_point': 273.22, 'uvi': 1.36, 'clouds': 6, 'visibility': 10000, 'wind_speed': 4.84, 'wind_deg': 196, 'wind_gust': 9.44, 'weather': [{'id': 800, 'main': 'Clear', 'description': 'clear sky', 'icon': '01d'}], 'pop': 0}, {'dt': 1617008400, 'temp': 280.27, 'feels_like': 274.49, 'pressure': 1024, 'humidity': 59, 'dew_point': 272.76, 'uvi': 1.71, 'clouds': 5, 'visibility': 10000, 'wind_speed': 5.35, 'wind_deg': 198, 'wind_gust': 8.92, 'weather': [{'id': 800, 'main': 'Clear', 'description': 'clear sky', 'icon': '01d'}], 'pop': 0}, {'dt': 1617012000, 'temp': 281.07, 'feels_like': 275.01, 'pressure': 1024, 'humidity': 53, 'dew_point': 272.08, 'uvi': 1.88, 'clouds': 4, 'visibility': 10000, 'wind_speed': 5.61, 'wind_deg': 198, 'wind_gust': 9.03, 'weather': [{'id': 800, 'main': 'Clear', 'description': 'clear sky', 'icon': '01d'}], 'pop': 0}, {'dt': 1617015600, 'temp': 281.65, 'feels_like': 275.45, 'pressure': 1024, 'humidity': 50, 'dew_point': 272, 'uvi': 1.75, 'clouds': 3, 'visibility': 10000, 'wind_speed': 5.76, 'wind_deg': 197, 'wind_gust': 9.48, 'weather': [{'id': 800, 'main': 'Clear', 'description': 'clear sky', 'icon': '01d'}], 'pop': 0}, {'dt': 1617019200, 'temp': 281.97, 'feels_like': 275.84, 'pressure': 1023, 'humidity': 51, 'dew_point': 272.45, 'uvi': 1.39, 'clouds': 7, 'visibility': 10000, 'wind_speed': 5.77, 'wind_deg': 194, 'wind_gust': 9.86, 'weather': [{'id': 800, 'main': 'Clear', 'description': 'clear sky', 'icon': '01d'}], 'pop': 0}, {'dt': 1617022800, 'temp': 281.92, 'feels_like': 275.65, 'pressure': 1023, 'humidity': 51, 'dew_point': 272.52, 'uvi': 0.91, 'clouds': 17, 'visibility': 10000, 'wind_speed': 5.96, 'wind_deg': 193, 'wind_gust': 10.32, 'weather': [{'id': 801, 'main': 'Clouds', 'description': 'few clouds', 'icon': '02d'}], 'pop': 0}, {'dt': 1617026400, 'temp': 281.52, 'feels_like': 275.22, 'pressure': 1023, 'humidity': 54, 'dew_point': 272.74, 'uvi': 0.5, 'clouds': 28, 'visibility': 10000, 'wind_speed': 6.08, 'wind_deg': 191, 'wind_gust': 11.21, 'weather': [{'id': 802, 'main': 'Clouds', 'description': 'scattered clouds', 'icon': '03d'}], 'pop': 0}, {'dt': 1617030000, 'temp': 280.8, 'feels_like': 274.27, 'pressure': 1022, 'humidity': 56, 'dew_point': 272.57, 'uvi': 0.2, 'clouds': 49, 'visibility': 10000, 'wind_speed': 6.38, 'wind_deg': 191, 'wind_gust': 12.06, 'weather': [{'id': 802, 'main': 'Clouds', 'description': 'scattered clouds', 'icon': '03d'}], 'pop': 0}, {'dt': 1617033600, 'temp': 280.07, 'feels_like': 273.47, 'pressure': 1022, 'humidity': 58, 'dew_point': 272.53, 'uvi': 0, 'clouds': 62, 'visibility': 10000, 'wind_speed': 6.44, 'wind_deg': 191, 'wind_gust': 13.06, 'weather': [{'id': 803, 'main': 'Clouds', 'description': 'broken clouds', 'icon': '04d'}], 'pop': 0}, {'dt': 1617037200, 'temp': 279.62, 'feels_like': 272.9, 'pressure': 1021, 'humidity': 60, 'dew_point': 272.47, 'uvi': 0, 'clouds': 69, 'visibility': 10000, 'wind_speed': 6.61, 'wind_deg': 190, 'wind_gust': 14.19, 'weather': [{'id': 803, 'main': 'Clouds', 'description': 'broken clouds', 'icon': '04n'}], 'pop': 0}, {'dt': 1617040800, 'temp': 279.55, 'feels_like': 272.8, 'pressure': 1021, 'humidity': 61, 'dew_point': 272.64, 'uvi': 0, 'clouds': 75, 'visibility': 10000, 'wind_speed': 6.69, 'wind_deg': 194, 'wind_gust': 14.51, 'weather': [{'id': 803, 'main': 'Clouds', 'description': 'broken clouds', 'icon': '04n'}], 'pop': 0}, {'dt': 1617044400, 'temp': 279.53, 'feels_like': 272.52, 'pressure': 1020, 'humidity': 63, 'dew_point': 273.21, 'uvi': 0, 'clouds': 100, 'visibility': 10000, 'wind_speed': 7.15, 'wind_deg': 191, 'wind_gust': 15.11, 'weather': [{'id': 804, 'main': 'Clouds', 'description': 'overcast clouds', 'icon': '04n'}], 'pop': 0}, {'dt': 1617048000, 'temp': 279.43, 'feels_like': 272.42, 'pressure': 1019, 'humidity': 68, 'dew_point': 274, 'uvi': 0, 'clouds': 100, 'visibility': 10000, 'wind_speed': 7.35, 'wind_deg': 193, 'wind_gust': 15.39, 'weather': [{'id': 804, 'main': 'Clouds', 'description': 'overcast clouds', 'icon': '04n'}], 'pop': 0}, {'dt': 1617051600, 'temp': 279.52, 'feels_like': 272.18, 'pressure': 1018, 'humidity': 72, 'dew_point': 274.8, 'uvi': 0, 'clouds': 100, 'visibility': 10000, 'wind_speed': 8.03, 'wind_deg': 192, 'wind_gust': 15.74, 'weather': [{'id': 804, 'main': 'Clouds', 'description': 'overcast clouds', 'icon': '04n'}], 'pop': 0.15}, {'dt': 1617055200, 'temp': 279.37, 'feels_like': 272.27, 'pressure': 1017, 'humidity': 78, 'dew_point': 275.78, 'uvi': 0, 'clouds': 100, 'visibility': 10000, 'wind_speed': 7.92, 'wind_deg': 193, 'wind_gust': 16.3, 'weather': [{'id': 500, 'main': 'Rain', 'description': 'light rain', 'icon': '10n'}], 'pop': 0.44, 'rain': {'1h': 0.14}}, {'dt': 1617058800, 'temp': 279.12, 'feels_like': 272.25, 'pressure': 1016, 'humidity': 85, 'dew_point': 276.89, 'uvi': 0, 'clouds': 100, 'visibility': 10000, 'wind_speed': 7.84, 'wind_deg': 191, 'wind_gust': 16.77, 'weather': [{'id': 500, 'main': 'Rain', 'description': 'light rain', 'icon': '10n'}], 'pop': 0.81, 'rain': {'1h': 0.81}}, {'dt': 1617062400, 'temp': 279.34, 'feels_like': 272.75, 'pressure': 1015, 'humidity': 88, 'dew_point': 277.46, 'uvi': 0, 'clouds': 100, 'visibility': 10000, 'wind_speed': 7.62, 'wind_deg': 197, 'wind_gust': 16.94, 'weather': [{'id': 501, 'main': 'Rain', 'description': 'moderate rain', 'icon': '10n'}], 'pop': 1, 'rain': {'1h': 1.16}}, {'dt': 1617066000, 'temp': 279.74, 'feels_like': 273, 'pressure': 1014, 'humidity': 88, 'dew_point': 277.93, 'uvi': 0, 'clouds': 100, 'visibility': 10000, 'wind_speed': 7.95, 'wind_deg': 210, 'wind_gust': 16.97, 'weather': [{'id': 500, 'main': 'Rain', 'description': 'light rain', 'icon': '10n'}], 'pop': 1, 'rain': {'1h': 0.84}}, {'dt': 1617069600, 'temp': 279.81, 'feels_like': 273.08, 'pressure': 1014, 'humidity': 88, 'dew_point': 277.97, 'uvi': 0, 'clouds': 100, 'visibility': 10000, 'wind_speed': 7.96, 'wind_deg': 215, 'wind_gust': 16.34, 'weather': [{'id': 500, 'main': 'Rain', 'description': 'light rain', 'icon': '10n'}], 'pop': 0.98, 'rain': {'1h': 0.59}}, {'dt': 1617073200, 'temp': 279.77, 'feels_like': 273.24, 'pressure': 1013, 'humidity': 88, 'dew_point': 278.02, 'uvi': 0, 'clouds': 100, 'visibility': 10000, 'wind_speed': 7.66, 'wind_deg': 221, 'wind_gust': 15.18, 'weather': [{'id': 500, 'main': 'Rain', 'description': 'light rain', 'icon': '10n'}], 'pop': 0.98, 'rain': {'1h': 0.25}}, {'dt': 1617076800, 'temp': 279.59, 'feels_like': 273.53, 'pressure': 1013, 'humidity': 90, 'dew_point': 278.12, 'uvi': 0, 'clouds': 100, 'visibility': 10000, 'wind_speed': 7.03, 'wind_deg': 226, 'wind_gust': 14.16, 'weather': [{'id': 804, 'main': 'Clouds', 'description': 'overcast clouds', 'icon': '04d'}], 'pop': 0.75}, {'dt': 1617080400, 'temp': 279.46, 'feels_like': 273.96, 'pressure': 1013, 'humidity': 92, 'dew_point': 278.26, 'uvi': 0.05, 'clouds': 100, 'visibility': 10000, 'wind_speed': 6.28, 'wind_deg': 232, 'wind_gust': 13.29, 'weather': [{'id': 804, 'main': 'Clouds', 'description': 'overcast clouds', 'icon': '04d'}], 'pop': 0.72}, {'dt': 1617084000, 'temp': 279.31, 'feels_like': 274.42, 'pressure': 1014, 'humidity': 93, 'dew_point': 278.3, 'uvi': 0.13, 'clouds': 100, 'visibility': 10000, 'wind_speed': 5.41, 'wind_deg': 240, 'wind_gust': 12.67, 'weather': [{'id': 804, 'main': 'Clouds', 'description': 'overcast clouds', 'icon': '04d'}], 'pop': 0.89}, {'dt': 1617087600, 'temp': 279.25, 'feels_like': 274.7, 'pressure': 1014, 'humidity': 94, 'dew_point': 278.36, 'uvi': 0.27, 'clouds': 100, 'visibility': 10000, 'wind_speed': 4.96, 'wind_deg': 239, 'wind_gust': 12.12, 'weather': [{'id': 804, 'main': 'Clouds', 'description': 'overcast clouds', 'icon': '04d'}], 'pop': 0.11}, {'dt': 1617091200, 'temp': 279.28, 'feels_like': 274.89, 'pressure': 1014, 'humidity': 94, 'dew_point': 278.38, 'uvi': 0.4, 'clouds': 100, 'visibility': 10000, 'wind_speed': 4.74, 'wind_deg': 245, 'wind_gust': 11.85, 'weather': [{'id': 804, 'main': 'Clouds', 'description': 'overcast clouds', 'icon': '04d'}], 'pop': 0.07}, {'dt': 1617094800, 'temp': 279.28, 'feels_like': 274.84, 'pressure': 1014, 'humidity': 94, 'dew_point': 278.34, 'uvi': 0.5, 'clouds': 100, 'visibility': 10000, 'wind_speed': 4.8, 'wind_deg': 247, 'wind_gust': 11.93, 'weather': [{'id': 804, 'main': 'Clouds', 'description': 'overcast clouds', 'icon': '04d'}], 'pop': 0.08}, {'dt': 1617098400, 'temp': 279.32, 'feels_like': 275, 'pressure': 1014, 'humidity': 94, 'dew_point': 278.37, 'uvi': 0.67, 'clouds': 100, 'visibility': 10000, 'wind_speed': 4.64, 'wind_deg': 254, 'wind_gust': 12.09, 'weather': [{'id': 804, 'main': 'Clouds', 'description': 'overcast clouds', 'icon': '04d'}], 'pop': 0.04}, {'dt': 1617102000, 'temp': 279.23, 'feels_like': 275.06, 'pressure': 1014, 'humidity': 94, 'dew_point': 278.28, 'uvi': 0.63, 'clouds': 100, 'visibility': 9656, 'wind_speed': 4.41, 'wind_deg': 257, 'wind_gust': 11.99, 'weather': [{'id': 804, 'main': 'Clouds', 'description': 'overcast clouds', 'icon': '04d'}], 'pop': 0}, {'dt': 1617105600, 'temp': 279.43, 'feels_like': 275.62, 'pressure': 1014, 'humidity': 93, 'dew_point': 278.44, 'uvi': 0.5, 'clouds': 100, 'visibility': 9606, 'wind_speed': 3.91, 'wind_deg': 261, 'wind_gust': 11.19, 'weather': [{'id': 804, 'main': 'Clouds', 'description': 'overcast clouds', 'icon': '04d'}], 'pop': 0}, {'dt': 1617109200, 'temp': 279.28, 'feels_like': 275.53, 'pressure': 1014, 'humidity': 93, 'dew_point': 278.2, 'uvi': 0.4, 'clouds': 100, 'visibility': 9681, 'wind_speed': 3.78, 'wind_deg': 269, 'wind_gust': 10.32, 'weather': [{'id': 804, 'main': 'Clouds', 'description': 'overcast clouds', 'icon': '04d'}], 'pop': 0}, {'dt': 1617112800, 'temp': 278.82, 'feels_like': 275.24, 'pressure': 1013, 'humidity': 94, 'dew_point': 277.92, 'uvi': 0.22, 'clouds': 100, 'visibility': 8828, 'wind_speed': 3.45, 'wind_deg': 270, 'wind_gust': 10.19, 'weather': [{'id': 804, 'main': 'Clouds', 'description': 'overcast clouds', 'icon': '04d'}], 'pop': 0}, {'dt': 1617116400, 'temp': 278.34, 'feels_like': 274.56, 'pressure': 1013, 'humidity': 95, 'dew_point': 277.63, 'uvi': 0.09, 'clouds': 100, 'visibility': 6582, 'wind_speed': 3.64, 'wind_deg': 276, 'wind_gust': 10.46, 'weather': [{'id': 804, 'main': 'Clouds', 'description': 'overcast clouds', 'icon': '04d'}], 'pop': 0}, {'dt': 1617120000, 'temp': 278.09, 'feels_like': 274.16, 'pressure': 1013, 'humidity': 96, 'dew_point': 277.48, 'uvi': 0, 'clouds': 100, 'visibility': 7829, 'wind_speed': 3.82, 'wind_deg': 263, 'wind_gust': 10.97, 'weather': [{'id': 804, 'main': 'Clouds', 'description': 'overcast clouds', 'icon': '04d'}], 'pop': 0}, {'dt': 1617123600, 'temp': 278.24, 'feels_like': 274.22, 'pressure': 1013, 'humidity': 96, 'dew_point': 277.7, 'uvi': 0, 'clouds': 100, 'visibility': 6637, 'wind_speed': 4, 'wind_deg': 264, 'wind_gust': 11.37, 'weather': [{'id': 804, 'main': 'Clouds', 'description': 'overcast clouds', 'icon': '04n'}], 'pop': 0}, {'dt': 1617127200, 'temp': 277.51, 'feels_like': 272.76, 'pressure': 1014, 'humidity': 95, 'dew_point': 276.8, 'uvi': 0, 'clouds': 100, 'visibility': 6214, 'wind_speed': 4.8, 'wind_deg': 276, 'wind_gust': 11.25, 'weather': [{'id': 804, 'main': 'Clouds', 'description': 'overcast clouds', 'icon': '04n'}], 'pop': 0}, {'dt': 1617130800, 'temp': 276.82, 'feels_like': 272.32, 'pressure': 1014, 'humidity': 95, 'dew_point': 276.07, 'uvi': 0, 'clouds': 100, 'visibility': 6180, 'wind_speed': 4.27, 'wind_deg': 270, 'wind_gust': 10.73, 'weather': [{'id': 804, 'main': 'Clouds', 'description': 'overcast clouds', 'icon': '04n'}], 'pop': 0}, {'dt': 1617134400, 'temp': 276.21, 'feels_like': 271.52, 'pressure': 1014, 'humidity': 94, 'dew_point': 275.42, 'uvi': 0, 'clouds': 99, 'visibility': 6059, 'wind_speed': 4.35, 'wind_deg': 273, 'wind_gust': 9.23, 'weather': [{'id': 804, 'main': 'Clouds', 'description': 'overcast clouds', 'icon': '04n'}], 'pop': 0}], 'daily': [{'dt': 1617012000, 'sunrise': 1616988777, 'sunset': 1617035628, 'temp': {'day': 281.07, 'min': 273.81, 'max': 281.97, 'night': 279.43, 'eve': 280.07, 'morn': 273.81}, 'feels_like': {'day': 275.01, 'night': 272.42, 'eve': 273.47, 'morn': 270.05}, 'pressure': 1024, 'humidity': 53, 'dew_point': 272.08, 'wind_speed': 5.61, 'wind_deg': 198, 'weather': [{'id': 800, 'main': 'Clear', 'description': 'clear sky', 'icon': '01d'}], 'clouds': 4, 'pop': 0.38, 'uvi': 1.88}, {'dt': 1617098400, 'sunrise': 1617074994, 'sunset': 1617122173, 'temp': {'day': 279.32, 'min': 276.21, 'max': 279.81, 'night': 276.21, 'eve': 278.09, 'morn': 279.59}, 'feels_like': {'day': 275, 'night': 271.52, 'eve': 274.16, 'morn': 273.53}, 'pressure': 1014, 'humidity': 94, 'dew_point': 278.37, 'wind_speed': 4.64, 'wind_deg': 254, 'weather': [{'id': 501, 'main': 'Rain', 'description': 'moderate rain', 'icon': '10d'}], 'clouds': 100, 'pop': 1, 'rain': 3.79, 'uvi': 0.67}, {'dt': 1617184800, 'sunrise': 1617161212, 'sunset': 1617208718, 'temp': {'day': 275.78, 'min': 274.2, 'max': 277.86, 'night': 274.77, 'eve': 275.44, 'morn': 274.37}, 'feels_like': {'day': 273.78, 'night': 270.8, 'eve': 272.8, 'morn': 269.99}, 'pressure': 1009, 'humidity': 95, 'dew_point': 275.07, 'wind_speed': 0.45, 'wind_deg': 84, 'weather': [{'id': 500, 'main': 'Rain', 'description': 'light rain', 'icon': '10d'}], 'clouds': 100, 'pop': 0.92, 'rain': 2.43, 'uvi': 0.73}, {'dt': 1617271200, 'sunrise': 1617247430, 'sunset': 1617295263, 'temp': {'day': 278.84, 'min': 272.16, 'max': 280.08, 'night': 274.03, 'eve': 278.3, 'morn': 272.16}, 'feels_like': {'day': 274.28, 'night': 271.15, 'eve': 274.08, 'morn': 268.19}, 'pressure': 1007, 'humidity': 56, 'dew_point': 270.92, 'wind_speed': 3.22, 'wind_deg': 335, 'weather': [{'id': 804, 'main': 'Clouds', 'description': 'overcast clouds', 'icon': '04d'}], 'clouds': 95, 'pop': 0, 'uvi': 1.76}, {'dt': 1617357600, 'sunrise': 1617333648, 'sunset': 1617381809, 'temp': {'day': 277.98, 'min': 272.72, 'max': 278.59, 'night': 274.13, 'eve': 276.75, 'morn': 272.72}, 'feels_like': {'day': 273.29, 'night': 270.8, 'eve': 273.11, 'morn': 269.07}, 'pressure': 1006, 'humidity': 54, 'dew_point': 269.66, 'wind_speed': 3.18, 'wind_deg': 3, 'weather': [{'id': 600, 'main': 'Snow', 'description': 'light snow', 'icon': '13d'}], 'clouds': 35, 'pop': 0.2, 'snow': 0.15, 'uvi': 1.76}, {'dt': 1617444000, 'sunrise': 1617419867, 'sunset': 1617468354, 'temp': {'day': 274.82, 'min': 271.42, 'max': 274.82, 'night': 271.42, 'eve': 274.55, 'morn': 272.72}, 'feels_like': {'day': 269.65, 'night': 267.52, 'eve': 269.8, 'morn': 269.07}, 'pressure': 1010, 'humidity': 59, 'dew_point': 267.79, 'wind_speed': 3.58, 'wind_deg': 25, 'weather': [{'id': 804, 'main': 'Clouds', 'description': 'overcast clouds', 'icon': '04d'}], 'clouds': 99, 'pop': 0.03, 'uvi': 2}, {'dt': 1617530400, 'sunrise': 1617506085, 'sunset': 1617554899, 'temp': {'day': 275.23, 'min': 270.92, 'max': 275.98, 'night': 272.56, 'eve': 275.36, 'morn': 270.92}, 'feels_like': {'day': 270.94, 'night': 268.32, 'eve': 271.36, 'morn': 267.32}, 'pressure': 1013, 'humidity': 56, 'dew_point': 267.37, 'wind_speed': 2.28, 'wind_deg': 280, 'weather': [{'id': 803, 'main': 'Clouds', 'description': 'broken clouds', 'icon': '04d'}], 'clouds': 53, 'pop': 0, 'uvi': 2}, {'dt': 1617616800, 'sunrise': 1617592304, 'sunset': 1617641445, 'temp': {'day': 278.1, 'min': 272.95, 'max': 280.4, 'night': 277.5, 'eve': 279.4, 'morn': 273.14}, 'feels_like': {'day': 271.38, 'night': 270.11, 'eve': 271.86, 'morn': 266.85}, 'pressure': 996, 'humidity': 64, 'dew_point': 271.83, 'wind_speed': 6.5, 'wind_deg': 190, 'weather': [{'id': 804, 'main': 'Clouds', 'description': 'overcast clouds', 'icon': '04d'}], 'clouds': 97, 'pop': 0.16, 'uvi': 2}]}\n"
     ]
    }
   ],
   "source": [
    "import requests\n",
    "import os\n",
    "\n",
    "LATITUDE =  59.938480\n",
    "LONGITUDE = 30.312481\n",
    "\n",
    "api_key = \"9598fe56acff757ba215814cdbf622bd\"\n",
    "api_url = \"https://api.openweathermap.org/data/2.5/onecall\"\n",
    "params = {\n",
    "    \"lat\": LATITUDE,\n",
    "    \"lon\": LONGITUDE,\n",
    "    \"appid\": api_key\n",
    "}\n",
    "\n",
    "response = requests.get(api_url, params=params)\n",
    "\n",
    "data = response.json()\n",
    "print(data)"
   ]
  },
  {
   "cell_type": "code",
   "execution_count": 1,
   "metadata": {},
   "outputs": [],
   "source": [
    "\n",
    "import requests\n",
    "import os\n",
    "\n",
    "LATITUDE =  59.938480\n",
    "LONGITUDE = 30.312481\n",
    "\n",
    "api_key = \"9598fe56acff757ba215814cdbf622bd\"\n",
    "api_url = \"https://api.openweathermap.org/data/2.5/onecall\"\n",
    "params = {\n",
    "    \"lat\": LATITUDE,\n",
    "    \"lon\": LONGITUDE,\n",
    "    \"exclude\": \"current,minutely,daily,alerts\",\n",
    "    \"appid\": api_key\n",
    "}\n",
    "\n",
    "response = requests.get(api_url, params=params)\n",
    "response.raise_for_status()\n",
    "\n",
    "data = response.json()\n",
    "\n",
    "for hourly_data in data[\"hourly\"][:12]:\n",
    "    condition_code = hourly_data[\"weather\"][0][\"id\"]\n",
    "    if condition_code < 700:\n",
    "        print(\"Bring an umbrella.\")\n",
    "        break"
   ]
  },
  {
   "cell_type": "code",
   "execution_count": 5,
   "metadata": {},
   "outputs": [
    {
     "name": "stdout",
     "output_type": "stream",
     "text": [
      "queued\n"
     ]
    }
   ],
   "source": [
    "from twilio.rest import Client\n",
    "import os\n",
    "\n",
    "account_sid = \"AC179ff9833121c3a84abf707a49a8ecb8\"\n",
    "auth_token = \"10137707459abe9fe7acec20860b4cd5\"\n",
    "client = Client(account_sid, auth_token)\n",
    "\n",
    "twilio_number = \"+18655127387\"\n",
    "my_number = \"+79817375216\"\n",
    "\n",
    "message = client.messages.create(\n",
    "    body=\"This message was send from Python!!!\",\n",
    "    from_=twilio_number,\n",
    "    to=my_number\n",
    ")\n",
    "\n",
    "print(message.status)"
   ]
  },
  {
   "cell_type": "code",
   "execution_count": 39,
   "metadata": {
    "scrolled": true
   },
   "outputs": [
    {
     "name": "stdout",
     "output_type": "stream",
     "text": [
      "[59.9385, 30.3125, 'Europe/Moscow', 10800, [{'dt': 1616619600, 'temp': 276.86, 'feels_like': 271.11, 'pressure': 1012, 'humidity': 75, 'dew_point': 272.88, 'uvi': 0, 'clouds': 90, 'visibility': 10000, 'wind_speed': 5.32, 'wind_deg': 242, 'wind_gust': 12.64, 'weather': [{'id': 804, 'main': 'Clouds', 'description': 'overcast clouds', 'icon': '04n'}], 'pop': 0}, {'dt': 1616623200, 'temp': 276.6, 'feels_like': 271.18, 'pressure': 1012, 'humidity': 81, 'dew_point': 273.65, 'uvi': 0, 'clouds': 92, 'visibility': 10000, 'wind_speed': 5.01, 'wind_deg': 247, 'wind_gust': 12.29, 'weather': [{'id': 804, 'main': 'Clouds', 'description': 'overcast clouds', 'icon': '04n'}], 'pop': 0}, {'dt': 1616626800, 'temp': 276.29, 'feels_like': 271.21, 'pressure': 1012, 'humidity': 86, 'dew_point': 274.18, 'uvi': 0, 'clouds': 95, 'visibility': 10000, 'wind_speed': 4.65, 'wind_deg': 243, 'wind_gust': 11.75, 'weather': [{'id': 804, 'main': 'Clouds', 'description': 'overcast clouds', 'icon': '04n'}], 'pop': 0}, {'dt': 1616630400, 'temp': 275.97, 'feels_like': 271, 'pressure': 1012, 'humidity': 88, 'dew_point': 274.18, 'uvi': 0, 'clouds': 97, 'visibility': 10000, 'wind_speed': 4.49, 'wind_deg': 234, 'wind_gust': 11.12, 'weather': [{'id': 804, 'main': 'Clouds', 'description': 'overcast clouds', 'icon': '04n'}], 'pop': 0}, {'dt': 1616634000, 'temp': 275.61, 'feels_like': 270.74, 'pressure': 1011, 'humidity': 90, 'dew_point': 274.14, 'uvi': 0, 'clouds': 100, 'visibility': 10000, 'wind_speed': 4.34, 'wind_deg': 225, 'wind_gust': 10.6, 'weather': [{'id': 804, 'main': 'Clouds', 'description': 'overcast clouds', 'icon': '04n'}], 'pop': 0}, {'dt': 1616637600, 'temp': 275.4, 'feels_like': 270.74, 'pressure': 1011, 'humidity': 91, 'dew_point': 274.11, 'uvi': 0, 'clouds': 100, 'visibility': 10000, 'wind_speed': 4.02, 'wind_deg': 223, 'wind_gust': 10.24, 'weather': [{'id': 804, 'main': 'Clouds', 'description': 'overcast clouds', 'icon': '04n'}], 'pop': 0}, {'dt': 1616641200, 'temp': 275.28, 'feels_like': 270.85, 'pressure': 1011, 'humidity': 92, 'dew_point': 274.09, 'uvi': 0, 'clouds': 100, 'visibility': 10000, 'wind_speed': 3.7, 'wind_deg': 230, 'wind_gust': 10.1, 'weather': [{'id': 804, 'main': 'Clouds', 'description': 'overcast clouds', 'icon': '04n'}], 'pop': 0}, {'dt': 1616644800, 'temp': 275.2, 'feels_like': 270.89, 'pressure': 1011, 'humidity': 93, 'dew_point': 274.19, 'uvi': 0, 'clouds': 100, 'visibility': 10000, 'wind_speed': 3.54, 'wind_deg': 232, 'wind_gust': 9.65, 'weather': [{'id': 804, 'main': 'Clouds', 'description': 'overcast clouds', 'icon': '04d'}], 'pop': 0}, {'dt': 1616648400, 'temp': 275.33, 'feels_like': 271.13, 'pressure': 1011, 'humidity': 93, 'dew_point': 274.34, 'uvi': 0.1, 'clouds': 100, 'visibility': 10000, 'wind_speed': 3.42, 'wind_deg': 231, 'wind_gust': 9.29, 'weather': [{'id': 804, 'main': 'Clouds', 'description': 'overcast clouds', 'icon': '04d'}], 'pop': 0}, {'dt': 1616652000, 'temp': 275.54, 'feels_like': 271.39, 'pressure': 1011, 'humidity': 93, 'dew_point': 274.54, 'uvi': 0.26, 'clouds': 100, 'visibility': 10000, 'wind_speed': 3.39, 'wind_deg': 230, 'wind_gust': 9.27, 'weather': [{'id': 804, 'main': 'Clouds', 'description': 'overcast clouds', 'icon': '04d'}], 'pop': 0}, {'dt': 1616655600, 'temp': 275.81, 'feels_like': 271.67, 'pressure': 1011, 'humidity': 92, 'dew_point': 274.71, 'uvi': 0.51, 'clouds': 100, 'visibility': 10000, 'wind_speed': 3.41, 'wind_deg': 229, 'wind_gust': 8.89, 'weather': [{'id': 804, 'main': 'Clouds', 'description': 'overcast clouds', 'icon': '04d'}], 'pop': 0}, {'dt': 1616659200, 'temp': 276.27, 'feels_like': 272.25, 'pressure': 1011, 'humidity': 92, 'dew_point': 275.04, 'uvi': 0.78, 'clouds': 100, 'visibility': 10000, 'wind_speed': 3.34, 'wind_deg': 233, 'wind_gust': 8.87, 'weather': [{'id': 804, 'main': 'Clouds', 'description': 'overcast clouds', 'icon': '04d'}], 'pop': 0}, {'dt': 1616662800, 'temp': 277.22, 'feels_like': 273.08, 'pressure': 1011, 'humidity': 90, 'dew_point': 275.67, 'uvi': 0.98, 'clouds': 100, 'visibility': 10000, 'wind_speed': 3.67, 'wind_deg': 240, 'wind_gust': 8.36, 'weather': [{'id': 804, 'main': 'Clouds', 'description': 'overcast clouds', 'icon': '04d'}], 'pop': 0}, {'dt': 1616666400, 'temp': 277.12, 'feels_like': 273.21, 'pressure': 1011, 'humidity': 91, 'dew_point': 275.9, 'uvi': 0.8, 'clouds': 100, 'visibility': 10000, 'wind_speed': 3.35, 'wind_deg': 235, 'wind_gust': 9.01, 'weather': [{'id': 804, 'main': 'Clouds', 'description': 'overcast clouds', 'icon': '04d'}], 'pop': 0}, {'dt': 1616670000, 'temp': 277.22, 'feels_like': 273.12, 'pressure': 1011, 'humidity': 91, 'dew_point': 275.95, 'uvi': 0.74, 'clouds': 100, 'visibility': 10000, 'wind_speed': 3.64, 'wind_deg': 229, 'wind_gust': 9.42, 'weather': [{'id': 804, 'main': 'Clouds', 'description': 'overcast clouds', 'icon': '04d'}], 'pop': 0}, {'dt': 1616673600, 'temp': 277.04, 'feels_like': 272.9, 'pressure': 1011, 'humidity': 92, 'dew_point': 275.94, 'uvi': 0.59, 'clouds': 100, 'visibility': 10000, 'wind_speed': 3.7, 'wind_deg': 233, 'wind_gust': 9.48, 'weather': [{'id': 804, 'main': 'Clouds', 'description': 'overcast clouds', 'icon': '04d'}], 'pop': 0}, {'dt': 1616677200, 'temp': 278.12, 'feels_like': 273.92, 'pressure': 1011, 'humidity': 89, 'dew_point': 276.56, 'uvi': 0.63, 'clouds': 100, 'visibility': 10000, 'wind_speed': 3.94, 'wind_deg': 237, 'wind_gust': 9.4, 'weather': [{'id': 804, 'main': 'Clouds', 'description': 'overcast clouds', 'icon': '04d'}], 'pop': 0}, {'dt': 1616680800, 'temp': 277.57, 'feels_like': 273.16, 'pressure': 1012, 'humidity': 90, 'dew_point': 276.18, 'uvi': 0.33, 'clouds': 100, 'visibility': 10000, 'wind_speed': 4.13, 'wind_deg': 238, 'wind_gust': 9.48, 'weather': [{'id': 804, 'main': 'Clouds', 'description': 'overcast clouds', 'icon': '04d'}], 'pop': 0}, {'dt': 1616684400, 'temp': 277.32, 'feels_like': 272.72, 'pressure': 1012, 'humidity': 89, 'dew_point': 275.67, 'uvi': 0.13, 'clouds': 100, 'visibility': 10000, 'wind_speed': 4.31, 'wind_deg': 238, 'wind_gust': 9.97, 'weather': [{'id': 804, 'main': 'Clouds', 'description': 'overcast clouds', 'icon': '04d'}], 'pop': 0}, {'dt': 1616688000, 'temp': 277.15, 'feels_like': 272.48, 'pressure': 1012, 'humidity': 87, 'dew_point': 275.19, 'uvi': 0, 'clouds': 100, 'visibility': 10000, 'wind_speed': 4.29, 'wind_deg': 241, 'wind_gust': 10.37, 'weather': [{'id': 804, 'main': 'Clouds', 'description': 'overcast clouds', 'icon': '04d'}], 'pop': 0}, {'dt': 1616691600, 'temp': 277.22, 'feels_like': 272.15, 'pressure': 1012, 'humidity': 82, 'dew_point': 274.45, 'uvi': 0, 'clouds': 100, 'visibility': 10000, 'wind_speed': 4.69, 'wind_deg': 255, 'wind_gust': 10.71, 'weather': [{'id': 804, 'main': 'Clouds', 'description': 'overcast clouds', 'icon': '04n'}], 'pop': 0}, {'dt': 1616695200, 'temp': 276.4, 'feels_like': 271.38, 'pressure': 1013, 'humidity': 84, 'dew_point': 273.91, 'uvi': 0, 'clouds': 95, 'visibility': 10000, 'wind_speed': 4.51, 'wind_deg': 261, 'wind_gust': 11.39, 'weather': [{'id': 804, 'main': 'Clouds', 'description': 'overcast clouds', 'icon': '04n'}], 'pop': 0}, {'dt': 1616698800, 'temp': 275.64, 'feels_like': 270.72, 'pressure': 1013, 'humidity': 84, 'dew_point': 273.26, 'uvi': 0, 'clouds': 54, 'visibility': 10000, 'wind_speed': 4.2, 'wind_deg': 267, 'wind_gust': 11.25, 'weather': [{'id': 803, 'main': 'Clouds', 'description': 'broken clouds', 'icon': '04n'}], 'pop': 0}, {'dt': 1616702400, 'temp': 274.48, 'feels_like': 270.11, 'pressure': 1014, 'humidity': 88, 'dew_point': 272.75, 'uvi': 0, 'clouds': 47, 'visibility': 10000, 'wind_speed': 3.31, 'wind_deg': 268, 'wind_gust': 9.65, 'weather': [{'id': 802, 'main': 'Clouds', 'description': 'scattered clouds', 'icon': '03n'}], 'pop': 0}, {'dt': 1616706000, 'temp': 273.45, 'feels_like': 269.37, 'pressure': 1014, 'humidity': 92, 'dew_point': 272.37, 'uvi': 0, 'clouds': 44, 'visibility': 10000, 'wind_speed': 2.82, 'wind_deg': 263, 'wind_gust': 8.37, 'weather': [{'id': 802, 'main': 'Clouds', 'description': 'scattered clouds', 'icon': '03n'}], 'pop': 0}, {'dt': 1616709600, 'temp': 273.51, 'feels_like': 269.48, 'pressure': 1015, 'humidity': 92, 'dew_point': 272.43, 'uvi': 0, 'clouds': 47, 'visibility': 10000, 'wind_speed': 2.76, 'wind_deg': 258, 'wind_gust': 7.65, 'weather': [{'id': 802, 'main': 'Clouds', 'description': 'scattered clouds', 'icon': '03n'}], 'pop': 0}, {'dt': 1616713200, 'temp': 272.82, 'feels_like': 268.92, 'pressure': 1015, 'humidity': 94, 'dew_point': 271.97, 'uvi': 0, 'clouds': 44, 'visibility': 10000, 'wind_speed': 2.5, 'wind_deg': 255, 'wind_gust': 7.54, 'weather': [{'id': 802, 'main': 'Clouds', 'description': 'scattered clouds', 'icon': '03n'}], 'pop': 0}, {'dt': 1616716800, 'temp': 272.16, 'feels_like': 268.52, 'pressure': 1016, 'humidity': 96, 'dew_point': 271.57, 'uvi': 0, 'clouds': 38, 'visibility': 10000, 'wind_speed': 2.05, 'wind_deg': 255, 'wind_gust': 6.28, 'weather': [{'id': 802, 'main': 'Clouds', 'description': 'scattered clouds', 'icon': '03n'}], 'pop': 0}, {'dt': 1616720400, 'temp': 272.02, 'feels_like': 268.41, 'pressure': 1016, 'humidity': 96, 'dew_point': 271.56, 'uvi': 0, 'clouds': 55, 'visibility': 10000, 'wind_speed': 1.98, 'wind_deg': 254, 'wind_gust': 5.98, 'weather': [{'id': 803, 'main': 'Clouds', 'description': 'broken clouds', 'icon': '04n'}], 'pop': 0}, {'dt': 1616724000, 'temp': 272.38, 'feels_like': 268.92, 'pressure': 1016, 'humidity': 97, 'dew_point': 271.94, 'uvi': 0, 'clouds': 77, 'visibility': 10000, 'wind_speed': 1.87, 'wind_deg': 252, 'wind_gust': 5.59, 'weather': [{'id': 803, 'main': 'Clouds', 'description': 'broken clouds', 'icon': '04n'}], 'pop': 0}, {'dt': 1616727600, 'temp': 272.45, 'feels_like': 269.09, 'pressure': 1016, 'humidity': 97, 'dew_point': 271.99, 'uvi': 0, 'clouds': 85, 'visibility': 10000, 'wind_speed': 1.74, 'wind_deg': 244, 'wind_gust': 4.55, 'weather': [{'id': 804, 'main': 'Clouds', 'description': 'overcast clouds', 'icon': '04n'}], 'pop': 0}, {'dt': 1616731200, 'temp': 272.38, 'feels_like': 269.18, 'pressure': 1016, 'humidity': 97, 'dew_point': 271.96, 'uvi': 0, 'clouds': 89, 'visibility': 10000, 'wind_speed': 1.49, 'wind_deg': 240, 'wind_gust': 3.63, 'weather': [{'id': 804, 'main': 'Clouds', 'description': 'overcast clouds', 'icon': '04d'}], 'pop': 0}, {'dt': 1616734800, 'temp': 273.17, 'feels_like': 269.9, 'pressure': 1017, 'humidity': 95, 'dew_point': 272.51, 'uvi': 0.19, 'clouds': 91, 'visibility': 10000, 'wind_speed': 1.7, 'wind_deg': 245, 'wind_gust': 4.35, 'weather': [{'id': 804, 'main': 'Clouds', 'description': 'overcast clouds', 'icon': '04d'}], 'pop': 0}, {'dt': 1616738400, 'temp': 274.24, 'feels_like': 270.94, 'pressure': 1017, 'humidity': 91, 'dew_point': 272.97, 'uvi': 0.48, 'clouds': 92, 'visibility': 10000, 'wind_speed': 1.84, 'wind_deg': 241, 'wind_gust': 3.52, 'weather': [{'id': 804, 'main': 'Clouds', 'description': 'overcast clouds', 'icon': '04d'}], 'pop': 0}, {'dt': 1616742000, 'temp': 275.51, 'feels_like': 272.21, 'pressure': 1018, 'humidity': 85, 'dew_point': 273.31, 'uvi': 0.78, 'clouds': 85, 'visibility': 10000, 'wind_speed': 1.9, 'wind_deg': 236, 'wind_gust': 3.08, 'weather': [{'id': 804, 'main': 'Clouds', 'description': 'overcast clouds', 'icon': '04d'}], 'pop': 0}, {'dt': 1616745600, 'temp': 276.71, 'feels_like': 273.22, 'pressure': 1018, 'humidity': 80, 'dew_point': 273.65, 'uvi': 1.17, 'clouds': 77, 'visibility': 10000, 'wind_speed': 2.24, 'wind_deg': 230, 'wind_gust': 3.45, 'weather': [{'id': 803, 'main': 'Clouds', 'description': 'broken clouds', 'icon': '04d'}], 'pop': 0}, {'dt': 1616749200, 'temp': 277.68, 'feels_like': 274.19, 'pressure': 1018, 'humidity': 76, 'dew_point': 273.86, 'uvi': 1.46, 'clouds': 81, 'visibility': 10000, 'wind_speed': 2.29, 'wind_deg': 221, 'wind_gust': 3.43, 'weather': [{'id': 803, 'main': 'Clouds', 'description': 'broken clouds', 'icon': '04d'}], 'pop': 0}, {'dt': 1616752800, 'temp': 278.01, 'feels_like': 274.31, 'pressure': 1018, 'humidity': 76, 'dew_point': 274.17, 'uvi': 0.83, 'clouds': 86, 'visibility': 10000, 'wind_speed': 2.66, 'wind_deg': 224, 'wind_gust': 3.75, 'weather': [{'id': 804, 'main': 'Clouds', 'description': 'overcast clouds', 'icon': '04d'}], 'pop': 0.06}, {'dt': 1616756400, 'temp': 276.95, 'feels_like': 273.58, 'pressure': 1019, 'humidity': 90, 'dew_point': 275.41, 'uvi': 0.77, 'clouds': 89, 'visibility': 4516, 'wind_speed': 2.5, 'wind_deg': 223, 'wind_gust': 3.87, 'weather': [{'id': 500, 'main': 'Rain', 'description': 'light rain', 'icon': '10d'}], 'pop': 0.37, 'rain': {'1h': 0.23}}, {'dt': 1616760000, 'temp': 276.32, 'feels_like': 273.58, 'pressure': 1019, 'humidity': 97, 'dew_point': 275.82, 'uvi': 0.62, 'clouds': 90, 'visibility': 2518, 'wind_speed': 1.7, 'wind_deg': 201, 'wind_gust': 4.63, 'weather': [{'id': 500, 'main': 'Rain', 'description': 'light rain', 'icon': '10d'}], 'pop': 0.23, 'rain': {'1h': 0.14}}, {'dt': 1616763600, 'temp': 276.21, 'feels_like': 273.51, 'pressure': 1019, 'humidity': 96, 'dew_point': 275.57, 'uvi': 0.32, 'clouds': 100, 'visibility': 7693, 'wind_speed': 1.59, 'wind_deg': 187, 'wind_gust': 4.69, 'weather': [{'id': 804, 'main': 'Clouds', 'description': 'overcast clouds', 'icon': '04d'}], 'pop': 0.36}, {'dt': 1616767200, 'temp': 276.25, 'feels_like': 273.62, 'pressure': 1019, 'humidity': 96, 'dew_point': 275.68, 'uvi': 0.18, 'clouds': 100, 'visibility': 10000, 'wind_speed': 1.5, 'wind_deg': 183, 'wind_gust': 3.38, 'weather': [{'id': 804, 'main': 'Clouds', 'description': 'overcast clouds', 'icon': '04d'}], 'pop': 0.51}, {'dt': 1616770800, 'temp': 276.18, 'feels_like': 273.37, 'pressure': 1019, 'humidity': 96, 'dew_point': 275.69, 'uvi': 0.07, 'clouds': 100, 'visibility': 10000, 'wind_speed': 1.74, 'wind_deg': 195, 'wind_gust': 2.95, 'weather': [{'id': 804, 'main': 'Clouds', 'description': 'overcast clouds', 'icon': '04d'}], 'pop': 0.58}, {'dt': 1616774400, 'temp': 275.98, 'feels_like': 273.17, 'pressure': 1019, 'humidity': 96, 'dew_point': 275.46, 'uvi': 0, 'clouds': 100, 'visibility': 10000, 'wind_speed': 1.68, 'wind_deg': 202, 'wind_gust': 2.28, 'weather': [{'id': 804, 'main': 'Clouds', 'description': 'overcast clouds', 'icon': '04d'}], 'pop': 0.54}, {'dt': 1616778000, 'temp': 275.76, 'feels_like': 272.91, 'pressure': 1019, 'humidity': 96, 'dew_point': 275.21, 'uvi': 0, 'clouds': 100, 'visibility': 10000, 'wind_speed': 1.69, 'wind_deg': 208, 'wind_gust': 2.05, 'weather': [{'id': 804, 'main': 'Clouds', 'description': 'overcast clouds', 'icon': '04n'}], 'pop': 0.5}, {'dt': 1616781600, 'temp': 275.73, 'feels_like': 272.9, 'pressure': 1019, 'humidity': 96, 'dew_point': 275.16, 'uvi': 0, 'clouds': 100, 'visibility': 10000, 'wind_speed': 1.66, 'wind_deg': 208, 'wind_gust': 1.92, 'weather': [{'id': 804, 'main': 'Clouds', 'description': 'overcast clouds', 'icon': '04n'}], 'pop': 0.41}, {'dt': 1616785200, 'temp': 275.65, 'feels_like': 272.92, 'pressure': 1020, 'humidity': 95, 'dew_point': 274.99, 'uvi': 0, 'clouds': 100, 'visibility': 10000, 'wind_speed': 1.46, 'wind_deg': 200, 'wind_gust': 1.49, 'weather': [{'id': 804, 'main': 'Clouds', 'description': 'overcast clouds', 'icon': '04n'}], 'pop': 0}, {'dt': 1616788800, 'temp': 275.66, 'feels_like': 272.8, 'pressure': 1020, 'humidity': 94, 'dew_point': 274.88, 'uvi': 0, 'clouds': 100, 'visibility': 10000, 'wind_speed': 1.61, 'wind_deg': 194, 'wind_gust': 1.62, 'weather': [{'id': 804, 'main': 'Clouds', 'description': 'overcast clouds', 'icon': '04n'}], 'pop': 0}]]\n"
     ]
    }
   ],
   "source": [
    "import os\n",
    "import requests\n",
    "from datetime import datetime, timedelta\n",
    "\n",
    "# today = datetime.now()\n",
    "\n",
    "\n",
    "# def get_previous_date(date):\n",
    "#     if date.weekday() == 0:\n",
    "#         return date - timedelta(days=3)\n",
    "#     elif date.weekday() == 6:\n",
    "#         return date - timedelta(days=2)\n",
    "#     return date - timedelta(days=1)\n",
    "\n",
    "\n",
    "# day = get_previous_date(today)\n",
    "# last_date = f'{day.year}-{day.month}-{day.day}'\n",
    "# day = get_previous_date(day)\n",
    "# before_last_date = f'{day.year}-{day.month}-{day.day}'\n",
    "# today = f'{today.year}-{today.month}-{today.day}'\n",
    "\n",
    "STOCK = \"TSLA\"\n",
    "COMPANY_NAME = \"Tesla Inc\"\n",
    "ALPHAVANTAGE_URL = \"https://www.alphavantage.co/query\"\n",
    "\n",
    "stock_params = {\n",
    "    \"function\": \"TIME_SERIES_DAILY\",\n",
    "    \"symbol\": STOCK,\n",
    "#     \"outputsize\": \"compact\",\n",
    "    \"apikey\": \"C3D7VGD1S1RE9B30\",\n",
    "}\n",
    "\n",
    "response = requests.get(ALPHAVANTAGE_URL, params=stock_params)\n",
    "# response.raise_for_status()\n",
    "stock_data = response.json()[\"Time Series (Daily)\"]\n",
    "data_list = [value for (key, value) in data.items()]\n",
    "yesterday_data = data_list[0]\n",
    "# yesterday_closing_price = yesterday_data[\"4.close\"]\n",
    "print(data_list)\n",
    "# close_yesterday = float(stock_data[\"Time Series (Daily)\"][last_date][\"4. close\"])\n",
    "# close_today = float(stock_data[\"Time Series (Daily)\"][before_last_date][\"4. close\"])\n",
    "# abs_percentage = abs((close_today - close_yesterday) * 100 / close_yesterday)\n",
    "# if abs_percentage >= 5:\n",
    "#     print(\"Get News\")"
   ]
  },
  {
   "cell_type": "code",
   "execution_count": 20,
   "metadata": {},
   "outputs": [],
   "source": [
    "import requests\n",
    "import os\n",
    "from twilio.rest import Client\n",
    "\n",
    "account_sid = \"AC179ff9833121c3a84abf707a49a8ecb8\"\n",
    "auth_token = \"10137707459abe9fe7acec20860b4cd5\"\n",
    "client = Client(account_sid, auth_token)\n",
    "twilio_number = \"+18655127387\"\n",
    "my_number = \"+79817375216\"\n",
    "\n",
    "LATITUDE =  59.938480\n",
    "LONGITUDE = 30.312481\n",
    "\n",
    "api_key = \"9598fe56acff757ba215814cdbf622bd\"\n",
    "api_url = \"https://api.openweathermap.org/data/2.5/onecall\"\n",
    "params = {\n",
    "    \"lat\": LATITUDE,\n",
    "    \"lon\": LONGITUDE,\n",
    "    \"exclude\": \"current,minutely,daily,alerts\",\n",
    "    \"appid\": api_key\n",
    "}\n",
    "\n",
    "response = requests.get(api_url, params=params)\n",
    "response.raise_for_status()\n",
    "\n",
    "data = response.json()\n",
    "\n",
    "for hourly_data in data[\"hourly\"][:12]:\n",
    "    condition_code = hourly_data[\"weather\"][0][\"id\"]\n",
    "    if condition_code < 700:\n",
    "        message = client.messages.create(\n",
    "            body=\"It's gonna rain! Don't forget to bring an ☔\",\n",
    "            from_=twilio_number,\n",
    "            to=my_number\n",
    "        )\n",
    "        break"
   ]
  },
  {
   "cell_type": "code",
   "execution_count": null,
   "metadata": {},
   "outputs": [],
   "source": []
  }
 ],
 "metadata": {
  "kernelspec": {
   "display_name": "Python 3",
   "language": "python",
   "name": "python3"
  },
  "language_info": {
   "codemirror_mode": {
    "name": "ipython",
    "version": 3
   },
   "file_extension": ".py",
   "mimetype": "text/x-python",
   "name": "python",
   "nbconvert_exporter": "python",
   "pygments_lexer": "ipython3",
   "version": "3.8.5"
  }
 },
 "nbformat": 4,
 "nbformat_minor": 4
}
